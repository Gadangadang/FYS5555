{
 "cells": [
  {
   "cell_type": "markdown",
   "id": "constant-finder",
   "metadata": {},
   "source": [
    "# Deplyment of semi unsupervised learning on ATLAS OpenData\n",
    "### Testing of reading in data and trying an auto encoder\n",
    "Remember to install the necessary api's for usage in Galaxy"
   ]
  },
  {
   "cell_type": "code",
   "execution_count": 1,
   "id": "increasing-gambling",
   "metadata": {},
   "outputs": [
    {
     "name": "stdout",
     "output_type": "stream",
     "text": [
      "\u001b[33mWARNING: The directory '/home/jovyan/.cache/pip' or its parent directory is not owned or is not writable by the current user. The cache has been disabled. Check the permissions and owner of that directory. If executing pip with sudo, you should use sudo's -H flag.\u001b[0m\u001b[33m\n",
      "\u001b[0mDefaulting to user installation because normal site-packages is not writeable\n",
      "Requirement already satisfied: pip in /home/jovyan/.local/lib/python3.8/site-packages (22.0.4)\n",
      "\u001b[33mWARNING: Running pip as the 'root' user can result in broken permissions and conflicting behaviour with the system package manager. It is recommended to use a virtual environment instead: https://pip.pypa.io/warnings/venv\u001b[0m\u001b[33m\n",
      "\u001b[0m"
     ]
    }
   ],
   "source": [
    "!pip install --upgrade pip"
   ]
  },
  {
   "cell_type": "code",
   "execution_count": 2,
   "id": "alike-theater",
   "metadata": {},
   "outputs": [
    {
     "name": "stdout",
     "output_type": "stream",
     "text": [
      "\u001b[33mWARNING: The directory '/home/jovyan/.cache/pip' or its parent directory is not owned or is not writable by the current user. The cache has been disabled. Check the permissions and owner of that directory. If executing pip with sudo, you should use sudo's -H flag.\u001b[0m\u001b[33m\n",
      "\u001b[0mDefaulting to user installation because normal site-packages is not writeable\n",
      "Requirement already satisfied: keras-tuner in /home/jovyan/.local/lib/python3.8/site-packages (1.1.2)\n",
      "Requirement already satisfied: requests in /storage/software/easybuild/software/Python/3.8.6-GCCcore-10.2.0/lib/python3.8/site-packages (from keras-tuner) (2.24.0)\n",
      "Requirement already satisfied: numpy in /storage/software/easybuild/software/SciPy-bundle/2020.11-fosscuda-2020b/lib/python3.8/site-packages (from keras-tuner) (1.19.4)\n",
      "Requirement already satisfied: ipython in /home/jovyan/.local/lib/python3.8/site-packages (from keras-tuner) (8.3.0)\n",
      "Requirement already satisfied: kt-legacy in /home/jovyan/.local/lib/python3.8/site-packages (from keras-tuner) (1.0.4)\n",
      "Requirement already satisfied: tensorboard in /storage/software/easybuild/software/TensorFlow/2.5.0-fosscuda-2020b/lib/python3.8/site-packages (from keras-tuner) (2.5.0)\n",
      "Requirement already satisfied: packaging in /storage/software/easybuild/software/Python/3.8.6-GCCcore-10.2.0/lib/python3.8/site-packages (from keras-tuner) (20.4)\n",
      "Requirement already satisfied: matplotlib-inline in /home/jovyan/.local/lib/python3.8/site-packages (from ipython->keras-tuner) (0.1.3)\n",
      "Requirement already satisfied: decorator in /storage/software/easybuild/software/Python/3.8.6-GCCcore-10.2.0/lib/python3.8/site-packages (from ipython->keras-tuner) (4.4.2)\n",
      "Requirement already satisfied: pickleshare in /home/jovyan/.local/lib/python3.8/site-packages (from ipython->keras-tuner) (0.7.5)\n",
      "Requirement already satisfied: traitlets>=5 in /home/jovyan/.local/lib/python3.8/site-packages (from ipython->keras-tuner) (5.1.1)\n",
      "Requirement already satisfied: backcall in /home/jovyan/.local/lib/python3.8/site-packages (from ipython->keras-tuner) (0.2.0)\n",
      "Requirement already satisfied: pexpect>4.3 in /storage/software/easybuild/software/Python/3.8.6-GCCcore-10.2.0/lib/python3.8/site-packages (from ipython->keras-tuner) (4.8.0)\n",
      "Requirement already satisfied: stack-data in /home/jovyan/.local/lib/python3.8/site-packages (from ipython->keras-tuner) (0.2.0)\n",
      "Requirement already satisfied: jedi>=0.16 in /home/jovyan/.local/lib/python3.8/site-packages (from ipython->keras-tuner) (0.18.1)\n",
      "Requirement already satisfied: prompt-toolkit!=3.0.0,!=3.0.1,<3.1.0,>=2.0.0 in /home/jovyan/.local/lib/python3.8/site-packages (from ipython->keras-tuner) (3.0.29)\n",
      "Requirement already satisfied: setuptools>=18.5 in /storage/software/easybuild/software/Python/3.8.6-GCCcore-10.2.0/lib/python3.8/site-packages (from ipython->keras-tuner) (50.3.0)\n",
      "Requirement already satisfied: pygments>=2.4.0 in /storage/software/easybuild/software/Python/3.8.6-GCCcore-10.2.0/lib/python3.8/site-packages (from ipython->keras-tuner) (2.7.1)\n",
      "Requirement already satisfied: six in /storage/software/easybuild/software/Python/3.8.6-GCCcore-10.2.0/lib/python3.8/site-packages (from packaging->keras-tuner) (1.15.0)\n",
      "Requirement already satisfied: pyparsing>=2.0.2 in /storage/software/easybuild/software/Python/3.8.6-GCCcore-10.2.0/lib/python3.8/site-packages (from packaging->keras-tuner) (2.4.7)\n",
      "Requirement already satisfied: certifi>=2017.4.17 in /storage/software/easybuild/software/Python/3.8.6-GCCcore-10.2.0/lib/python3.8/site-packages (from requests->keras-tuner) (2020.6.20)\n",
      "Requirement already satisfied: idna<3,>=2.5 in /storage/software/easybuild/software/Python/3.8.6-GCCcore-10.2.0/lib/python3.8/site-packages (from requests->keras-tuner) (2.10)\n",
      "Requirement already satisfied: chardet<4,>=3.0.2 in /storage/software/easybuild/software/Python/3.8.6-GCCcore-10.2.0/lib/python3.8/site-packages (from requests->keras-tuner) (3.0.4)\n",
      "Requirement already satisfied: urllib3!=1.25.0,!=1.25.1,<1.26,>=1.21.1 in /storage/software/easybuild/software/Python/3.8.6-GCCcore-10.2.0/lib/python3.8/site-packages (from requests->keras-tuner) (1.25.10)\n",
      "Requirement already satisfied: werkzeug>=0.11.15 in /storage/software/easybuild/software/TensorFlow/2.5.0-fosscuda-2020b/lib/python3.8/site-packages (from tensorboard->keras-tuner) (2.0.0)\n",
      "Requirement already satisfied: tensorboard-data-server<0.7.0,>=0.6.0 in /storage/software/easybuild/software/TensorFlow/2.5.0-fosscuda-2020b/lib/python3.8/site-packages (from tensorboard->keras-tuner) (0.6.1)\n",
      "Requirement already satisfied: protobuf>=3.6.0 in /storage/software/easybuild/software/protobuf-python/3.14.0-GCCcore-10.2.0/lib/python3.8/site-packages (from tensorboard->keras-tuner) (3.14.0)\n",
      "Requirement already satisfied: absl-py>=0.4 in /storage/software/easybuild/software/TensorFlow/2.5.0-fosscuda-2020b/lib/python3.8/site-packages (from tensorboard->keras-tuner) (0.12.0)\n",
      "Requirement already satisfied: google-auth-oauthlib<0.5,>=0.4.1 in /storage/software/easybuild/software/TensorFlow/2.5.0-fosscuda-2020b/lib/python3.8/site-packages (from tensorboard->keras-tuner) (0.4.4)\n",
      "Requirement already satisfied: tensorboard-plugin-wit>=1.6.0 in /storage/software/easybuild/software/TensorFlow/2.5.0-fosscuda-2020b/lib/python3.8/site-packages (from tensorboard->keras-tuner) (1.8.0)\n",
      "Requirement already satisfied: grpcio>=1.24.3 in /storage/software/easybuild/software/TensorFlow/2.5.0-fosscuda-2020b/lib/python3.8/site-packages (from tensorboard->keras-tuner) (1.34.1)\n",
      "Requirement already satisfied: wheel>=0.26 in /storage/software/easybuild/software/Python/3.8.6-GCCcore-10.2.0/lib/python3.8/site-packages (from tensorboard->keras-tuner) (0.35.1)\n",
      "Requirement already satisfied: google-auth<2,>=1.6.3 in /storage/software/easybuild/software/TensorFlow/2.5.0-fosscuda-2020b/lib/python3.8/site-packages (from tensorboard->keras-tuner) (1.30.0)\n",
      "Requirement already satisfied: markdown>=2.6.8 in /storage/software/easybuild/software/TensorFlow/2.5.0-fosscuda-2020b/lib/python3.8/site-packages (from tensorboard->keras-tuner) (3.3.4)\n",
      "Requirement already satisfied: pyasn1-modules>=0.2.1 in /storage/software/easybuild/software/TensorFlow/2.5.0-fosscuda-2020b/lib/python3.8/site-packages (from google-auth<2,>=1.6.3->tensorboard->keras-tuner) (0.2.8)\n",
      "Requirement already satisfied: rsa<5,>=3.1.4 in /storage/software/easybuild/software/TensorFlow/2.5.0-fosscuda-2020b/lib/python3.8/site-packages (from google-auth<2,>=1.6.3->tensorboard->keras-tuner) (4.7.2)\n",
      "Requirement already satisfied: cachetools<5.0,>=2.0.0 in /storage/software/easybuild/software/TensorFlow/2.5.0-fosscuda-2020b/lib/python3.8/site-packages (from google-auth<2,>=1.6.3->tensorboard->keras-tuner) (4.2.2)\n",
      "Requirement already satisfied: requests-oauthlib>=0.7.0 in /storage/software/easybuild/software/TensorFlow/2.5.0-fosscuda-2020b/lib/python3.8/site-packages (from google-auth-oauthlib<0.5,>=0.4.1->tensorboard->keras-tuner) (1.3.0)\n",
      "Requirement already satisfied: parso<0.9.0,>=0.8.0 in /home/jovyan/.local/lib/python3.8/site-packages (from jedi>=0.16->ipython->keras-tuner) (0.8.3)\n",
      "Requirement already satisfied: ptyprocess>=0.5 in /storage/software/easybuild/software/Python/3.8.6-GCCcore-10.2.0/lib/python3.8/site-packages (from pexpect>4.3->ipython->keras-tuner) (0.6.0)\n",
      "Requirement already satisfied: wcwidth in /storage/software/easybuild/software/Python/3.8.6-GCCcore-10.2.0/lib/python3.8/site-packages (from prompt-toolkit!=3.0.0,!=3.0.1,<3.1.0,>=2.0.0->ipython->keras-tuner) (0.2.5)\n",
      "Requirement already satisfied: asttokens in /home/jovyan/.local/lib/python3.8/site-packages (from stack-data->ipython->keras-tuner) (2.0.5)\n",
      "Requirement already satisfied: pure-eval in /home/jovyan/.local/lib/python3.8/site-packages (from stack-data->ipython->keras-tuner) (0.2.2)\n",
      "Requirement already satisfied: executing in /home/jovyan/.local/lib/python3.8/site-packages (from stack-data->ipython->keras-tuner) (0.8.3)\n",
      "Requirement already satisfied: pyasn1<0.5.0,>=0.4.6 in /storage/software/easybuild/software/Python/3.8.6-GCCcore-10.2.0/lib/python3.8/site-packages (from pyasn1-modules>=0.2.1->google-auth<2,>=1.6.3->tensorboard->keras-tuner) (0.4.8)\n",
      "Requirement already satisfied: oauthlib>=3.0.0 in /storage/software/easybuild/software/TensorFlow/2.5.0-fosscuda-2020b/lib/python3.8/site-packages (from requests-oauthlib>=0.7.0->google-auth-oauthlib<0.5,>=0.4.1->tensorboard->keras-tuner) (3.1.0)\n",
      "\u001b[33mWARNING: Running pip as the 'root' user can result in broken permissions and conflicting behaviour with the system package manager. It is recommended to use a virtual environment instead: https://pip.pypa.io/warnings/venv\u001b[0m\u001b[33m\n",
      "\u001b[0m"
     ]
    }
   ],
   "source": [
    "!pip install keras-tuner"
   ]
  },
  {
   "cell_type": "code",
   "execution_count": 3,
   "id": "premier-accessory",
   "metadata": {},
   "outputs": [
    {
     "name": "stdout",
     "output_type": "stream",
     "text": [
      "\u001b[33mWARNING: The directory '/home/jovyan/.cache/pip' or its parent directory is not owned or is not writable by the current user. The cache has been disabled. Check the permissions and owner of that directory. If executing pip with sudo, you should use sudo's -H flag.\u001b[0m\u001b[33m\n",
      "\u001b[0mDefaulting to user installation because normal site-packages is not writeable\n",
      "Requirement already satisfied: scikit-plot in /home/jovyan/.local/lib/python3.8/site-packages (0.3.7)\n",
      "Requirement already satisfied: matplotlib>=1.4.0 in /storage/software/easybuild/software/TensorFlowAnalysis/1.0.0-fosscuda-2020b/lib/python3.8/site-packages (from scikit-plot) (3.5.1)\n",
      "Requirement already satisfied: scikit-learn>=0.18 in /storage/software/easybuild/software/TensorFlowAnalysis/1.0.0-fosscuda-2020b/lib/python3.8/site-packages (from scikit-plot) (1.0.2)\n",
      "Requirement already satisfied: joblib>=0.10 in /storage/software/easybuild/software/Python/3.8.6-GCCcore-10.2.0/lib/python3.8/site-packages (from scikit-plot) (0.17.0)\n",
      "Requirement already satisfied: scipy>=0.9 in /storage/software/easybuild/software/SciPy-bundle/2020.11-fosscuda-2020b/lib/python3.8/site-packages (from scikit-plot) (1.5.4)\n",
      "Requirement already satisfied: python-dateutil>=2.7 in /storage/software/easybuild/software/Python/3.8.6-GCCcore-10.2.0/lib/python3.8/site-packages (from matplotlib>=1.4.0->scikit-plot) (2.8.1)\n",
      "Requirement already satisfied: fonttools>=4.22.0 in /storage/software/easybuild/software/TensorFlowAnalysis/1.0.0-fosscuda-2020b/lib/python3.8/site-packages (from matplotlib>=1.4.0->scikit-plot) (4.28.5)\n",
      "Requirement already satisfied: pillow>=6.2.0 in /storage/software/easybuild/software/TensorFlowAnalysis/1.0.0-fosscuda-2020b/lib/python3.8/site-packages (from matplotlib>=1.4.0->scikit-plot) (9.0.0)\n",
      "Requirement already satisfied: cycler>=0.10 in /storage/software/easybuild/software/TensorFlowAnalysis/1.0.0-fosscuda-2020b/lib/python3.8/site-packages (from matplotlib>=1.4.0->scikit-plot) (0.11.0)\n",
      "Requirement already satisfied: packaging>=20.0 in /storage/software/easybuild/software/Python/3.8.6-GCCcore-10.2.0/lib/python3.8/site-packages (from matplotlib>=1.4.0->scikit-plot) (20.4)\n",
      "Requirement already satisfied: pyparsing>=2.2.1 in /storage/software/easybuild/software/Python/3.8.6-GCCcore-10.2.0/lib/python3.8/site-packages (from matplotlib>=1.4.0->scikit-plot) (2.4.7)\n",
      "Requirement already satisfied: kiwisolver>=1.0.1 in /storage/software/easybuild/software/TensorFlowAnalysis/1.0.0-fosscuda-2020b/lib/python3.8/site-packages (from matplotlib>=1.4.0->scikit-plot) (1.3.2)\n",
      "Requirement already satisfied: numpy>=1.17 in /storage/software/easybuild/software/SciPy-bundle/2020.11-fosscuda-2020b/lib/python3.8/site-packages (from matplotlib>=1.4.0->scikit-plot) (1.19.4)\n",
      "Requirement already satisfied: threadpoolctl>=2.0.0 in /storage/software/easybuild/software/Python/3.8.6-GCCcore-10.2.0/lib/python3.8/site-packages (from scikit-learn>=0.18->scikit-plot) (2.1.0)\n",
      "Requirement already satisfied: six in /storage/software/easybuild/software/Python/3.8.6-GCCcore-10.2.0/lib/python3.8/site-packages (from packaging>=20.0->matplotlib>=1.4.0->scikit-plot) (1.15.0)\n",
      "\u001b[33mWARNING: Running pip as the 'root' user can result in broken permissions and conflicting behaviour with the system package manager. It is recommended to use a virtual environment instead: https://pip.pypa.io/warnings/venv\u001b[0m\u001b[33m\n",
      "\u001b[0m"
     ]
    }
   ],
   "source": [
    "!pip install scikit-plot"
   ]
  },
  {
   "cell_type": "code",
   "execution_count": 4,
   "id": "deluxe-punch",
   "metadata": {},
   "outputs": [
    {
     "name": "stdout",
     "output_type": "stream",
     "text": [
      "\u001b[33mWARNING: The directory '/home/jovyan/.cache/pip' or its parent directory is not owned or is not writable by the current user. The cache has been disabled. Check the permissions and owner of that directory. If executing pip with sudo, you should use sudo's -H flag.\u001b[0m\u001b[33m\n",
      "\u001b[0mDefaulting to user installation because normal site-packages is not writeable\n",
      "Requirement already satisfied: pydot in /home/jovyan/.local/lib/python3.8/site-packages (1.4.2)\n",
      "Requirement already satisfied: pyparsing>=2.1.4 in /storage/software/easybuild/software/Python/3.8.6-GCCcore-10.2.0/lib/python3.8/site-packages (from pydot) (2.4.7)\n",
      "\u001b[33mWARNING: Running pip as the 'root' user can result in broken permissions and conflicting behaviour with the system package manager. It is recommended to use a virtual environment instead: https://pip.pypa.io/warnings/venv\u001b[0m\u001b[33m\n",
      "\u001b[0m"
     ]
    }
   ],
   "source": [
    "!pip install pydot"
   ]
  },
  {
   "cell_type": "code",
   "execution_count": 1,
   "id": "altered-economy",
   "metadata": {},
   "outputs": [],
   "source": [
    "import pandas as pd \n",
    "import numpy as np\n",
    "import matplotlib.pyplot as plt \n",
    "import tensorflow as tf\n",
    "import keras_tuner as kt\n",
    "import plot_set\n",
    "import os\n",
    "seed = tf.random.set_seed(1)\n",
    "#import ROOT as R\n",
    "os.environ[\"CUDA_VISIBLE_DEVICES\"] = \"-1\""
   ]
  },
  {
   "cell_type": "code",
   "execution_count": 2,
   "id": "peaceful-discussion",
   "metadata": {},
   "outputs": [],
   "source": [
    "\n",
    "\n",
    "df_atlas = pd.read_hdf(\"/storage/shared/data/2lep_df_forML_data_fromRDF.hdf5\")\n",
    "df = pd.read_hdf(\"/storage/shared/data/2lep_df_forML_bkg_signal_fromRDF.hdf5\")\n",
    "\n",
    "\n",
    "#weights = pd.read_csv(\"weights.csv\")"
   ]
  },
  {
   "cell_type": "code",
   "execution_count": 3,
   "id": "indonesian-sector",
   "metadata": {},
   "outputs": [
    {
     "name": "stdout",
     "output_type": "stream",
     "text": [
      "<class 'pandas.core.frame.DataFrame'>\n",
      "Int64Index: 109683372 entries, 0 to 109683371\n",
      "Data columns (total 39 columns):\n",
      " #   Column                     Dtype  \n",
      "---  ------                     -----  \n",
      " 0   njet20                     int32  \n",
      " 1   njet60                     int32  \n",
      " 2   nbjet60                    int32  \n",
      " 3   nbjet70                    int32  \n",
      " 4   nbjet77                    int32  \n",
      " 5   nbjet85                    int32  \n",
      " 6   isOS                       int32  \n",
      " 7   isSF                       int32  \n",
      " 8   mll                        float32\n",
      " 9   mt2                        float32\n",
      " 10  met_et                     float32\n",
      " 11  met_phi                    float32\n",
      " 12  lep1_flav                  int32  \n",
      " 13  lep1_pt                    float32\n",
      " 14  lep1_eta                   float32\n",
      " 15  lep1_phi                   float32\n",
      " 16  lep1_E                     float32\n",
      " 17  lep1_ptcone30              float32\n",
      " 18  lep1_etcone20              float32\n",
      " 19  lep1_trackd0pvunbiased     float32\n",
      " 20  lep1_tracksigd0pvunbiased  float32\n",
      " 21  lep1_isTightID             float32\n",
      " 22  lep1_z0                    float32\n",
      " 23  lep2_flav                  int32  \n",
      " 24  lep2_pt                    float32\n",
      " 25  lep2_eta                   float32\n",
      " 26  lep2_phi                   float32\n",
      " 27  lep2_E                     float32\n",
      " 28  lep2_ptcone30              float32\n",
      " 29  lep2_etcone20              float32\n",
      " 30  lep2_trackd0pvunbiased     float32\n",
      " 31  lep2_tracksigd0pvunbiased  float32\n",
      " 32  lep2_isTightID             float32\n",
      " 33  lep2_z0                    float32\n",
      " 34  channelNumber              int32  \n",
      " 35  costhstar                  float32\n",
      " 36  weight                     float64\n",
      " 37  category                   object \n",
      " 38  physdescr                  object \n",
      "dtypes: float32(25), float64(1), int32(11), object(2)\n",
      "memory usage: 18.0+ GB\n",
      "<class 'pandas.core.frame.DataFrame'>\n",
      "Int64Index: 11442336 entries, 0 to 11442335\n",
      "Data columns (total 37 columns):\n",
      " #   Column                     Dtype  \n",
      "---  ------                     -----  \n",
      " 0   njet20                     int32  \n",
      " 1   njet60                     int32  \n",
      " 2   nbjet60                    int32  \n",
      " 3   nbjet70                    int32  \n",
      " 4   nbjet77                    int32  \n",
      " 5   nbjet85                    int32  \n",
      " 6   isOS                       int32  \n",
      " 7   isSF                       int32  \n",
      " 8   mll                        float32\n",
      " 9   mt2                        float32\n",
      " 10  met_et                     float32\n",
      " 11  met_phi                    float32\n",
      " 12  lep1_flav                  int32  \n",
      " 13  lep1_pt                    float32\n",
      " 14  lep1_eta                   float32\n",
      " 15  lep1_phi                   float32\n",
      " 16  lep1_E                     float32\n",
      " 17  lep1_ptcone30              float32\n",
      " 18  lep1_etcone20              float32\n",
      " 19  lep1_trackd0pvunbiased     float32\n",
      " 20  lep1_tracksigd0pvunbiased  float32\n",
      " 21  lep1_isTightID             float32\n",
      " 22  lep1_z0                    float32\n",
      " 23  lep2_flav                  int32  \n",
      " 24  lep2_pt                    float32\n",
      " 25  lep2_eta                   float32\n",
      " 26  lep2_phi                   float32\n",
      " 27  lep2_E                     float32\n",
      " 28  lep2_ptcone30              float32\n",
      " 29  lep2_etcone20              float32\n",
      " 30  lep2_trackd0pvunbiased     float32\n",
      " 31  lep2_tracksigd0pvunbiased  float32\n",
      " 32  lep2_isTightID             float32\n",
      " 33  lep2_z0                    float32\n",
      " 34  channelNumber              int32  \n",
      " 35  costhstar                  float32\n",
      " 36  weight                     float64\n",
      "dtypes: float32(25), float64(1), int32(11)\n",
      "memory usage: 1.7 GB\n"
     ]
    }
   ],
   "source": [
    "df.info()\n",
    "df_atlas.info()\n",
    "#weights.info()"
   ]
  },
  {
   "cell_type": "code",
   "execution_count": 4,
   "id": "forty-ability",
   "metadata": {},
   "outputs": [
    {
     "data": {
      "text/plain": [
       "0                            Zee\n",
       "1                            Zee\n",
       "2                            Zee\n",
       "3                            Zee\n",
       "4                            Zee\n",
       "                    ...         \n",
       "109683367    Zee_PTV0_70_BFilter\n",
       "109683368    Zee_PTV0_70_BFilter\n",
       "109683369    Zee_PTV0_70_BFilter\n",
       "109683370    Zee_PTV0_70_BFilter\n",
       "109683371    Zee_PTV0_70_BFilter\n",
       "Name: physdescr, Length: 109683372, dtype: object"
      ]
     },
     "execution_count": 4,
     "metadata": {},
     "output_type": "execute_result"
    }
   ],
   "source": [
    "df[\"physdescr\"]"
   ]
  },
  {
   "cell_type": "markdown",
   "id": "pediatric-pierre",
   "metadata": {},
   "source": [
    "### Adding more columns \n",
    "Because the dataset is lacking the \"isSignal\" and \"weight\" columns, we have to create them our self"
   ]
  },
  {
   "cell_type": "code",
   "execution_count": 5,
   "id": "serious-kitchen",
   "metadata": {},
   "outputs": [
    {
     "data": {
      "text/plain": [
       "array(['Zjetsincl', 'Zjets', 'Diboson', 'Higgs', 'singleTop', 'topX',\n",
       "       'RS_G_ZZ', 'SUSYC1N2', 'Wjets', 'SUSYC1C1', 'dmV_Zll', 'ttbar',\n",
       "       'GG_ttn1', 'ZPrimett', 'Gee', 'SUSYSlepSlep', 'ZPrimeee',\n",
       "       'ZPrimemumu', 'Wjetsincl', 'Gmumu', 'TT_directTT'], dtype=object)"
      ]
     },
     "execution_count": 5,
     "metadata": {},
     "output_type": "execute_result"
    }
   ],
   "source": [
    "df[\"category\"].unique()"
   ]
  },
  {
   "cell_type": "code",
   "execution_count": 6,
   "id": "swedish-mineral",
   "metadata": {},
   "outputs": [],
   "source": [
    "signals = ['ZPrimemumu', 'SUSYC1C1', 'RS_G_ZZ', 'SUSYSlepSlep', 'SUSYC1N2', 'ZPrimett', 'ZPrimeee', 'dmV_Zll', 'GG_ttn1', 'TT_directTT', 'Gee', 'Gmumu']"
   ]
  },
  {
   "cell_type": "code",
   "execution_count": 7,
   "id": "funded-folks",
   "metadata": {},
   "outputs": [],
   "source": [
    "issignal = np.where(df[\"category\"].isin(signals)  , 1, 0)"
   ]
  },
  {
   "cell_type": "code",
   "execution_count": 8,
   "id": "editorial-today",
   "metadata": {},
   "outputs": [],
   "source": [
    "df = df.assign(isSignal=issignal)"
   ]
  },
  {
   "cell_type": "code",
   "execution_count": 9,
   "id": "legendary-there",
   "metadata": {},
   "outputs": [
    {
     "data": {
      "text/html": [
       "<div>\n",
       "<style scoped>\n",
       "    .dataframe tbody tr th:only-of-type {\n",
       "        vertical-align: middle;\n",
       "    }\n",
       "\n",
       "    .dataframe tbody tr th {\n",
       "        vertical-align: top;\n",
       "    }\n",
       "\n",
       "    .dataframe thead th {\n",
       "        text-align: right;\n",
       "    }\n",
       "</style>\n",
       "<table border=\"1\" class=\"dataframe\">\n",
       "  <thead>\n",
       "    <tr style=\"text-align: right;\">\n",
       "      <th></th>\n",
       "      <th>njet20</th>\n",
       "      <th>njet60</th>\n",
       "      <th>nbjet60</th>\n",
       "      <th>nbjet70</th>\n",
       "      <th>nbjet77</th>\n",
       "      <th>nbjet85</th>\n",
       "      <th>isOS</th>\n",
       "      <th>isSF</th>\n",
       "      <th>mll</th>\n",
       "      <th>mt2</th>\n",
       "      <th>...</th>\n",
       "      <th>lep2_trackd0pvunbiased</th>\n",
       "      <th>lep2_tracksigd0pvunbiased</th>\n",
       "      <th>lep2_isTightID</th>\n",
       "      <th>lep2_z0</th>\n",
       "      <th>channelNumber</th>\n",
       "      <th>costhstar</th>\n",
       "      <th>weight</th>\n",
       "      <th>category</th>\n",
       "      <th>physdescr</th>\n",
       "      <th>isSignal</th>\n",
       "    </tr>\n",
       "  </thead>\n",
       "  <tbody>\n",
       "    <tr>\n",
       "      <th>0</th>\n",
       "      <td>0</td>\n",
       "      <td>0</td>\n",
       "      <td>0</td>\n",
       "      <td>0</td>\n",
       "      <td>0</td>\n",
       "      <td>0</td>\n",
       "      <td>1</td>\n",
       "      <td>1</td>\n",
       "      <td>83241.078125</td>\n",
       "      <td>203008.812500</td>\n",
       "      <td>...</td>\n",
       "      <td>-0.022843</td>\n",
       "      <td>0.767920</td>\n",
       "      <td>1.0</td>\n",
       "      <td>0.000382</td>\n",
       "      <td>361106</td>\n",
       "      <td>0.113907</td>\n",
       "      <td>0.127318</td>\n",
       "      <td>Zjetsincl</td>\n",
       "      <td>Zee</td>\n",
       "      <td>0</td>\n",
       "    </tr>\n",
       "    <tr>\n",
       "      <th>1</th>\n",
       "      <td>1</td>\n",
       "      <td>0</td>\n",
       "      <td>0</td>\n",
       "      <td>0</td>\n",
       "      <td>0</td>\n",
       "      <td>0</td>\n",
       "      <td>1</td>\n",
       "      <td>1</td>\n",
       "      <td>91189.015625</td>\n",
       "      <td>115910.992188</td>\n",
       "      <td>...</td>\n",
       "      <td>-0.001654</td>\n",
       "      <td>0.100329</td>\n",
       "      <td>1.0</td>\n",
       "      <td>-0.136329</td>\n",
       "      <td>361106</td>\n",
       "      <td>0.864449</td>\n",
       "      <td>0.114645</td>\n",
       "      <td>Zjetsincl</td>\n",
       "      <td>Zee</td>\n",
       "      <td>0</td>\n",
       "    </tr>\n",
       "  </tbody>\n",
       "</table>\n",
       "<p>2 rows × 40 columns</p>\n",
       "</div>"
      ],
      "text/plain": [
       "   njet20  njet60  nbjet60  nbjet70  nbjet77  nbjet85  isOS  isSF  \\\n",
       "0       0       0        0        0        0        0     1     1   \n",
       "1       1       0        0        0        0        0     1     1   \n",
       "\n",
       "            mll            mt2  ...  lep2_trackd0pvunbiased  \\\n",
       "0  83241.078125  203008.812500  ...               -0.022843   \n",
       "1  91189.015625  115910.992188  ...               -0.001654   \n",
       "\n",
       "   lep2_tracksigd0pvunbiased  lep2_isTightID   lep2_z0  channelNumber  \\\n",
       "0                   0.767920             1.0  0.000382         361106   \n",
       "1                   0.100329             1.0 -0.136329         361106   \n",
       "\n",
       "   costhstar    weight   category  physdescr  isSignal  \n",
       "0   0.113907  0.127318  Zjetsincl        Zee         0  \n",
       "1   0.864449  0.114645  Zjetsincl        Zee         0  \n",
       "\n",
       "[2 rows x 40 columns]"
      ]
     },
     "execution_count": 9,
     "metadata": {},
     "output_type": "execute_result"
    }
   ],
   "source": [
    "df.head(2)"
   ]
  },
  {
   "cell_type": "markdown",
   "id": "unexpected-dakota",
   "metadata": {},
   "source": [
    "Remove W jets include and Z jets include"
   ]
  },
  {
   "cell_type": "code",
   "execution_count": 10,
   "id": "treated-topic",
   "metadata": {},
   "outputs": [],
   "source": [
    "zjetsinl_idx = df[df[\"category\"] == \"Zjetsincl\"].index\n",
    "wjetsinl_idx = df[df[\"category\"] == \"Wjetsincl\"].index"
   ]
  },
  {
   "cell_type": "code",
   "execution_count": 11,
   "id": "final-couple",
   "metadata": {},
   "outputs": [],
   "source": [
    "df.drop(zjetsinl_idx ,inplace=True)\n",
    "df.drop(wjetsinl_idx ,inplace=True)"
   ]
  },
  {
   "cell_type": "code",
   "execution_count": 12,
   "id": "german-banana",
   "metadata": {},
   "outputs": [
    {
     "data": {
      "text/html": [
       "<div>\n",
       "<style scoped>\n",
       "    .dataframe tbody tr th:only-of-type {\n",
       "        vertical-align: middle;\n",
       "    }\n",
       "\n",
       "    .dataframe tbody tr th {\n",
       "        vertical-align: top;\n",
       "    }\n",
       "\n",
       "    .dataframe thead th {\n",
       "        text-align: right;\n",
       "    }\n",
       "</style>\n",
       "<table border=\"1\" class=\"dataframe\">\n",
       "  <thead>\n",
       "    <tr style=\"text-align: right;\">\n",
       "      <th></th>\n",
       "      <th>njet20</th>\n",
       "      <th>njet60</th>\n",
       "      <th>nbjet60</th>\n",
       "      <th>nbjet70</th>\n",
       "      <th>nbjet77</th>\n",
       "      <th>nbjet85</th>\n",
       "      <th>isOS</th>\n",
       "      <th>isSF</th>\n",
       "      <th>mll</th>\n",
       "      <th>mt2</th>\n",
       "      <th>...</th>\n",
       "      <th>lep2_E</th>\n",
       "      <th>lep2_ptcone30</th>\n",
       "      <th>lep2_etcone20</th>\n",
       "      <th>lep2_trackd0pvunbiased</th>\n",
       "      <th>lep2_tracksigd0pvunbiased</th>\n",
       "      <th>lep2_isTightID</th>\n",
       "      <th>lep2_z0</th>\n",
       "      <th>channelNumber</th>\n",
       "      <th>costhstar</th>\n",
       "      <th>weight</th>\n",
       "    </tr>\n",
       "  </thead>\n",
       "  <tbody>\n",
       "    <tr>\n",
       "      <th>0</th>\n",
       "      <td>1</td>\n",
       "      <td>0</td>\n",
       "      <td>0</td>\n",
       "      <td>0</td>\n",
       "      <td>0</td>\n",
       "      <td>0</td>\n",
       "      <td>1</td>\n",
       "      <td>1</td>\n",
       "      <td>12510.837891</td>\n",
       "      <td>57409.433594</td>\n",
       "      <td>...</td>\n",
       "      <td>10032.247070</td>\n",
       "      <td>1196.712769</td>\n",
       "      <td>-92.074127</td>\n",
       "      <td>-0.000793</td>\n",
       "      <td>0.044793</td>\n",
       "      <td>1.0</td>\n",
       "      <td>-0.024559</td>\n",
       "      <td>300800</td>\n",
       "      <td>0.131353</td>\n",
       "      <td>1.0</td>\n",
       "    </tr>\n",
       "    <tr>\n",
       "      <th>1</th>\n",
       "      <td>1</td>\n",
       "      <td>0</td>\n",
       "      <td>0</td>\n",
       "      <td>0</td>\n",
       "      <td>0</td>\n",
       "      <td>0</td>\n",
       "      <td>1</td>\n",
       "      <td>1</td>\n",
       "      <td>91430.445312</td>\n",
       "      <td>192062.109375</td>\n",
       "      <td>...</td>\n",
       "      <td>192062.109375</td>\n",
       "      <td>0.000000</td>\n",
       "      <td>-174.402069</td>\n",
       "      <td>0.003242</td>\n",
       "      <td>0.373168</td>\n",
       "      <td>1.0</td>\n",
       "      <td>-0.064178</td>\n",
       "      <td>300800</td>\n",
       "      <td>0.323297</td>\n",
       "      <td>1.0</td>\n",
       "    </tr>\n",
       "  </tbody>\n",
       "</table>\n",
       "<p>2 rows × 37 columns</p>\n",
       "</div>"
      ],
      "text/plain": [
       "   njet20  njet60  nbjet60  nbjet70  nbjet77  nbjet85  isOS  isSF  \\\n",
       "0       1       0        0        0        0        0     1     1   \n",
       "1       1       0        0        0        0        0     1     1   \n",
       "\n",
       "            mll            mt2  ...         lep2_E  lep2_ptcone30  \\\n",
       "0  12510.837891   57409.433594  ...   10032.247070    1196.712769   \n",
       "1  91430.445312  192062.109375  ...  192062.109375       0.000000   \n",
       "\n",
       "   lep2_etcone20  lep2_trackd0pvunbiased  lep2_tracksigd0pvunbiased  \\\n",
       "0     -92.074127               -0.000793                   0.044793   \n",
       "1    -174.402069                0.003242                   0.373168   \n",
       "\n",
       "   lep2_isTightID   lep2_z0  channelNumber  costhstar  weight  \n",
       "0             1.0 -0.024559         300800   0.131353     1.0  \n",
       "1             1.0 -0.064178         300800   0.323297     1.0  \n",
       "\n",
       "[2 rows x 37 columns]"
      ]
     },
     "execution_count": 12,
     "metadata": {},
     "output_type": "execute_result"
    }
   ],
   "source": [
    "df_atlas.head(2)\n"
   ]
  },
  {
   "cell_type": "markdown",
   "id": "embedded-planner",
   "metadata": {},
   "source": [
    "### Data separation"
   ]
  },
  {
   "cell_type": "code",
   "execution_count": 13,
   "id": "documentary-sunset",
   "metadata": {},
   "outputs": [
    {
     "name": "stderr",
     "output_type": "stream",
     "text": [
      "/storage/software/easybuild/software/SciPy-bundle/2020.11-fosscuda-2020b/lib/python3.8/site-packages/pandas/core/frame.py:4167: SettingWithCopyWarning: \n",
      "A value is trying to be set on a copy of a slice from a DataFrame\n",
      "\n",
      "See the caveats in the documentation: https://pandas.pydata.org/pandas-docs/stable/user_guide/indexing.html#returning-a-view-versus-a-copy\n",
      "  return super().drop(\n"
     ]
    }
   ],
   "source": [
    "categories = df[\"category\"]\n",
    "\n",
    "background_categories = df[df[\"isSignal\"] == 0][\"category\"].unique()\n",
    "signal_df = df[df['category'] == 'SUSYC1C1']\n",
    "\n",
    "background_df = df[df[\"isSignal\"] == 0]\n",
    "\n",
    "columns_to_drop = [\"category\", \"isSignal\", \"physdescr\"]\n",
    "\n",
    "\n",
    "signal_df.drop(columns_to_drop, axis=1, inplace=True)\n",
    "background_df.drop(columns_to_drop, axis=1, inplace=True)\n",
    "\n",
    "\n",
    "signal_mc = signal_df#.to_numpy()\n",
    "background_mc = background_df#.to_numpy()\n",
    "\n",
    "data = df_atlas"
   ]
  },
  {
   "cell_type": "markdown",
   "id": "improving-lottery",
   "metadata": {},
   "source": [
    "### Plot to check somewhat agreement with data and MC"
   ]
  },
  {
   "cell_type": "code",
   "execution_count": null,
   "id": "advisory-irish",
   "metadata": {},
   "outputs": [],
   "source": []
  },
  {
   "cell_type": "code",
   "execution_count": 14,
   "id": "voluntary-reunion",
   "metadata": {},
   "outputs": [
    {
     "data": {
      "image/png": "[encoded data removed]",
      "text/plain": [
       "<Figure size 864x648 with 1 Axes>"
      ]
     },
     "metadata": {
      "needs_background": "light"
     },
     "output_type": "display_data"
    }
   ],
   "source": [
    "histo_b = background_df[\"lep2_phi\"]\n",
    "histo_data = data[\"lep2_phi\"]\n",
    "weight_histo = background_df[\"weight\"]\n",
    "                \n",
    "plt.rcParams[\"figure.figsize\"] = (12,9)\n",
    "fig, ax = plt.subplots()\n",
    "\n",
    "N, bins = np.histogram(histo_data, bins = 100)\n",
    "x = (np.array(bins[0:-1]) + np.array(bins[1:]))/2\n",
    "\n",
    "n_bins= 100\n",
    "colors = [\"green\"]\n",
    "labels= [\"Background\"]\n",
    "ax.hist(histo_b, \n",
    "        n_bins,   \n",
    "        histtype='bar', \n",
    "        color=colors, \n",
    "        label=labels, \n",
    "        weights=weight_histo\n",
    "        )\n",
    "\n",
    "ax.scatter(x, N, marker=\"x\", color=\"red\",label=\"Data\")\n",
    "\n",
    "ax.legend(prop={'size': 10})\n",
    "ax.set_title('Lep2_phi agreement with MC and data')\n",
    "ax.set_xlabel('Lep2_phi')\n",
    "ax.set_ylabel('#Events')\n",
    "ax.set_yscale('log')\n",
    "ax.set_ylim([5e4, 2e5])\n",
    "\n",
    "fig.tight_layout()\n",
    "#plt.savefig(\"b_s_recon.pdf\")\n",
    "plt.show()"
   ]
  },
  {
   "cell_type": "code",
   "execution_count": 15,
   "id": "amended-winter",
   "metadata": {},
   "outputs": [
    {
     "data": {
      "image/png": "[encoded data removed]",
      "text/plain": [
       "<Figure size 864x648 with 1 Axes>"
      ]
     },
     "metadata": {
      "needs_background": "light"
     },
     "output_type": "display_data"
    }
   ],
   "source": [
    "histo_b = background_df[\"met_et\"]\n",
    "histo_data = data[\"met_et\"]\n",
    "\n",
    "weight_histo = background_df[\"weight\"]\n",
    "                \n",
    "plt.rcParams[\"figure.figsize\"] = (12,9)\n",
    "fig, ax = plt.subplots()\n",
    "\n",
    "N, bins = np.histogram(histo_data, bins = 100)\n",
    "x = (np.array(bins[0:-1]) + np.array(bins[1:]))/2\n",
    "\n",
    "n_bins= 100\n",
    "colors = [\"green\"]\n",
    "labels= [\"Background\"]\n",
    "ax.hist(histo_b, \n",
    "        n_bins,   \n",
    "        histtype='bar', \n",
    "        color=colors, \n",
    "        label=labels, \n",
    "        weights=weight_histo\n",
    "        )\n",
    "\n",
    "ax.scatter(x, N, marker=\"x\", color=\"red\",label=\"Data\")\n",
    "\n",
    "ax.legend(prop={'size': 10})\n",
    "ax.set_title('Met_et agreement with MC and data')\n",
    "ax.set_xlabel('Met_et')\n",
    "ax.set_ylabel('#Events')\n",
    "ax.set_yscale('log')\n",
    "#ax.set_ylim([5e4, 2e5])\n",
    "\n",
    "fig.tight_layout()\n",
    "#plt.savefig(\"b_s_recon.pdf\")\n",
    "plt.show()"
   ]
  },
  {
   "cell_type": "code",
   "execution_count": 16,
   "id": "macro-chase",
   "metadata": {},
   "outputs": [
    {
     "data": {
      "image/png": "[encoded data removed]",
      "text/plain": [
       "<Figure size 864x648 with 1 Axes>"
      ]
     },
     "metadata": {
      "needs_background": "light"
     },
     "output_type": "display_data"
    }
   ],
   "source": [
    "histo_b = background_df[\"lep1_eta\"]\n",
    "histo_data = data[\"lep1_eta\"]\n",
    "\n",
    "weight_histo = background_df[\"weight\"]\n",
    "                \n",
    "plt.rcParams[\"figure.figsize\"] = (12,9)\n",
    "fig, ax = plt.subplots()\n",
    "\n",
    "N, bins = np.histogram(histo_data, bins = 100)\n",
    "x = (np.array(bins[0:-1]) + np.array(bins[1:]))/2\n",
    "\n",
    "n_bins= 100\n",
    "colors = [\"green\"]\n",
    "labels= [\"Background\"]\n",
    "ax.hist(histo_b, \n",
    "        n_bins,   \n",
    "        histtype='bar', \n",
    "        color=colors, \n",
    "        label=labels, \n",
    "        weights=weight_histo\n",
    "        )\n",
    "\n",
    "ax.scatter(x, N, marker=\"x\", color=\"red\",label=\"Data\")\n",
    "\n",
    "ax.legend(prop={'size': 10})\n",
    "ax.set_title('lep1_eta agreement with MC and data')\n",
    "ax.set_xlabel('lep1_eta')\n",
    "ax.set_ylabel('#Events')\n",
    "ax.set_yscale('log')\n",
    "#ax.set_ylim([5e4, 2e5])\n",
    "\n",
    "fig.tight_layout()\n",
    "#plt.savefig(\"b_s_recon.pdf\")\n",
    "plt.show()"
   ]
  },
  {
   "cell_type": "code",
   "execution_count": null,
   "id": "bulgarian-midnight",
   "metadata": {},
   "outputs": [],
   "source": []
  },
  {
   "cell_type": "code",
   "execution_count": 17,
   "id": "starting-australia",
   "metadata": {},
   "outputs": [
    {
     "name": "stdout",
     "output_type": "stream",
     "text": [
      "(63642138, 37)\n",
      "(135127, 37)\n",
      "(11442336, 37)\n"
     ]
    }
   ],
   "source": [
    "print(np.shape(background_mc))\n",
    "print(np.shape(signal_mc))\n",
    "print(np.shape(data))\n"
   ]
  },
  {
   "cell_type": "markdown",
   "id": "legitimate-block",
   "metadata": {},
   "source": [
    "### Data handling and preperations\n",
    "Before we train on the data, we need to scale it and split it into a validation and "
   ]
  },
  {
   "cell_type": "code",
   "execution_count": 18,
   "id": "quarterly-crime",
   "metadata": {},
   "outputs": [],
   "source": [
    "from sklearn.preprocessing import StandardScaler, MinMaxScaler\n",
    "from sklearn.model_selection import train_test_split\n",
    "from sklearn import preprocessing"
   ]
  },
  {
   "cell_type": "code",
   "execution_count": 19,
   "id": "automated-illness",
   "metadata": {},
   "outputs": [],
   "source": [
    "# Split background\n",
    "X_b_train, X_b_val = train_test_split(background_mc, test_size=0.2, random_state=seed)\n",
    "# Split signal\n",
    "#X_s_train, X_s_test = train_test_split(signal_mc, test_size=0.2, random_state=seed)"
   ]
  },
  {
   "cell_type": "markdown",
   "id": "anonymous-experience",
   "metadata": {},
   "source": [
    "Now, combine samples for testing"
   ]
  },
  {
   "cell_type": "code",
   "execution_count": 20,
   "id": "structured-cable",
   "metadata": {},
   "outputs": [],
   "source": [
    "b_train_weights = X_b_train[\"weight\"]\n",
    "b_val_weights = X_b_val[\"weight\"]\n",
    "s_test_weights = signal_mc[\"weight\"]\n",
    "\n",
    "data_weights = data[\"weight\"]\n",
    "\n",
    "X_b_train.pop(\"weight\")\n",
    "X_b_val.pop(\"weight\")\n",
    "signal_mc.pop(\"weight\")\n",
    "data.pop(\"weight\")\n",
    "\n",
    "\n",
    "X_s_test = signal_mc\n",
    "\n",
    "\n",
    "X_test = np.concatenate((X_b_val,X_s_test),0)\n",
    "\n",
    "y_b_val = np.zeros(X_b_val.shape[0])                                                                                                                                                                                                                                                   \n",
    "y_s_test = np.ones(X_s_test.shape[0])      \n",
    "y_test = np.concatenate((y_b_val,y_s_test),0)"
   ]
  },
  {
   "cell_type": "markdown",
   "id": "executive-spread",
   "metadata": {},
   "source": [
    "### Find that weights correct for sample size"
   ]
  },
  {
   "cell_type": "code",
   "execution_count": 21,
   "id": "authorized-astrology",
   "metadata": {},
   "outputs": [],
   "source": [
    "sum_weight = np.concatenate((b_train_weights, b_val_weights), 0)\n",
    "sum_weight = np.sum(sum_weight)"
   ]
  },
  {
   "cell_type": "code",
   "execution_count": 22,
   "id": "aggregate-option",
   "metadata": {},
   "outputs": [
    {
     "name": "stdout",
     "output_type": "stream",
     "text": [
      "10785795.65977304\n",
      "5.737817349769832\n"
     ]
    }
   ],
   "source": [
    "print(sum_weight) \n",
    "diff = abs(data.shape[0]- sum_weight)\n",
    "print(diff/data.shape[0]*100)"
   ]
  },
  {
   "cell_type": "code",
   "execution_count": 23,
   "id": "continent-africa",
   "metadata": {},
   "outputs": [
    {
     "name": "stdout",
     "output_type": "stream",
     "text": [
      "(50913710, 36)\n",
      "(135127, 36)\n",
      "(11442336, 36)\n"
     ]
    }
   ],
   "source": [
    "print(np.shape(X_b_train))\n",
    "print(np.shape(X_s_test))\n",
    "print(np.shape(data))"
   ]
  },
  {
   "cell_type": "code",
   "execution_count": 24,
   "id": "aging-vietnam",
   "metadata": {},
   "outputs": [],
   "source": [
    "#strategy = tf.distribute.OneDeviceStrategy(device=\"/gpu:0\")\n",
    "\n",
    "#with strategy.scope():\n",
    "\n",
    "scaler_ae = MinMaxScaler()#StandardScaler()#MinMaxScaler()\n",
    "X_b_train = scaler_ae.fit_transform(X_b_train)                                                                                                                                                                                                                        \n",
    "X_b_val= scaler_ae.transform(X_b_val)                                                                                                                                                                                                                                 \n",
    "X_s_test = scaler_ae.transform(X_s_test)\n",
    "data = scaler_ae.transform(data)\n",
    "#X_test = scaler_ae.transform(X_test)"
   ]
  },
  {
   "cell_type": "code",
   "execution_count": 25,
   "id": "eastern-newsletter",
   "metadata": {},
   "outputs": [],
   "source": [
    "data_shape = np.shape(X_b_train)[1]\n",
    "number_of_rows = np.shape(X_b_train)[0]\n",
    "n_vali = np.shape(X_b_val)[0]\n",
    "\n",
    "random_indices_b = np.random.choice(number_of_rows, size=int(2e6), replace=False)\n",
    "test_indices_b = np.random.choice(n_vali, size=int(400000), replace=False)\n",
    "\n",
    "smaller_data = X_b_train[random_indices_b, :]\n",
    "small_vali = X_b_val[test_indices_b, :]\n",
    "\n",
    "\n",
    "test_indices_sb = np.random.choice(np.shape(X_test)[0], size=int(200000), replace=False)\n",
    "X_small_test = X_test[test_indices_sb, :]\n",
    "\n",
    "in_and_out = X_b_train.shape[0]"
   ]
  },
  {
   "cell_type": "markdown",
   "id": "psychological-gnome",
   "metadata": {},
   "source": [
    "Try to load data faster"
   ]
  },
  {
   "cell_type": "code",
   "execution_count": 26,
   "id": "noticed-showcase",
   "metadata": {},
   "outputs": [],
   "source": [
    "#X_b_train = tf.data.Dataset.from_tensor_slices((X_b_train, X_b_train))\n",
    "#X_b_val = tf.data.Dataset.from_tensor_slices((X_b_val, X_b_val))\n",
    "#X_s_test = tf.data.Dataset.from_tensor_slices((X_s_test, X_s_test))\n",
    "#data = tf.data.Dataset.from_tensor_slices((data, data))\n",
    "#smaller_data = tf.data.Dataset.from_tensor_slices((smaller_data, smaller_data))\n",
    "#small_vali = tf.data.Dataset.from_tensor_slices((small_vali, small_vali))"
   ]
  },
  {
   "cell_type": "markdown",
   "id": "sonic-ethics",
   "metadata": {},
   "source": [
    "### Training\n",
    "Now we can train on the data"
   ]
  },
  {
   "cell_type": "code",
   "execution_count": 65,
   "id": "nasty-honor",
   "metadata": {},
   "outputs": [],
   "source": [
    "tf.config.optimizer.set_jit( \"autoclustering\")\n",
    "def gridautoencoder(X_b, X_back_test):\n",
    "    tuner = kt.Hyperband(\n",
    "        AE_model_builder,\n",
    "        objective=kt.Objective(\"val_mse\", direction=\"min\"),\n",
    "        max_epochs=50,\n",
    "        factor=3,\n",
    "        directory=\"GridSearches\",\n",
    "        project_name=\"AE\",\n",
    "        overwrite=True,\n",
    "    )\n",
    "\n",
    "    tuner.search(X_b, X_b, epochs=17, batch_size=4096,\n",
    "                 validation_data=(X_back_test, X_back_test))\n",
    "    best_hps = tuner.get_best_hyperparameters(num_trials=1)[0]\n",
    "\n",
    "    print(\n",
    "        f\"\"\"\n",
    "    \n",
    "    Latent layer has {best_hps.get('num_of_neurons1')} with activation {best_hps.get('1_act')} \\n\n",
    "    Output activation is {best_hps.get('2_act')} \\n\n",
    "    \n",
    "    \\n\n",
    "    with learning rate = {best_hps.get('learning_rate')} and alpha = {best_hps.get('alpha')} \\n\n",
    "    and kernel regulation = {best_hps.get(\"Kernel_reg\")} and activation regulation = {best_hps.get(\"Atc_reg\")}\n",
    "    \"\"\"\n",
    "    )\n",
    "\n",
    "    state = True\n",
    "    while state == True:\n",
    "        answ = input(\"Do you want to save model? (y/n) \")\n",
    "        if answ == \"y\":\n",
    "            name = input(\"name: \")\n",
    "            tuner.hypermodel.build(best_hps).save(\n",
    "                f\"../tf_models/model_{name}.h5\")\n",
    "            state = False\n",
    "            print(\"Model saved\")\n",
    "        elif answ == \"n\":\n",
    "            state = False\n",
    "            print(\"Model not saved\")\n",
    "\n",
    "\n",
    "def AE_model_builder(hp):\n",
    "    \n",
    "    ker_choice = hp.Choice(\"Kernel_reg\", values=[0.5, 0.1, 0.05, 0.01])\n",
    "    act_choice = hp.Choice(\"Atc_reg\", values=[0.5, 0.1, 0.05, 0.01])\n",
    "    alpha_choice = hp.Choice(\"alpha\", values=[1., 0.5, 0.1, 0.05, 0.01])\n",
    "    #get_custom_objects().update({\"leakyrelu\": tf.keras.layers.LeakyReLU(alpha=alpha_choice)})\n",
    "    activations = {\n",
    "        \"relu\": tf.nn.relu,\n",
    "        \"tanh\": tf.nn.tanh,\n",
    "        \"leakyrelu\": lambda x: tf.nn.leaky_relu(x, alpha=alpha_choice),\n",
    "        \"linear\": tf.keras.activations.linear\n",
    "    }\n",
    "    inputs = tf.keras.layers.Input(shape=data_shape, name=\"encoder_input\")\n",
    "    \n",
    "    val = hp.Int(\"lat_num\", min_value=1, max_value=data_shape-1, step=1)\n",
    "    x2 = tf.keras.layers.Dense(\n",
    "        units=val, activation=activations.get(hp.Choice(\n",
    "            \"1_act\", [\"relu\", \"tanh\", \"leakyrelu\",\"linear\"])),\n",
    "        kernel_regularizer=tf.keras.regularizers.L1(ker_choice),\n",
    "        activity_regularizer=tf.keras.regularizers.L2(act_choice)\n",
    "    )(inputs)\n",
    "    encoder = tf.keras.Model(inputs, x2, name=\"encoder\")\n",
    "\n",
    "    latent_input = tf.keras.layers.Input(shape=val, name=\"decoder_input\")\n",
    "    \n",
    "    output = tf.keras.layers.Dense(\n",
    "        data_shape, activation=activations.get(hp.Choice(\n",
    "            \"2_act\", [\"relu\", \"tanh\", \"leakyrelu\",\"linear\"])),\n",
    "        kernel_regularizer=tf.keras.regularizers.L1(ker_choice),\n",
    "        activity_regularizer=tf.keras.regularizers.L2(act_choice))(latent_input)\n",
    "    decoder = tf.keras.Model(latent_input, output, name=\"decoder\")\n",
    "\n",
    "    outputs = decoder(encoder(inputs))\n",
    "    AE_model = tf.keras.Model(inputs, outputs, name=\"AE_model\")\n",
    "\n",
    "    hp_learning_rate = hp.Choice(\"learning_rate\", values=[\n",
    "                                 9e-2, 9.5e-2, 1e-3, 1.5e-3])\n",
    "    optimizer = tf.keras.optimizers.Adam(hp_learning_rate)\n",
    "    #optimizer = tf.keras.mixed_precision.LossScaleOptimizer(optimizer)\n",
    "    AE_model.compile(loss=\"mse\", optimizer=optimizer, metrics=[\"mse\"])\n",
    "\n",
    "    return AE_model\n",
    "\n",
    "\n",
    "\n"
   ]
  },
  {
   "cell_type": "code",
   "execution_count": null,
   "id": "shared-understanding",
   "metadata": {},
   "outputs": [
    {
     "name": "stdout",
     "output_type": "stream",
     "text": [
      "Trial 63 Complete [00h 01m 45s]\n",
      "val_mse: 0.10839812457561493\n",
      "\n",
      "Best val_mse So Far: 0.04471768066287041\n",
      "Total elapsed time: 05h 06m 32s\n",
      "\n",
      "Search: Running Trial #64\n",
      "\n",
      "Value             |Best Value So Far |Hyperparameter\n",
      "0.01              |0.05              |Kernel_reg\n",
      "0.1               |0.01              |Atc_reg\n",
      "0.5               |0.05              |alpha\n",
      "30                |33                |lat_num\n",
      "leakyrelu         |linear            |1_act\n",
      "tanh              |linear            |2_act\n",
      "0.095             |0.09              |learning_rate\n",
      "6                 |50                |tuner/epochs\n",
      "0                 |17                |tuner/initial_epoch\n",
      "2                 |3                 |tuner/bracket\n",
      "0                 |3                 |tuner/round\n",
      "\n",
      "Epoch 1/6\n",
      "489/489 [==============================] - 24s 42ms/step - loss: 0.4772 - mse: 0.1481 - val_loss: 0.4177 - val_mse: 0.1472\n",
      "Epoch 2/6\n",
      "489/489 [==============================] - 15s 30ms/step - loss: 0.4169 - mse: 0.1470 - val_loss: 0.4076 - val_mse: 0.1468\n",
      "Epoch 3/6\n",
      "489/489 [==============================] - 17s 35ms/step - loss: 0.4169 - mse: 0.1470 - val_loss: 0.4209 - val_mse: 0.1469\n",
      "Epoch 4/6\n",
      "198/489 [===========>..................] - ETA: 9s - loss: 0.4168 - mse: 0.1470"
     ]
    }
   ],
   "source": [
    "from tensorflow.python.client import device_lib\n",
    "print(device_lib.list_local_devices())\n",
    "tf.config.optimizer.set_jit(\"autoclustering\")\n",
    "#with tf.device(\"/GPU:0\"):\n",
    "gridautoencoder(smaller_data, small_vali)\n"
   ]
  },
  {
   "cell_type": "code",
   "execution_count": 41,
   "id": "related-lying",
   "metadata": {},
   "outputs": [],
   "source": [
    "def custom_loss(y_true, y_pred):\n",
    "    mse = tf.keras.losses.MeanSquaredError()\n",
    "    mse_loss = mse(y_true, y_pred)\n",
    "\n",
    "    return mse_loss "
   ]
  },
  {
   "cell_type": "code",
   "execution_count": 45,
   "id": "nuclear-optimization",
   "metadata": {},
   "outputs": [],
   "source": [
    "#hypermodel = tf.keras.models.load_model(\"../tf_models/model_prelim_ae_2lep_data.h5\")\n",
    "inputs = tf.keras.layers.Input(shape=data_shape, name=\"encoder_input\")\n",
    "val = 17\n",
    "x2 = tf.keras.layers.Dense(units=val, activation=\"relu\", kernel_regularizer=tf.keras.regularizers.L1(0.01),\n",
    "    activity_regularizer=tf.keras.regularizers.L2(0.01))(inputs)\n",
    "encoder = tf.keras.Model(inputs, x2, name=\"encoder\")\n",
    "\n",
    "latent_input = tf.keras.layers.Input(shape=val, name=\"decoder_input\")\n",
    "\n",
    "output = tf.keras.layers.Dense(data_shape, activation=\"linear\", kernel_regularizer=tf.keras.regularizers.L1(0.01),\n",
    "    activity_regularizer=tf.keras.regularizers.L2(0.01))(latent_input)\n",
    "decoder = tf.keras.Model(latent_input, output, name=\"decoder\")\n",
    "\n",
    "outputs = decoder(encoder(inputs))\n",
    "AE_model = tf.keras.Model(inputs, outputs, name=\"AE_model\")\n",
    "\n",
    "hp_learning_rate = 0.0015\n",
    "optimizer = tf.keras.optimizers.Adam(hp_learning_rate)\n",
    "AE_model.compile(loss=\"mse\", optimizer=optimizer, metrics=[\"mse\"])\n",
    "\n",
    "tf.keras.utils.plot_model(AE_model, to_file=\"ae_model_plot.pdf\",\n",
    "                          show_shapes=True, show_layer_names=True, expand_nested=True)"
   ]
  },
  {
   "cell_type": "code",
   "execution_count": null,
   "id": "focal-japanese",
   "metadata": {},
   "outputs": [],
   "source": []
  },
  {
   "cell_type": "code",
   "execution_count": 46,
   "id": "aging-orange",
   "metadata": {},
   "outputs": [
    {
     "name": "stdout",
     "output_type": "stream",
     "text": [
      "12431/12431 [==============================] - 3714s 298ms/step - loss: 0.0425 - mse: 0.1193 - val_loss: 0.1279 - val_mse: 0.1187\n"
     ]
    },
    {
     "data": {
      "text/plain": [
       "<tensorflow.python.keras.callbacks.History at 0x7f39ad353e80>"
      ]
     },
     "execution_count": 46,
     "metadata": {},
     "output_type": "execute_result"
    }
   ],
   "source": [
    "\n",
    "#with tf.device(\"/GPU:0\"):\n",
    "tf.config.optimizer.set_jit(\"autoclustering\")\n",
    "AE_model.fit(X_b_train, X_b_train, epochs=1, batch_size=4096, validation_data=(X_b_val, X_b_val), sample_weight=b_train_weights)"
   ]
  },
  {
   "cell_type": "code",
   "execution_count": 63,
   "id": "primary-jesus",
   "metadata": {},
   "outputs": [],
   "source": [
    "AE_model.save(\"1_epoch_trained_small_wreg.h5\")\n",
    "#AE_model.load(\"1_epoch_trained.h5\")"
   ]
  },
  {
   "cell_type": "code",
   "execution_count": null,
   "id": "aboriginal-bulgaria",
   "metadata": {},
   "outputs": [],
   "source": []
  },
  {
   "cell_type": "code",
   "execution_count": null,
   "id": "intensive-currency",
   "metadata": {},
   "outputs": [],
   "source": []
  },
  {
   "cell_type": "code",
   "execution_count": 48,
   "id": "pointed-bangladesh",
   "metadata": {},
   "outputs": [
    {
     "name": "stdout",
     "output_type": "stream",
     "text": [
      "Background done\n"
     ]
    }
   ],
   "source": [
    "#Calculate prediction\n",
    "#Total background:\n",
    "X_b = np.concatenate((X_b_train, X_b_val),0)\n",
    "#with tf.device(\"/GPU:0\"):\n",
    "pred_back = AE_model.predict(X_b, batch_size=4096)\n",
    "print(\"Background done\")\n"
   ]
  },
  {
   "cell_type": "code",
   "execution_count": 49,
   "id": "informal-tract",
   "metadata": {},
   "outputs": [
    {
     "name": "stdout",
     "output_type": "stream",
     "text": [
      "Signal done\n"
     ]
    }
   ],
   "source": [
    "#with tf.device(\"/GPU:0\"):\n",
    "#Total signal\n",
    "\n",
    "\n",
    "pred_sig = AE_model.predict(X_s_test, batch_size=4096)\n",
    "print(\"Signal done\")\n"
   ]
  },
  {
   "cell_type": "code",
   "execution_count": 50,
   "id": "proper-empty",
   "metadata": {},
   "outputs": [
    {
     "name": "stdout",
     "output_type": "stream",
     "text": [
      "ATLAS data done\n"
     ]
    }
   ],
   "source": [
    "data_idx = np.random.choice(np.shape(data)[0], size=int(400000), replace=False)\n",
    "small_atlas = data[data_idx, :]\n",
    "#with tf.device(\"/GPU:0\"):\n",
    "pred_data = AE_model.predict(data, batch_size=4096)\n",
    "print(\"ATLAS data done\")"
   ]
  },
  {
   "cell_type": "markdown",
   "id": "economic-period",
   "metadata": {},
   "source": [
    "### Histograms\n",
    "Now we implement testing of the data, and stacking of histograms with the reconstruction <br> for the given background processes, a signal, and ATLAS data. <br>\n",
    "<br>\n",
    "First for background\n",
    "\n",
    "\n"
   ]
  },
  {
   "cell_type": "code",
   "execution_count": 51,
   "id": "ancient-bathroom",
   "metadata": {},
   "outputs": [],
   "source": [
    "def reconstructionError(pred, real):\n",
    "    diff = pred - real\n",
    "    err = np.power(diff, 2)\n",
    "    err = np.sum(err, 1)\n",
    "    err = np.log10(err)\n",
    "    return err"
   ]
  },
  {
   "cell_type": "code",
   "execution_count": 52,
   "id": "likely-drink",
   "metadata": {},
   "outputs": [],
   "source": [
    "recon_err_back = reconstructionError(pred_back, X_b)"
   ]
  },
  {
   "cell_type": "markdown",
   "id": "forced-variety",
   "metadata": {},
   "source": [
    "Then signal"
   ]
  },
  {
   "cell_type": "code",
   "execution_count": 53,
   "id": "velvet-dairy",
   "metadata": {},
   "outputs": [],
   "source": [
    "recon_err_sig = reconstructionError(pred_sig, X_s_test)"
   ]
  },
  {
   "cell_type": "markdown",
   "id": "boring-stereo",
   "metadata": {},
   "source": [
    "An then for actual data"
   ]
  },
  {
   "cell_type": "code",
   "execution_count": 54,
   "id": "french-welsh",
   "metadata": {},
   "outputs": [],
   "source": [
    "recon_data = reconstructionError(pred_data, data)"
   ]
  },
  {
   "cell_type": "code",
   "execution_count": 55,
   "id": "bulgarian-nicaragua",
   "metadata": {},
   "outputs": [
    {
     "name": "stdout",
     "output_type": "stream",
     "text": [
      "(63642138,) 0.020224373377849842 0.9758533991448017\n",
      "(135127,) 0.3191160179829562 0.817460718679114\n",
      "(11442336,) 0.18151492553390544 1.5419579324043404\n",
      "(400000,)\n"
     ]
    }
   ],
   "source": [
    "print(np.shape(recon_err_back), np.min(recon_err_back), np.max(recon_err_back))\n",
    "print(np.shape(recon_err_sig), np.min(recon_err_sig), np.max(recon_err_sig))\n",
    "print(np.shape(recon_data), np.min(recon_data), np.max(recon_data))\n",
    "\n",
    "\n",
    "print(np.shape(b_val_weights.iloc[test_indices_b]))"
   ]
  },
  {
   "cell_type": "markdown",
   "id": "brown-dream",
   "metadata": {},
   "source": [
    "Then  plot"
   ]
  },
  {
   "cell_type": "code",
   "execution_count": 56,
   "id": "documented-homework",
   "metadata": {},
   "outputs": [],
   "source": [
    "max_b = np.max(recon_err_back)\n",
    "max_s = np.max(recon_err_sig)\n",
    "max_data = np.max(recon_data)\n",
    "\n",
    "b = recon_err_back#/max_b\n",
    "b_s = recon_err_sig#/max_s\n",
    "norm_recon_data = recon_data#/max_data"
   ]
  },
  {
   "cell_type": "code",
   "execution_count": 62,
   "id": "interstate-thong",
   "metadata": {},
   "outputs": [
    {
     "data": {
      "image/png": "[encoded data removed]",
      "text/plain": [
       "<Figure size 864x648 with 1 Axes>"
      ]
     },
     "metadata": {
      "needs_background": "light"
     },
     "output_type": "display_data"
    }
   ],
   "source": [
    "import plot_set\n",
    "\n",
    "histo_data = [b_s, b]#, norm_recon_data])\n",
    "weight_histo = [s_test_weights, np.concatenate((b_train_weights, b_val_weights), 0)]\n",
    "\n",
    "plt.rcParams[\"figure.figsize\"] = (12,9)\n",
    "\n",
    "fig, ax = plt.subplots()\n",
    "\n",
    "n_bins= 100\n",
    "colors = [\"green\", \"red\"]\n",
    "labels= [\"Signal\", \"Background\"]\n",
    "ax.hist(histo_data, \n",
    "        n_bins, \n",
    "        density=True, \n",
    "        stacked=False, \n",
    "        alpha=0.5,\n",
    "        histtype='bar',\n",
    "        color=colors, \n",
    "        label=labels, \n",
    "        weights=weight_histo\n",
    "        )\n",
    "\n",
    "ax.legend(prop={'size': 10})\n",
    "ax.set_title('Reconstruction error histogram with background and signal', fontsize=15)\n",
    "ax.set_xlabel('Log10 Reconstruction Error', fontsize=15)\n",
    "ax.set_ylabel('#Events', fontsize=15)\n",
    "ax.set_yscale('log')\n",
    "\n",
    "fig.tight_layout()\n",
    "plt.savefig(\"b_s_recon_small.pdf\")\n",
    "plt.show()"
   ]
  },
  {
   "cell_type": "markdown",
   "id": "linear-cooperation",
   "metadata": {},
   "source": [
    "Here we plot the ROC curves for the model"
   ]
  },
  {
   "cell_type": "code",
   "execution_count": 58,
   "id": "functional-spray",
   "metadata": {},
   "outputs": [],
   "source": [
    "# ROC\n",
    "Y_b = np.zeros(X_b_val.shape[0]).reshape(X_b_val.shape[0],1);\n",
    "Y_s = np.ones(X_s_test.shape[0]).reshape(X_s_test.shape[0],1);\n",
    "Y_ROC = np.concatenate((Y_b, Y_s),0);\n",
    "\n",
    "sample_weight = np.concatenate((b_val_weights, s_test_weights),0)"
   ]
  },
  {
   "cell_type": "markdown",
   "id": "functioning-relation",
   "metadata": {},
   "source": [
    "Here we plot background against ATLAS data"
   ]
  },
  {
   "cell_type": "code",
   "execution_count": 59,
   "id": "altered-resolution",
   "metadata": {},
   "outputs": [
    {
     "name": "stdout",
     "output_type": "stream",
     "text": [
      "[0.65025608 0.63356266 0.6242118  ... 0.59404494 0.59582671 0.63504207]\n"
     ]
    },
    {
     "ename": "ValueError",
     "evalue": "Found input variables with inconsistent numbers of samples: [12863555, 63777265, 12863555]",
     "output_type": "error",
     "traceback": [
      "\u001b[0;31m---------------------------------------------------------------------------\u001b[0m",
      "\u001b[0;31mValueError\u001b[0m                                Traceback (most recent call last)",
      "Input \u001b[0;32mIn [59]\u001b[0m, in \u001b[0;36m<cell line: 10>\u001b[0;34m()\u001b[0m\n\u001b[1;32m      5\u001b[0m rec_errors_ROC \u001b[38;5;241m=\u001b[39m np\u001b[38;5;241m.\u001b[39mconcatenate((recon_err_back,recon_err_sig),\u001b[38;5;241m0\u001b[39m)\n\u001b[1;32m      7\u001b[0m \u001b[38;5;28mprint\u001b[39m(recon_err_sig)\n\u001b[0;32m---> 10\u001b[0m fpr, tpr, thresholds \u001b[38;5;241m=\u001b[39m \u001b[43mroc_curve\u001b[49m\u001b[43m(\u001b[49m\u001b[43mY_ROC\u001b[49m\u001b[43m,\u001b[49m\u001b[43m \u001b[49m\u001b[43mrec_errors_ROC\u001b[49m\u001b[43m,\u001b[49m\u001b[43m \u001b[49m\u001b[43msample_weight\u001b[49m\u001b[43m \u001b[49m\u001b[38;5;241;43m=\u001b[39;49m\u001b[43m \u001b[49m\u001b[43msample_weight\u001b[49m\u001b[43m,\u001b[49m\u001b[43m \u001b[49m\u001b[43mpos_label\u001b[49m\u001b[38;5;241;43m=\u001b[39;49m\u001b[38;5;241;43m1\u001b[39;49m\u001b[43m)\u001b[49m\n\u001b[1;32m     11\u001b[0m ae_auc \u001b[38;5;241m=\u001b[39m roc_auc_score(Y_ROC, rec_errors_ROC)\n\u001b[1;32m     12\u001b[0m figRocAE, axRocAE \u001b[38;5;241m=\u001b[39m plt\u001b[38;5;241m.\u001b[39msubplots()\n",
      "File \u001b[0;32m/storage/software/easybuild/software/TensorFlowAnalysis/1.0.0-fosscuda-2020b/lib/python3.8/site-packages/sklearn/metrics/_ranking.py:962\u001b[0m, in \u001b[0;36mroc_curve\u001b[0;34m(y_true, y_score, pos_label, sample_weight, drop_intermediate)\u001b[0m\n\u001b[1;32m    873\u001b[0m \u001b[38;5;28;01mdef\u001b[39;00m \u001b[38;5;21mroc_curve\u001b[39m(\n\u001b[1;32m    874\u001b[0m     y_true, y_score, \u001b[38;5;241m*\u001b[39m, pos_label\u001b[38;5;241m=\u001b[39m\u001b[38;5;28;01mNone\u001b[39;00m, sample_weight\u001b[38;5;241m=\u001b[39m\u001b[38;5;28;01mNone\u001b[39;00m, drop_intermediate\u001b[38;5;241m=\u001b[39m\u001b[38;5;28;01mTrue\u001b[39;00m\n\u001b[1;32m    875\u001b[0m ):\n\u001b[1;32m    876\u001b[0m     \u001b[38;5;124;03m\"\"\"Compute Receiver operating characteristic (ROC).\u001b[39;00m\n\u001b[1;32m    877\u001b[0m \n\u001b[1;32m    878\u001b[0m \u001b[38;5;124;03m    Note: this implementation is restricted to the binary classification task.\u001b[39;00m\n\u001b[0;32m   (...)\u001b[0m\n\u001b[1;32m    960\u001b[0m \n\u001b[1;32m    961\u001b[0m \u001b[38;5;124;03m    \"\"\"\u001b[39;00m\n\u001b[0;32m--> 962\u001b[0m     fps, tps, thresholds \u001b[38;5;241m=\u001b[39m \u001b[43m_binary_clf_curve\u001b[49m\u001b[43m(\u001b[49m\n\u001b[1;32m    963\u001b[0m \u001b[43m        \u001b[49m\u001b[43my_true\u001b[49m\u001b[43m,\u001b[49m\u001b[43m \u001b[49m\u001b[43my_score\u001b[49m\u001b[43m,\u001b[49m\u001b[43m \u001b[49m\u001b[43mpos_label\u001b[49m\u001b[38;5;241;43m=\u001b[39;49m\u001b[43mpos_label\u001b[49m\u001b[43m,\u001b[49m\u001b[43m \u001b[49m\u001b[43msample_weight\u001b[49m\u001b[38;5;241;43m=\u001b[39;49m\u001b[43msample_weight\u001b[49m\n\u001b[1;32m    964\u001b[0m \u001b[43m    \u001b[49m\u001b[43m)\u001b[49m\n\u001b[1;32m    966\u001b[0m     \u001b[38;5;66;03m# Attempt to drop thresholds corresponding to points in between and\u001b[39;00m\n\u001b[1;32m    967\u001b[0m     \u001b[38;5;66;03m# collinear with other points. These are always suboptimal and do not\u001b[39;00m\n\u001b[1;32m    968\u001b[0m     \u001b[38;5;66;03m# appear on a plotted ROC curve (and thus do not affect the AUC).\u001b[39;00m\n\u001b[0;32m   (...)\u001b[0m\n\u001b[1;32m    973\u001b[0m     \u001b[38;5;66;03m# but does not drop more complicated cases like fps = [1, 3, 7],\u001b[39;00m\n\u001b[1;32m    974\u001b[0m     \u001b[38;5;66;03m# tps = [1, 2, 4]; there is no harm in keeping too many thresholds.\u001b[39;00m\n\u001b[1;32m    975\u001b[0m     \u001b[38;5;28;01mif\u001b[39;00m drop_intermediate \u001b[38;5;129;01mand\u001b[39;00m \u001b[38;5;28mlen\u001b[39m(fps) \u001b[38;5;241m>\u001b[39m \u001b[38;5;241m2\u001b[39m:\n",
      "File \u001b[0;32m/storage/software/easybuild/software/TensorFlowAnalysis/1.0.0-fosscuda-2020b/lib/python3.8/site-packages/sklearn/metrics/_ranking.py:733\u001b[0m, in \u001b[0;36m_binary_clf_curve\u001b[0;34m(y_true, y_score, pos_label, sample_weight)\u001b[0m\n\u001b[1;32m    730\u001b[0m \u001b[38;5;28;01mif\u001b[39;00m \u001b[38;5;129;01mnot\u001b[39;00m (y_type \u001b[38;5;241m==\u001b[39m \u001b[38;5;124m\"\u001b[39m\u001b[38;5;124mbinary\u001b[39m\u001b[38;5;124m\"\u001b[39m \u001b[38;5;129;01mor\u001b[39;00m (y_type \u001b[38;5;241m==\u001b[39m \u001b[38;5;124m\"\u001b[39m\u001b[38;5;124mmulticlass\u001b[39m\u001b[38;5;124m\"\u001b[39m \u001b[38;5;129;01mand\u001b[39;00m pos_label \u001b[38;5;129;01mis\u001b[39;00m \u001b[38;5;129;01mnot\u001b[39;00m \u001b[38;5;28;01mNone\u001b[39;00m)):\n\u001b[1;32m    731\u001b[0m     \u001b[38;5;28;01mraise\u001b[39;00m \u001b[38;5;167;01mValueError\u001b[39;00m(\u001b[38;5;124m\"\u001b[39m\u001b[38;5;132;01m{0}\u001b[39;00m\u001b[38;5;124m format is not supported\u001b[39m\u001b[38;5;124m\"\u001b[39m\u001b[38;5;241m.\u001b[39mformat(y_type))\n\u001b[0;32m--> 733\u001b[0m \u001b[43mcheck_consistent_length\u001b[49m\u001b[43m(\u001b[49m\u001b[43my_true\u001b[49m\u001b[43m,\u001b[49m\u001b[43m \u001b[49m\u001b[43my_score\u001b[49m\u001b[43m,\u001b[49m\u001b[43m \u001b[49m\u001b[43msample_weight\u001b[49m\u001b[43m)\u001b[49m\n\u001b[1;32m    734\u001b[0m y_true \u001b[38;5;241m=\u001b[39m column_or_1d(y_true)\n\u001b[1;32m    735\u001b[0m y_score \u001b[38;5;241m=\u001b[39m column_or_1d(y_score)\n",
      "File \u001b[0;32m/storage/software/easybuild/software/TensorFlowAnalysis/1.0.0-fosscuda-2020b/lib/python3.8/site-packages/sklearn/utils/validation.py:332\u001b[0m, in \u001b[0;36mcheck_consistent_length\u001b[0;34m(*arrays)\u001b[0m\n\u001b[1;32m    330\u001b[0m uniques \u001b[38;5;241m=\u001b[39m np\u001b[38;5;241m.\u001b[39munique(lengths)\n\u001b[1;32m    331\u001b[0m \u001b[38;5;28;01mif\u001b[39;00m \u001b[38;5;28mlen\u001b[39m(uniques) \u001b[38;5;241m>\u001b[39m \u001b[38;5;241m1\u001b[39m:\n\u001b[0;32m--> 332\u001b[0m     \u001b[38;5;28;01mraise\u001b[39;00m \u001b[38;5;167;01mValueError\u001b[39;00m(\n\u001b[1;32m    333\u001b[0m         \u001b[38;5;124m\"\u001b[39m\u001b[38;5;124mFound input variables with inconsistent numbers of samples: \u001b[39m\u001b[38;5;132;01m%r\u001b[39;00m\u001b[38;5;124m\"\u001b[39m\n\u001b[1;32m    334\u001b[0m         \u001b[38;5;241m%\u001b[39m [\u001b[38;5;28mint\u001b[39m(l) \u001b[38;5;28;01mfor\u001b[39;00m l \u001b[38;5;129;01min\u001b[39;00m lengths]\n\u001b[1;32m    335\u001b[0m     )\n",
      "\u001b[0;31mValueError\u001b[0m: Found input variables with inconsistent numbers of samples: [12863555, 63777265, 12863555]"
     ]
    }
   ],
   "source": [
    "from sklearn import metrics\n",
    "from sklearn.metrics import roc_curve\n",
    "from sklearn.metrics import roc_auc_score\n",
    "\n",
    "rec_errors_ROC = np.concatenate((recon_err_back,recon_err_sig),0)\n",
    "\n",
    "print(recon_err_sig)\n",
    "\n",
    "\n",
    "fpr, tpr, thresholds = roc_curve(Y_ROC, rec_errors_ROC, sample_weight = sample_weight, pos_label=1)\n",
    "ae_auc = roc_auc_score(Y_ROC, rec_errors_ROC)\n",
    "figRocAE, axRocAE = plt.subplots()\n",
    "figRocAE.set_size_inches(12,12)\n",
    "axRocAE.plot(fpr, tpr, label='ROC curve')\n",
    "axRocAE.plot([0, 1], [0, 1], 'k--')\n",
    "axRocAE.set_xlim([0.0, 1.0])\n",
    "axRocAE.set_ylim([0.0, 1.05])\n",
    "axRocAE.set_xlabel('False Anomaly Rate')\n",
    "axRocAE.set_ylabel('True Anomaly Rate')\n",
    "axRocAE.text(0.4,0.2,\"AUC = %.4f\" % ae_auc,fontsize=15)\n",
    "axRocAE.set_title(\"Autoencoder ROC\")\n",
    "\n",
    "fig.tight_layout()\n",
    "plt.savefig(\"b_s_roc_curve.pdf\")\n",
    "plt.show()"
   ]
  },
  {
   "cell_type": "code",
   "execution_count": 61,
   "id": "sophisticated-question",
   "metadata": {},
   "outputs": [
    {
     "data": {
      "image/png": "[encoded data removed]",
      "text/plain": [
       "<Figure size 864x648 with 1 Axes>"
      ]
     },
     "metadata": {
      "needs_background": "light"
     },
     "output_type": "display_data"
    }
   ],
   "source": [
    "histo_atlas = [norm_recon_data, b]\n",
    "weight_atlas_data = [data_weights, np.concatenate((b_train_weights, b_val_weights), 0)]\n",
    "\n",
    "\n",
    "plt.rcParams[\"figure.figsize\"] = (12,9)\n",
    "\n",
    "fig, ax = plt.subplots()\n",
    "\n",
    "n_bins= 50\n",
    "colors = [\"red\", \"green\"]\n",
    "labels= [\"Data\", \"Background\"]\n",
    "ax.hist(histo_atlas, \n",
    "        n_bins, \n",
    "        density=False, \n",
    "        stacked=False, \n",
    "        alpha=0.5, \n",
    "        histtype='bar', \n",
    "        color=colors, \n",
    "        label=labels, \n",
    "        weights=weight_atlas_data\n",
    "        )\n",
    "\n",
    "ax.legend(prop={'size': 10})\n",
    "ax.set_title('Reconstruction error histogram with background and ATLAS data', fontsize=15)\n",
    "ax.set_xlabel('Log10 Reconstruction Error', fontsize=15)\n",
    "ax.set_ylabel('#Events', fontsize=15)\n",
    "ax.set_yscale('log')\n",
    "\n",
    "fig.tight_layout()\n",
    "plt.savefig(\"b_data_recon_small.pdf\")\n",
    "plt.show()"
   ]
  },
  {
   "cell_type": "code",
   "execution_count": null,
   "id": "rural-decimal",
   "metadata": {},
   "outputs": [],
   "source": []
  },
  {
   "cell_type": "code",
   "execution_count": null,
   "id": "remarkable-afghanistan",
   "metadata": {},
   "outputs": [],
   "source": []
  },
  {
   "cell_type": "code",
   "execution_count": null,
   "id": "revised-checkout",
   "metadata": {},
   "outputs": [],
   "source": []
  },
  {
   "cell_type": "code",
   "execution_count": null,
   "id": "bridal-essence",
   "metadata": {},
   "outputs": [],
   "source": []
  },
  {
   "cell_type": "code",
   "execution_count": null,
   "id": "wireless-silver",
   "metadata": {},
   "outputs": [],
   "source": []
  },
  {
   "cell_type": "code",
   "execution_count": null,
   "id": "racial-marina",
   "metadata": {},
   "outputs": [],
   "source": []
  },
  {
   "cell_type": "code",
   "execution_count": null,
   "id": "impressive-basics",
   "metadata": {},
   "outputs": [],
   "source": []
  },
  {
   "cell_type": "code",
   "execution_count": null,
   "id": "private-improvement",
   "metadata": {},
   "outputs": [],
   "source": []
  },
  {
   "cell_type": "code",
   "execution_count": null,
   "id": "fantastic-athletics",
   "metadata": {},
   "outputs": [],
   "source": []
  }
 ],
 "metadata": {
  "kernelspec": {
   "display_name": "Python 3",
   "language": "python",
   "name": "python3"
  },
  "language_info": {
   "codemirror_mode": {
    "name": "ipython",
    "version": 3
   },
   "file_extension": ".py",
   "mimetype": "text/x-python",
   "name": "python",
   "nbconvert_exporter": "python",
   "pygments_lexer": "ipython3",
   "version": "3.8.8"
  }
 },
 "nbformat": 4,
 "nbformat_minor": 5
}
