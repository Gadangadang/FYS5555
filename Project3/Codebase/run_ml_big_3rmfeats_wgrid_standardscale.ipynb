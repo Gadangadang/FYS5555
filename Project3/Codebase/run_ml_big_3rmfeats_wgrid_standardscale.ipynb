{
 "cells": [
  {
   "cell_type": "markdown",
   "id": "respected-newspaper",
   "metadata": {},
   "source": [
    "# Deplyment of semi unsupervised learning on ATLAS OpenData\n",
    "### Testing of reading in data and trying an auto encoder\n",
    "Remember to install the necessary api's for usage in Galaxy"
   ]
  },
  {
   "cell_type": "code",
   "execution_count": 1,
   "id": "fifteen-dynamics",
   "metadata": {},
   "outputs": [
    {
     "name": "stdout",
     "output_type": "stream",
     "text": [
      "Defaulting to user installation because normal site-packages is not writeable\n",
      "Requirement already satisfied: pip in /home/jovyan/.local/lib/python3.8/site-packages (22.1)\n",
      "\u001b[33mWARNING: Running pip as the 'root' user can result in broken permissions and conflicting behaviour with the system package manager. It is recommended to use a virtual environment instead: https://pip.pypa.io/warnings/venv\u001b[0m\u001b[33m\n",
      "\u001b[0m"
     ]
    }
   ],
   "source": [
    "!pip install --upgrade pip"
   ]
  },
  {
   "cell_type": "code",
   "execution_count": 2,
   "id": "incorrect-detector",
   "metadata": {},
   "outputs": [
    {
     "name": "stdout",
     "output_type": "stream",
     "text": [
      "Defaulting to user installation because normal site-packages is not writeable\n",
      "Requirement already satisfied: keras-tuner in /home/jovyan/.local/lib/python3.8/site-packages (1.1.2)\n",
      "Requirement already satisfied: packaging in /storage/software/easybuild/software/Python/3.8.6-GCCcore-10.2.0/lib/python3.8/site-packages (from keras-tuner) (20.4)\n",
      "Requirement already satisfied: numpy in /storage/software/easybuild/software/SciPy-bundle/2020.11-fosscuda-2020b/lib/python3.8/site-packages (from keras-tuner) (1.19.4)\n",
      "Requirement already satisfied: tensorboard in /storage/software/easybuild/software/TensorFlow/2.5.0-fosscuda-2020b/lib/python3.8/site-packages (from keras-tuner) (2.5.0)\n",
      "Requirement already satisfied: ipython in /home/jovyan/.local/lib/python3.8/site-packages (from keras-tuner) (8.3.0)\n",
      "Requirement already satisfied: kt-legacy in /home/jovyan/.local/lib/python3.8/site-packages (from keras-tuner) (1.0.4)\n",
      "Requirement already satisfied: requests in /storage/software/easybuild/software/Python/3.8.6-GCCcore-10.2.0/lib/python3.8/site-packages (from keras-tuner) (2.24.0)\n",
      "Requirement already satisfied: pexpect>4.3 in /storage/software/easybuild/software/Python/3.8.6-GCCcore-10.2.0/lib/python3.8/site-packages (from ipython->keras-tuner) (4.8.0)\n",
      "Requirement already satisfied: prompt-toolkit!=3.0.0,!=3.0.1,<3.1.0,>=2.0.0 in /home/jovyan/.local/lib/python3.8/site-packages (from ipython->keras-tuner) (3.0.29)\n",
      "Requirement already satisfied: setuptools>=18.5 in /storage/software/easybuild/software/Python/3.8.6-GCCcore-10.2.0/lib/python3.8/site-packages (from ipython->keras-tuner) (50.3.0)\n",
      "Requirement already satisfied: jedi>=0.16 in /home/jovyan/.local/lib/python3.8/site-packages (from ipython->keras-tuner) (0.18.1)\n",
      "Requirement already satisfied: decorator in /storage/software/easybuild/software/Python/3.8.6-GCCcore-10.2.0/lib/python3.8/site-packages (from ipython->keras-tuner) (4.4.2)\n",
      "Requirement already satisfied: traitlets>=5 in /home/jovyan/.local/lib/python3.8/site-packages (from ipython->keras-tuner) (5.2.0)\n",
      "Requirement already satisfied: stack-data in /home/jovyan/.local/lib/python3.8/site-packages (from ipython->keras-tuner) (0.2.0)\n",
      "Requirement already satisfied: matplotlib-inline in /home/jovyan/.local/lib/python3.8/site-packages (from ipython->keras-tuner) (0.1.3)\n",
      "Requirement already satisfied: pygments>=2.4.0 in /storage/software/easybuild/software/Python/3.8.6-GCCcore-10.2.0/lib/python3.8/site-packages (from ipython->keras-tuner) (2.7.1)\n",
      "Requirement already satisfied: pickleshare in /home/jovyan/.local/lib/python3.8/site-packages (from ipython->keras-tuner) (0.7.5)\n",
      "Requirement already satisfied: backcall in /home/jovyan/.local/lib/python3.8/site-packages (from ipython->keras-tuner) (0.2.0)\n",
      "Requirement already satisfied: six in /storage/software/easybuild/software/Python/3.8.6-GCCcore-10.2.0/lib/python3.8/site-packages (from packaging->keras-tuner) (1.15.0)\n",
      "Requirement already satisfied: pyparsing>=2.0.2 in /storage/software/easybuild/software/Python/3.8.6-GCCcore-10.2.0/lib/python3.8/site-packages (from packaging->keras-tuner) (2.4.7)\n",
      "Requirement already satisfied: certifi>=2017.4.17 in /storage/software/easybuild/software/Python/3.8.6-GCCcore-10.2.0/lib/python3.8/site-packages (from requests->keras-tuner) (2020.6.20)\n",
      "Requirement already satisfied: idna<3,>=2.5 in /storage/software/easybuild/software/Python/3.8.6-GCCcore-10.2.0/lib/python3.8/site-packages (from requests->keras-tuner) (2.10)\n",
      "Requirement already satisfied: chardet<4,>=3.0.2 in /storage/software/easybuild/software/Python/3.8.6-GCCcore-10.2.0/lib/python3.8/site-packages (from requests->keras-tuner) (3.0.4)\n",
      "Requirement already satisfied: urllib3!=1.25.0,!=1.25.1,<1.26,>=1.21.1 in /storage/software/easybuild/software/Python/3.8.6-GCCcore-10.2.0/lib/python3.8/site-packages (from requests->keras-tuner) (1.25.10)\n",
      "Requirement already satisfied: absl-py>=0.4 in /storage/software/easybuild/software/TensorFlow/2.5.0-fosscuda-2020b/lib/python3.8/site-packages (from tensorboard->keras-tuner) (0.12.0)\n",
      "Requirement already satisfied: google-auth-oauthlib<0.5,>=0.4.1 in /storage/software/easybuild/software/TensorFlow/2.5.0-fosscuda-2020b/lib/python3.8/site-packages (from tensorboard->keras-tuner) (0.4.4)\n",
      "Requirement already satisfied: werkzeug>=0.11.15 in /storage/software/easybuild/software/TensorFlow/2.5.0-fosscuda-2020b/lib/python3.8/site-packages (from tensorboard->keras-tuner) (2.0.0)\n",
      "Requirement already satisfied: grpcio>=1.24.3 in /storage/software/easybuild/software/TensorFlow/2.5.0-fosscuda-2020b/lib/python3.8/site-packages (from tensorboard->keras-tuner) (1.34.1)\n",
      "Requirement already satisfied: tensorboard-data-server<0.7.0,>=0.6.0 in /storage/software/easybuild/software/TensorFlow/2.5.0-fosscuda-2020b/lib/python3.8/site-packages (from tensorboard->keras-tuner) (0.6.1)\n",
      "Requirement already satisfied: wheel>=0.26 in /storage/software/easybuild/software/Python/3.8.6-GCCcore-10.2.0/lib/python3.8/site-packages (from tensorboard->keras-tuner) (0.35.1)\n",
      "Requirement already satisfied: tensorboard-plugin-wit>=1.6.0 in /storage/software/easybuild/software/TensorFlow/2.5.0-fosscuda-2020b/lib/python3.8/site-packages (from tensorboard->keras-tuner) (1.8.0)\n",
      "Requirement already satisfied: google-auth<2,>=1.6.3 in /storage/software/easybuild/software/TensorFlow/2.5.0-fosscuda-2020b/lib/python3.8/site-packages (from tensorboard->keras-tuner) (1.30.0)\n",
      "Requirement already satisfied: markdown>=2.6.8 in /storage/software/easybuild/software/TensorFlow/2.5.0-fosscuda-2020b/lib/python3.8/site-packages (from tensorboard->keras-tuner) (3.3.4)\n",
      "Requirement already satisfied: protobuf>=3.6.0 in /storage/software/easybuild/software/protobuf-python/3.14.0-GCCcore-10.2.0/lib/python3.8/site-packages (from tensorboard->keras-tuner) (3.14.0)\n",
      "Requirement already satisfied: cachetools<5.0,>=2.0.0 in /storage/software/easybuild/software/TensorFlow/2.5.0-fosscuda-2020b/lib/python3.8/site-packages (from google-auth<2,>=1.6.3->tensorboard->keras-tuner) (4.2.2)\n",
      "Requirement already satisfied: rsa<5,>=3.1.4 in /storage/software/easybuild/software/TensorFlow/2.5.0-fosscuda-2020b/lib/python3.8/site-packages (from google-auth<2,>=1.6.3->tensorboard->keras-tuner) (4.7.2)\n",
      "Requirement already satisfied: pyasn1-modules>=0.2.1 in /storage/software/easybuild/software/TensorFlow/2.5.0-fosscuda-2020b/lib/python3.8/site-packages (from google-auth<2,>=1.6.3->tensorboard->keras-tuner) (0.2.8)\n",
      "Requirement already satisfied: requests-oauthlib>=0.7.0 in /storage/software/easybuild/software/TensorFlow/2.5.0-fosscuda-2020b/lib/python3.8/site-packages (from google-auth-oauthlib<0.5,>=0.4.1->tensorboard->keras-tuner) (1.3.0)\n",
      "Requirement already satisfied: parso<0.9.0,>=0.8.0 in /home/jovyan/.local/lib/python3.8/site-packages (from jedi>=0.16->ipython->keras-tuner) (0.8.3)\n",
      "Requirement already satisfied: ptyprocess>=0.5 in /storage/software/easybuild/software/Python/3.8.6-GCCcore-10.2.0/lib/python3.8/site-packages (from pexpect>4.3->ipython->keras-tuner) (0.6.0)\n",
      "Requirement already satisfied: wcwidth in /storage/software/easybuild/software/Python/3.8.6-GCCcore-10.2.0/lib/python3.8/site-packages (from prompt-toolkit!=3.0.0,!=3.0.1,<3.1.0,>=2.0.0->ipython->keras-tuner) (0.2.5)\n",
      "Requirement already satisfied: pure-eval in /home/jovyan/.local/lib/python3.8/site-packages (from stack-data->ipython->keras-tuner) (0.2.2)\n",
      "Requirement already satisfied: executing in /home/jovyan/.local/lib/python3.8/site-packages (from stack-data->ipython->keras-tuner) (0.8.3)\n",
      "Requirement already satisfied: asttokens in /home/jovyan/.local/lib/python3.8/site-packages (from stack-data->ipython->keras-tuner) (2.0.5)\n",
      "Requirement already satisfied: pyasn1<0.5.0,>=0.4.6 in /storage/software/easybuild/software/Python/3.8.6-GCCcore-10.2.0/lib/python3.8/site-packages (from pyasn1-modules>=0.2.1->google-auth<2,>=1.6.3->tensorboard->keras-tuner) (0.4.8)\n",
      "Requirement already satisfied: oauthlib>=3.0.0 in /storage/software/easybuild/software/TensorFlow/2.5.0-fosscuda-2020b/lib/python3.8/site-packages (from requests-oauthlib>=0.7.0->google-auth-oauthlib<0.5,>=0.4.1->tensorboard->keras-tuner) (3.1.0)\n",
      "\u001b[33mWARNING: Running pip as the 'root' user can result in broken permissions and conflicting behaviour with the system package manager. It is recommended to use a virtual environment instead: https://pip.pypa.io/warnings/venv\u001b[0m\u001b[33m\n",
      "\u001b[0m"
     ]
    }
   ],
   "source": [
    "!pip install keras-tuner"
   ]
  },
  {
   "cell_type": "code",
   "execution_count": 3,
   "id": "genuine-confidence",
   "metadata": {},
   "outputs": [
    {
     "name": "stdout",
     "output_type": "stream",
     "text": [
      "Defaulting to user installation because normal site-packages is not writeable\n",
      "Requirement already satisfied: scikit-plot in /home/jovyan/.local/lib/python3.8/site-packages (0.3.7)\n",
      "Requirement already satisfied: joblib>=0.10 in /storage/software/easybuild/software/Python/3.8.6-GCCcore-10.2.0/lib/python3.8/site-packages (from scikit-plot) (0.17.0)\n",
      "Requirement already satisfied: matplotlib>=1.4.0 in /storage/software/easybuild/software/TensorFlowAnalysis/1.0.0-fosscuda-2020b/lib/python3.8/site-packages (from scikit-plot) (3.5.1)\n",
      "Requirement already satisfied: scipy>=0.9 in /storage/software/easybuild/software/SciPy-bundle/2020.11-fosscuda-2020b/lib/python3.8/site-packages (from scikit-plot) (1.5.4)\n",
      "Requirement already satisfied: scikit-learn>=0.18 in /storage/software/easybuild/software/TensorFlowAnalysis/1.0.0-fosscuda-2020b/lib/python3.8/site-packages (from scikit-plot) (1.0.2)\n",
      "Requirement already satisfied: packaging>=20.0 in /storage/software/easybuild/software/Python/3.8.6-GCCcore-10.2.0/lib/python3.8/site-packages (from matplotlib>=1.4.0->scikit-plot) (20.4)\n",
      "Requirement already satisfied: cycler>=0.10 in /storage/software/easybuild/software/TensorFlowAnalysis/1.0.0-fosscuda-2020b/lib/python3.8/site-packages (from matplotlib>=1.4.0->scikit-plot) (0.11.0)\n",
      "Requirement already satisfied: pyparsing>=2.2.1 in /storage/software/easybuild/software/Python/3.8.6-GCCcore-10.2.0/lib/python3.8/site-packages (from matplotlib>=1.4.0->scikit-plot) (2.4.7)\n",
      "Requirement already satisfied: pillow>=6.2.0 in /storage/software/easybuild/software/TensorFlowAnalysis/1.0.0-fosscuda-2020b/lib/python3.8/site-packages (from matplotlib>=1.4.0->scikit-plot) (9.0.0)\n",
      "Requirement already satisfied: fonttools>=4.22.0 in /storage/software/easybuild/software/TensorFlowAnalysis/1.0.0-fosscuda-2020b/lib/python3.8/site-packages (from matplotlib>=1.4.0->scikit-plot) (4.28.5)\n",
      "Requirement already satisfied: numpy>=1.17 in /storage/software/easybuild/software/SciPy-bundle/2020.11-fosscuda-2020b/lib/python3.8/site-packages (from matplotlib>=1.4.0->scikit-plot) (1.19.4)\n",
      "Requirement already satisfied: kiwisolver>=1.0.1 in /storage/software/easybuild/software/TensorFlowAnalysis/1.0.0-fosscuda-2020b/lib/python3.8/site-packages (from matplotlib>=1.4.0->scikit-plot) (1.3.2)\n",
      "Requirement already satisfied: python-dateutil>=2.7 in /storage/software/easybuild/software/Python/3.8.6-GCCcore-10.2.0/lib/python3.8/site-packages (from matplotlib>=1.4.0->scikit-plot) (2.8.1)\n",
      "Requirement already satisfied: threadpoolctl>=2.0.0 in /storage/software/easybuild/software/Python/3.8.6-GCCcore-10.2.0/lib/python3.8/site-packages (from scikit-learn>=0.18->scikit-plot) (2.1.0)\n",
      "Requirement already satisfied: six in /storage/software/easybuild/software/Python/3.8.6-GCCcore-10.2.0/lib/python3.8/site-packages (from packaging>=20.0->matplotlib>=1.4.0->scikit-plot) (1.15.0)\n",
      "\u001b[33mWARNING: Running pip as the 'root' user can result in broken permissions and conflicting behaviour with the system package manager. It is recommended to use a virtual environment instead: https://pip.pypa.io/warnings/venv\u001b[0m\u001b[33m\n",
      "\u001b[0m"
     ]
    }
   ],
   "source": [
    "!pip install scikit-plot"
   ]
  },
  {
   "cell_type": "code",
   "execution_count": 4,
   "id": "brilliant-start",
   "metadata": {},
   "outputs": [
    {
     "name": "stdout",
     "output_type": "stream",
     "text": [
      "Defaulting to user installation because normal site-packages is not writeable\n",
      "Requirement already satisfied: pydot in /home/jovyan/.local/lib/python3.8/site-packages (1.4.2)\n",
      "Requirement already satisfied: pyparsing>=2.1.4 in /storage/software/easybuild/software/Python/3.8.6-GCCcore-10.2.0/lib/python3.8/site-packages (from pydot) (2.4.7)\n",
      "\u001b[33mWARNING: Running pip as the 'root' user can result in broken permissions and conflicting behaviour with the system package manager. It is recommended to use a virtual environment instead: https://pip.pypa.io/warnings/venv\u001b[0m\u001b[33m\n",
      "\u001b[0m"
     ]
    }
   ],
   "source": [
    "!pip install pydot"
   ]
  },
  {
   "cell_type": "code",
   "execution_count": 6,
   "id": "relative-absence",
   "metadata": {},
   "outputs": [],
   "source": [
    "import pandas as pd \n",
    "import numpy as np\n",
    "import matplotlib.pyplot as plt \n",
    "import tensorflow as tf\n",
    "import keras_tuner as kt\n",
    "import plot_set\n",
    "import os\n",
    "seed = tf.random.set_seed(1)\n",
    "#import ROOT as R"
   ]
  },
  {
   "cell_type": "code",
   "execution_count": 7,
   "id": "turned-toolbox",
   "metadata": {},
   "outputs": [],
   "source": [
    "#os.environ[\"CUDA_VISIBLE_DEVICES\"] = \"-1\"\n",
    "\n",
    "df_atlas = pd.read_hdf(\"/storage/shared/data/2lep_df_forML_data_fromRDF.hdf5\")\n",
    "df = pd.read_hdf(\"/storage/shared/data/2lep_df_forML_bkg_signal_fromRDF.hdf5\")\n",
    "\n",
    "\n",
    "#weights = pd.read_csv(\"weights.csv\")"
   ]
  },
  {
   "cell_type": "code",
   "execution_count": 8,
   "id": "understanding-stock",
   "metadata": {},
   "outputs": [
    {
     "name": "stdout",
     "output_type": "stream",
     "text": [
      "<class 'pandas.core.frame.DataFrame'>\n",
      "Int64Index: 109683372 entries, 0 to 109683371\n",
      "Data columns (total 39 columns):\n",
      " #   Column                     Dtype  \n",
      "---  ------                     -----  \n",
      " 0   njet20                     int32  \n",
      " 1   njet60                     int32  \n",
      " 2   nbjet60                    int32  \n",
      " 3   nbjet70                    int32  \n",
      " 4   nbjet77                    int32  \n",
      " 5   nbjet85                    int32  \n",
      " 6   isOS                       int32  \n",
      " 7   isSF                       int32  \n",
      " 8   mll                        float32\n",
      " 9   mt2                        float32\n",
      " 10  met_et                     float32\n",
      " 11  met_phi                    float32\n",
      " 12  lep1_flav                  int32  \n",
      " 13  lep1_pt                    float32\n",
      " 14  lep1_eta                   float32\n",
      " 15  lep1_phi                   float32\n",
      " 16  lep1_E                     float32\n",
      " 17  lep1_ptcone30              float32\n",
      " 18  lep1_etcone20              float32\n",
      " 19  lep1_trackd0pvunbiased     float32\n",
      " 20  lep1_tracksigd0pvunbiased  float32\n",
      " 21  lep1_isTightID             float32\n",
      " 22  lep1_z0                    float32\n",
      " 23  lep2_flav                  int32  \n",
      " 24  lep2_pt                    float32\n",
      " 25  lep2_eta                   float32\n",
      " 26  lep2_phi                   float32\n",
      " 27  lep2_E                     float32\n",
      " 28  lep2_ptcone30              float32\n",
      " 29  lep2_etcone20              float32\n",
      " 30  lep2_trackd0pvunbiased     float32\n",
      " 31  lep2_tracksigd0pvunbiased  float32\n",
      " 32  lep2_isTightID             float32\n",
      " 33  lep2_z0                    float32\n",
      " 34  channelNumber              int32  \n",
      " 35  costhstar                  float32\n",
      " 36  weight                     float64\n",
      " 37  category                   object \n",
      " 38  physdescr                  object \n",
      "dtypes: float32(25), float64(1), int32(11), object(2)\n",
      "memory usage: 18.0+ GB\n",
      "<class 'pandas.core.frame.DataFrame'>\n",
      "Int64Index: 11442336 entries, 0 to 11442335\n",
      "Data columns (total 37 columns):\n",
      " #   Column                     Dtype  \n",
      "---  ------                     -----  \n",
      " 0   njet20                     int32  \n",
      " 1   njet60                     int32  \n",
      " 2   nbjet60                    int32  \n",
      " 3   nbjet70                    int32  \n",
      " 4   nbjet77                    int32  \n",
      " 5   nbjet85                    int32  \n",
      " 6   isOS                       int32  \n",
      " 7   isSF                       int32  \n",
      " 8   mll                        float32\n",
      " 9   mt2                        float32\n",
      " 10  met_et                     float32\n",
      " 11  met_phi                    float32\n",
      " 12  lep1_flav                  int32  \n",
      " 13  lep1_pt                    float32\n",
      " 14  lep1_eta                   float32\n",
      " 15  lep1_phi                   float32\n",
      " 16  lep1_E                     float32\n",
      " 17  lep1_ptcone30              float32\n",
      " 18  lep1_etcone20              float32\n",
      " 19  lep1_trackd0pvunbiased     float32\n",
      " 20  lep1_tracksigd0pvunbiased  float32\n",
      " 21  lep1_isTightID             float32\n",
      " 22  lep1_z0                    float32\n",
      " 23  lep2_flav                  int32  \n",
      " 24  lep2_pt                    float32\n",
      " 25  lep2_eta                   float32\n",
      " 26  lep2_phi                   float32\n",
      " 27  lep2_E                     float32\n",
      " 28  lep2_ptcone30              float32\n",
      " 29  lep2_etcone20              float32\n",
      " 30  lep2_trackd0pvunbiased     float32\n",
      " 31  lep2_tracksigd0pvunbiased  float32\n",
      " 32  lep2_isTightID             float32\n",
      " 33  lep2_z0                    float32\n",
      " 34  channelNumber              int32  \n",
      " 35  costhstar                  float32\n",
      " 36  weight                     float64\n",
      "dtypes: float32(25), float64(1), int32(11)\n",
      "memory usage: 1.7 GB\n"
     ]
    }
   ],
   "source": [
    "df.info()\n",
    "df_atlas.info()\n",
    "#weights.info()"
   ]
  },
  {
   "cell_type": "code",
   "execution_count": 9,
   "id": "sharp-default",
   "metadata": {},
   "outputs": [
    {
     "data": {
      "text/plain": [
       "0                            Zee\n",
       "1                            Zee\n",
       "2                            Zee\n",
       "3                            Zee\n",
       "4                            Zee\n",
       "                    ...         \n",
       "109683367    Zee_PTV0_70_BFilter\n",
       "109683368    Zee_PTV0_70_BFilter\n",
       "109683369    Zee_PTV0_70_BFilter\n",
       "109683370    Zee_PTV0_70_BFilter\n",
       "109683371    Zee_PTV0_70_BFilter\n",
       "Name: physdescr, Length: 109683372, dtype: object"
      ]
     },
     "execution_count": 9,
     "metadata": {},
     "output_type": "execute_result"
    }
   ],
   "source": [
    "df[\"physdescr\"]"
   ]
  },
  {
   "cell_type": "markdown",
   "id": "soviet-sister",
   "metadata": {},
   "source": [
    "### Adding more columns \n",
    "Because the dataset is lacking the \"isSignal\" and \"weight\" columns, we have to create them our self"
   ]
  },
  {
   "cell_type": "code",
   "execution_count": 10,
   "id": "fiscal-lincoln",
   "metadata": {},
   "outputs": [
    {
     "data": {
      "text/plain": [
       "array(['Zjetsincl', 'Zjets', 'Diboson', 'Higgs', 'singleTop', 'topX',\n",
       "       'RS_G_ZZ', 'SUSYC1N2', 'Wjets', 'SUSYC1C1', 'dmV_Zll', 'ttbar',\n",
       "       'GG_ttn1', 'ZPrimett', 'Gee', 'SUSYSlepSlep', 'ZPrimeee',\n",
       "       'ZPrimemumu', 'Wjetsincl', 'Gmumu', 'TT_directTT'], dtype=object)"
      ]
     },
     "execution_count": 10,
     "metadata": {},
     "output_type": "execute_result"
    }
   ],
   "source": [
    "df[\"category\"].unique()"
   ]
  },
  {
   "cell_type": "code",
   "execution_count": 11,
   "id": "celtic-healing",
   "metadata": {},
   "outputs": [],
   "source": [
    "signals = ['ZPrimemumu', 'SUSYC1C1', 'RS_G_ZZ', 'SUSYSlepSlep', 'SUSYC1N2', 'ZPrimett', 'ZPrimeee', 'dmV_Zll', 'GG_ttn1', 'TT_directTT', 'Gee', 'Gmumu']"
   ]
  },
  {
   "cell_type": "code",
   "execution_count": 12,
   "id": "accomplished-packet",
   "metadata": {},
   "outputs": [],
   "source": [
    "issignal = np.where(df[\"category\"].isin(signals)  , 1, 0)"
   ]
  },
  {
   "cell_type": "code",
   "execution_count": 13,
   "id": "varying-bulletin",
   "metadata": {},
   "outputs": [],
   "source": [
    "df = df.assign(isSignal=issignal)"
   ]
  },
  {
   "cell_type": "code",
   "execution_count": 14,
   "id": "floppy-fortune",
   "metadata": {},
   "outputs": [
    {
     "data": {
      "text/html": [
       "<div>\n",
       "<style scoped>\n",
       "    .dataframe tbody tr th:only-of-type {\n",
       "        vertical-align: middle;\n",
       "    }\n",
       "\n",
       "    .dataframe tbody tr th {\n",
       "        vertical-align: top;\n",
       "    }\n",
       "\n",
       "    .dataframe thead th {\n",
       "        text-align: right;\n",
       "    }\n",
       "</style>\n",
       "<table border=\"1\" class=\"dataframe\">\n",
       "  <thead>\n",
       "    <tr style=\"text-align: right;\">\n",
       "      <th></th>\n",
       "      <th>njet20</th>\n",
       "      <th>njet60</th>\n",
       "      <th>nbjet60</th>\n",
       "      <th>nbjet70</th>\n",
       "      <th>nbjet77</th>\n",
       "      <th>nbjet85</th>\n",
       "      <th>isOS</th>\n",
       "      <th>isSF</th>\n",
       "      <th>mll</th>\n",
       "      <th>mt2</th>\n",
       "      <th>...</th>\n",
       "      <th>lep2_trackd0pvunbiased</th>\n",
       "      <th>lep2_tracksigd0pvunbiased</th>\n",
       "      <th>lep2_isTightID</th>\n",
       "      <th>lep2_z0</th>\n",
       "      <th>channelNumber</th>\n",
       "      <th>costhstar</th>\n",
       "      <th>weight</th>\n",
       "      <th>category</th>\n",
       "      <th>physdescr</th>\n",
       "      <th>isSignal</th>\n",
       "    </tr>\n",
       "  </thead>\n",
       "  <tbody>\n",
       "    <tr>\n",
       "      <th>0</th>\n",
       "      <td>0</td>\n",
       "      <td>0</td>\n",
       "      <td>0</td>\n",
       "      <td>0</td>\n",
       "      <td>0</td>\n",
       "      <td>0</td>\n",
       "      <td>1</td>\n",
       "      <td>1</td>\n",
       "      <td>83241.078125</td>\n",
       "      <td>203008.812500</td>\n",
       "      <td>...</td>\n",
       "      <td>-0.022843</td>\n",
       "      <td>0.767920</td>\n",
       "      <td>1.0</td>\n",
       "      <td>0.000382</td>\n",
       "      <td>361106</td>\n",
       "      <td>0.113907</td>\n",
       "      <td>0.127318</td>\n",
       "      <td>Zjetsincl</td>\n",
       "      <td>Zee</td>\n",
       "      <td>0</td>\n",
       "    </tr>\n",
       "    <tr>\n",
       "      <th>1</th>\n",
       "      <td>1</td>\n",
       "      <td>0</td>\n",
       "      <td>0</td>\n",
       "      <td>0</td>\n",
       "      <td>0</td>\n",
       "      <td>0</td>\n",
       "      <td>1</td>\n",
       "      <td>1</td>\n",
       "      <td>91189.015625</td>\n",
       "      <td>115910.992188</td>\n",
       "      <td>...</td>\n",
       "      <td>-0.001654</td>\n",
       "      <td>0.100329</td>\n",
       "      <td>1.0</td>\n",
       "      <td>-0.136329</td>\n",
       "      <td>361106</td>\n",
       "      <td>0.864449</td>\n",
       "      <td>0.114645</td>\n",
       "      <td>Zjetsincl</td>\n",
       "      <td>Zee</td>\n",
       "      <td>0</td>\n",
       "    </tr>\n",
       "  </tbody>\n",
       "</table>\n",
       "<p>2 rows × 40 columns</p>\n",
       "</div>"
      ],
      "text/plain": [
       "   njet20  njet60  nbjet60  nbjet70  nbjet77  nbjet85  isOS  isSF  \\\n",
       "0       0       0        0        0        0        0     1     1   \n",
       "1       1       0        0        0        0        0     1     1   \n",
       "\n",
       "            mll            mt2  ...  lep2_trackd0pvunbiased  \\\n",
       "0  83241.078125  203008.812500  ...               -0.022843   \n",
       "1  91189.015625  115910.992188  ...               -0.001654   \n",
       "\n",
       "   lep2_tracksigd0pvunbiased  lep2_isTightID   lep2_z0  channelNumber  \\\n",
       "0                   0.767920             1.0  0.000382         361106   \n",
       "1                   0.100329             1.0 -0.136329         361106   \n",
       "\n",
       "   costhstar    weight   category  physdescr  isSignal  \n",
       "0   0.113907  0.127318  Zjetsincl        Zee         0  \n",
       "1   0.864449  0.114645  Zjetsincl        Zee         0  \n",
       "\n",
       "[2 rows x 40 columns]"
      ]
     },
     "execution_count": 14,
     "metadata": {},
     "output_type": "execute_result"
    }
   ],
   "source": [
    "df.head(2)"
   ]
  },
  {
   "cell_type": "markdown",
   "id": "respiratory-kentucky",
   "metadata": {},
   "source": [
    "Remove W jets include and Z jets include"
   ]
  },
  {
   "cell_type": "code",
   "execution_count": 15,
   "id": "hollywood-representation",
   "metadata": {},
   "outputs": [],
   "source": [
    "zjetsinl_idx = df[df[\"category\"] == \"Zjetsincl\"].index\n",
    "wjetsinl_idx = df[df[\"category\"] == \"Wjetsincl\"].index"
   ]
  },
  {
   "cell_type": "code",
   "execution_count": 16,
   "id": "treated-happiness",
   "metadata": {},
   "outputs": [],
   "source": [
    "df.drop(zjetsinl_idx ,inplace=True)\n",
    "df.drop(wjetsinl_idx ,inplace=True)"
   ]
  },
  {
   "cell_type": "code",
   "execution_count": 17,
   "id": "bigger-catholic",
   "metadata": {},
   "outputs": [
    {
     "data": {
      "text/html": [
       "<div>\n",
       "<style scoped>\n",
       "    .dataframe tbody tr th:only-of-type {\n",
       "        vertical-align: middle;\n",
       "    }\n",
       "\n",
       "    .dataframe tbody tr th {\n",
       "        vertical-align: top;\n",
       "    }\n",
       "\n",
       "    .dataframe thead th {\n",
       "        text-align: right;\n",
       "    }\n",
       "</style>\n",
       "<table border=\"1\" class=\"dataframe\">\n",
       "  <thead>\n",
       "    <tr style=\"text-align: right;\">\n",
       "      <th></th>\n",
       "      <th>njet20</th>\n",
       "      <th>njet60</th>\n",
       "      <th>nbjet60</th>\n",
       "      <th>nbjet70</th>\n",
       "      <th>nbjet77</th>\n",
       "      <th>nbjet85</th>\n",
       "      <th>isOS</th>\n",
       "      <th>isSF</th>\n",
       "      <th>mll</th>\n",
       "      <th>mt2</th>\n",
       "      <th>...</th>\n",
       "      <th>lep2_E</th>\n",
       "      <th>lep2_ptcone30</th>\n",
       "      <th>lep2_etcone20</th>\n",
       "      <th>lep2_trackd0pvunbiased</th>\n",
       "      <th>lep2_tracksigd0pvunbiased</th>\n",
       "      <th>lep2_isTightID</th>\n",
       "      <th>lep2_z0</th>\n",
       "      <th>channelNumber</th>\n",
       "      <th>costhstar</th>\n",
       "      <th>weight</th>\n",
       "    </tr>\n",
       "  </thead>\n",
       "  <tbody>\n",
       "    <tr>\n",
       "      <th>0</th>\n",
       "      <td>1</td>\n",
       "      <td>0</td>\n",
       "      <td>0</td>\n",
       "      <td>0</td>\n",
       "      <td>0</td>\n",
       "      <td>0</td>\n",
       "      <td>1</td>\n",
       "      <td>1</td>\n",
       "      <td>12510.837891</td>\n",
       "      <td>57409.433594</td>\n",
       "      <td>...</td>\n",
       "      <td>10032.247070</td>\n",
       "      <td>1196.712769</td>\n",
       "      <td>-92.074127</td>\n",
       "      <td>-0.000793</td>\n",
       "      <td>0.044793</td>\n",
       "      <td>1.0</td>\n",
       "      <td>-0.024559</td>\n",
       "      <td>300800</td>\n",
       "      <td>0.131353</td>\n",
       "      <td>1.0</td>\n",
       "    </tr>\n",
       "    <tr>\n",
       "      <th>1</th>\n",
       "      <td>1</td>\n",
       "      <td>0</td>\n",
       "      <td>0</td>\n",
       "      <td>0</td>\n",
       "      <td>0</td>\n",
       "      <td>0</td>\n",
       "      <td>1</td>\n",
       "      <td>1</td>\n",
       "      <td>91430.445312</td>\n",
       "      <td>192062.109375</td>\n",
       "      <td>...</td>\n",
       "      <td>192062.109375</td>\n",
       "      <td>0.000000</td>\n",
       "      <td>-174.402069</td>\n",
       "      <td>0.003242</td>\n",
       "      <td>0.373168</td>\n",
       "      <td>1.0</td>\n",
       "      <td>-0.064178</td>\n",
       "      <td>300800</td>\n",
       "      <td>0.323297</td>\n",
       "      <td>1.0</td>\n",
       "    </tr>\n",
       "  </tbody>\n",
       "</table>\n",
       "<p>2 rows × 37 columns</p>\n",
       "</div>"
      ],
      "text/plain": [
       "   njet20  njet60  nbjet60  nbjet70  nbjet77  nbjet85  isOS  isSF  \\\n",
       "0       1       0        0        0        0        0     1     1   \n",
       "1       1       0        0        0        0        0     1     1   \n",
       "\n",
       "            mll            mt2  ...         lep2_E  lep2_ptcone30  \\\n",
       "0  12510.837891   57409.433594  ...   10032.247070    1196.712769   \n",
       "1  91430.445312  192062.109375  ...  192062.109375       0.000000   \n",
       "\n",
       "   lep2_etcone20  lep2_trackd0pvunbiased  lep2_tracksigd0pvunbiased  \\\n",
       "0     -92.074127               -0.000793                   0.044793   \n",
       "1    -174.402069                0.003242                   0.373168   \n",
       "\n",
       "   lep2_isTightID   lep2_z0  channelNumber  costhstar  weight  \n",
       "0             1.0 -0.024559         300800   0.131353     1.0  \n",
       "1             1.0 -0.064178         300800   0.323297     1.0  \n",
       "\n",
       "[2 rows x 37 columns]"
      ]
     },
     "execution_count": 17,
     "metadata": {},
     "output_type": "execute_result"
    }
   ],
   "source": [
    "df_atlas.head(2)\n"
   ]
  },
  {
   "cell_type": "code",
   "execution_count": null,
   "id": "intimate-pasta",
   "metadata": {},
   "outputs": [],
   "source": []
  },
  {
   "cell_type": "code",
   "execution_count": 18,
   "id": "ancient-stopping",
   "metadata": {},
   "outputs": [
    {
     "data": {
      "text/plain": [
       "Index(['njet20', 'njet60', 'nbjet60', 'nbjet70', 'nbjet77', 'nbjet85', 'isOS',\n",
       "       'isSF', 'mll', 'mt2', 'met_et', 'met_phi', 'lep1_flav', 'lep1_pt',\n",
       "       'lep1_eta', 'lep1_phi', 'lep1_E', 'lep1_ptcone30', 'lep1_etcone20',\n",
       "       'lep1_trackd0pvunbiased', 'lep1_tracksigd0pvunbiased', 'lep1_isTightID',\n",
       "       'lep1_z0', 'lep2_flav', 'lep2_pt', 'lep2_eta', 'lep2_phi', 'lep2_E',\n",
       "       'lep2_ptcone30', 'lep2_etcone20', 'lep2_trackd0pvunbiased',\n",
       "       'lep2_tracksigd0pvunbiased', 'lep2_isTightID', 'lep2_z0',\n",
       "       'channelNumber', 'costhstar', 'weight', 'category', 'physdescr',\n",
       "       'isSignal'],\n",
       "      dtype='object')"
      ]
     },
     "execution_count": 18,
     "metadata": {},
     "output_type": "execute_result"
    }
   ],
   "source": [
    "df.columns"
   ]
  },
  {
   "cell_type": "markdown",
   "id": "sticky-energy",
   "metadata": {},
   "source": [
    "### Data separation"
   ]
  },
  {
   "cell_type": "code",
   "execution_count": 19,
   "id": "moral-korean",
   "metadata": {},
   "outputs": [],
   "source": [
    "categories = df[\"category\"]\n",
    "\n",
    "background_categories = df[df[\"isSignal\"] == 0][\"category\"].unique()\n",
    "signal_df = df[df[\"isSignal\"] == 1]\n",
    "\n",
    "background_df = df[df[\"isSignal\"] == 0]\n",
    "\n",
    "\n"
   ]
  },
  {
   "cell_type": "code",
   "execution_count": 20,
   "id": "southwest-church",
   "metadata": {},
   "outputs": [
    {
     "name": "stdout",
     "output_type": "stream",
     "text": [
      "****************\n",
      "ZPrimemumu: 48.04\n",
      "SUSYC1C1: 4436.90\n",
      "RS_G_ZZ: 3889.14\n",
      "SUSYSlepSlep: 8831.75\n",
      "SUSYC1N2: 108581.91\n",
      "ZPrimett: 5504.11\n",
      "ZPrimeee: 72.17\n",
      "dmV_Zll: 37080.54\n",
      "GG_ttn1: 115.43\n",
      "TT_directTT: 526.42\n",
      "Gee: 15470.17\n",
      "Gmumu: 215916817.91\n",
      "***************\n",
      "2.161014e+08\n"
     ]
    }
   ],
   "source": [
    "sig = df[df[\"isSignal\"] == 1][\"weight\"]\n",
    "print(\"Signal MC weights\")\n",
    "print(\"****************\")\n",
    "\n",
    "tot = 0\n",
    "for sig in signals:\n",
    "\n",
    "    sign = df[df[\"category\"]== sig][\"weight\"]\n",
    "    print(\"{}: {:.2f}\".format(sig, np.sum(sign)))\n",
    "    tot += np.sum(sign)\n",
    "    \n",
    "print(\"***************\")\n",
    "print(\"{:e}\".format(tot))"
   ]
  },
  {
   "cell_type": "code",
   "execution_count": 21,
   "id": "celtic-mayor",
   "metadata": {},
   "outputs": [
    {
     "name": "stdout",
     "output_type": "stream",
     "text": [
      "1.078580e+07\n"
     ]
    }
   ],
   "source": [
    "b = df[df[\"isSignal\"]==0][\"weight\"]\n",
    "print(\"Background MC weight total\")\n",
    "print(\"{:e}\".format(np.sum(b)))"
   ]
  },
  {
   "cell_type": "code",
   "execution_count": 22,
   "id": "minus-composition",
   "metadata": {},
   "outputs": [
    {
     "data": {
      "text/plain": [
       "Index(['njet20', 'njet60', 'nbjet60', 'nbjet70', 'nbjet77', 'nbjet85', 'isOS',\n",
       "       'isSF', 'mll', 'mt2', 'met_et', 'met_phi', 'lep1_flav', 'lep1_pt',\n",
       "       'lep1_eta', 'lep1_phi', 'lep1_E', 'lep1_ptcone30', 'lep1_etcone20',\n",
       "       'lep1_trackd0pvunbiased', 'lep1_tracksigd0pvunbiased', 'lep1_isTightID',\n",
       "       'lep1_z0', 'lep2_flav', 'lep2_pt', 'lep2_eta', 'lep2_phi', 'lep2_E',\n",
       "       'lep2_ptcone30', 'lep2_etcone20', 'lep2_trackd0pvunbiased',\n",
       "       'lep2_tracksigd0pvunbiased', 'lep2_isTightID', 'lep2_z0',\n",
       "       'channelNumber', 'costhstar', 'weight', 'category', 'physdescr',\n",
       "       'isSignal'],\n",
       "      dtype='object')"
      ]
     },
     "execution_count": 22,
     "metadata": {},
     "output_type": "execute_result"
    }
   ],
   "source": [
    "background_df.columns"
   ]
  },
  {
   "cell_type": "markdown",
   "id": "middle-alabama",
   "metadata": {},
   "source": [
    "### Plot to check somewhat agreement with data and MC"
   ]
  },
  {
   "cell_type": "code",
   "execution_count": null,
   "id": "amateur-bridal",
   "metadata": {},
   "outputs": [],
   "source": []
  },
  {
   "cell_type": "code",
   "execution_count": 23,
   "id": "associate-ordinary",
   "metadata": {},
   "outputs": [
    {
     "data": {
      "image/png": "[encoded data removed]",
      "text/plain": [
       "<Figure size 864x648 with 1 Axes>"
      ]
     },
     "metadata": {
      "needs_background": "light"
     },
     "output_type": "display_data"
    }
   ],
   "source": [
    "histo_b = background_df[\"lep2_phi\"]\n",
    "histo_data = df_atlas[\"lep2_phi\"]\n",
    "weight_histo = background_df[\"weight\"]\n",
    "                \n",
    "plt.rcParams[\"figure.figsize\"] = (12,9)\n",
    "fig, ax = plt.subplots()\n",
    "\n",
    "N, bins = np.histogram(histo_data, bins = 100)\n",
    "x = (np.array(bins[0:-1]) + np.array(bins[1:]))/2\n",
    "\n",
    "n_bins= 100\n",
    "colors = [\"green\"]\n",
    "labels= [\"Background\"]\n",
    "ax.hist(histo_b, \n",
    "        n_bins,   \n",
    "        histtype='bar', \n",
    "        color=colors, \n",
    "        label=labels, \n",
    "        weights=weight_histo\n",
    "        )\n",
    "\n",
    "ax.scatter(x, N, marker=\"x\", color=\"red\",label=\"Data\")\n",
    "\n",
    "ax.legend(prop={'size': 10})\n",
    "ax.set_title('Lep2_phi agreement with MC and data')\n",
    "ax.set_xlabel('Lep2_phi')\n",
    "ax.set_ylabel('#Events')\n",
    "ax.set_yscale('log')\n",
    "ax.set_ylim([5e4, 2e5])\n",
    "\n",
    "fig.tight_layout()\n",
    "#plt.savefig(\"b_s_recon.pdf\")\n",
    "plt.show()"
   ]
  },
  {
   "cell_type": "code",
   "execution_count": 24,
   "id": "victorian-tiffany",
   "metadata": {},
   "outputs": [
    {
     "data": {
      "image/png": "[encoded data removed]",
      "text/plain": [
       "<Figure size 864x648 with 1 Axes>"
      ]
     },
     "metadata": {
      "needs_background": "light"
     },
     "output_type": "display_data"
    }
   ],
   "source": [
    "histo_b = background_df[\"met_et\"]\n",
    "histo_data = df_atlas[\"met_et\"]\n",
    "\n",
    "weight_histo = background_df[\"weight\"]\n",
    "                \n",
    "plt.rcParams[\"figure.figsize\"] = (12,9)\n",
    "fig, ax = plt.subplots()\n",
    "\n",
    "N, bins = np.histogram(histo_data, bins = 100)\n",
    "x = (np.array(bins[0:-1]) + np.array(bins[1:]))/2\n",
    "\n",
    "n_bins= 100\n",
    "colors = [\"green\"]\n",
    "labels= [\"Background\"]\n",
    "ax.hist(histo_b, \n",
    "        n_bins,   \n",
    "        histtype='bar', \n",
    "        color=colors, \n",
    "        label=labels, \n",
    "        weights=weight_histo\n",
    "        )\n",
    "\n",
    "ax.scatter(x, N, marker=\"x\", color=\"red\",label=\"Data\")\n",
    "\n",
    "ax.legend(prop={'size': 10})\n",
    "ax.set_title('Met_et agreement with MC and data')\n",
    "ax.set_xlabel('Met_et')\n",
    "ax.set_ylabel('#Events')\n",
    "ax.set_yscale('log')\n",
    "#ax.set_ylim([5e4, 2e5])\n",
    "\n",
    "fig.tight_layout()\n",
    "#plt.savefig(\"b_s_recon.pdf\")\n",
    "plt.show()"
   ]
  },
  {
   "cell_type": "code",
   "execution_count": 25,
   "id": "rubber-constitutional",
   "metadata": {},
   "outputs": [
    {
     "data": {
      "image/png": "[encoded data removed]",
      "text/plain": [
       "<Figure size 864x648 with 1 Axes>"
      ]
     },
     "metadata": {
      "needs_background": "light"
     },
     "output_type": "display_data"
    }
   ],
   "source": [
    "histo_b = background_df[\"lep1_eta\"]\n",
    "histo_data = df_atlas[\"lep1_eta\"]\n",
    "\n",
    "weight_histo = background_df[\"weight\"]\n",
    "                \n",
    "plt.rcParams[\"figure.figsize\"] = (12,9)\n",
    "fig, ax = plt.subplots()\n",
    "\n",
    "N, bins = np.histogram(histo_data, bins = 100)\n",
    "x = (np.array(bins[0:-1]) + np.array(bins[1:]))/2\n",
    "\n",
    "n_bins= 100\n",
    "colors = [\"green\"]\n",
    "labels= [\"Background\"]\n",
    "ax.hist(histo_b, \n",
    "        n_bins,   \n",
    "        histtype='bar', \n",
    "        color=colors, \n",
    "        label=labels, \n",
    "        weights=weight_histo\n",
    "        )\n",
    "\n",
    "ax.scatter(x, N, marker=\"x\", color=\"red\",label=\"Data\")\n",
    "\n",
    "ax.legend(prop={'size': 10})\n",
    "ax.set_title('lep1_eta agreement with MC and data')\n",
    "ax.set_xlabel('lep1_eta')\n",
    "ax.set_ylabel('#Events')\n",
    "ax.set_yscale('log')\n",
    "#ax.set_ylim([5e4, 2e5])\n",
    "\n",
    "fig.tight_layout()\n",
    "#plt.savefig(\"b_s_recon.pdf\")\n",
    "plt.show()"
   ]
  },
  {
   "cell_type": "markdown",
   "id": "baking-growth",
   "metadata": {},
   "source": [
    "### Remove bad features"
   ]
  },
  {
   "cell_type": "code",
   "execution_count": 26,
   "id": "turkish-bleeding",
   "metadata": {},
   "outputs": [
    {
     "name": "stderr",
     "output_type": "stream",
     "text": [
      "/storage/software/easybuild/software/SciPy-bundle/2020.11-fosscuda-2020b/lib/python3.8/site-packages/pandas/core/frame.py:4167: SettingWithCopyWarning: \n",
      "A value is trying to be set on a copy of a slice from a DataFrame\n",
      "\n",
      "See the caveats in the documentation: https://pandas.pydata.org/pandas-docs/stable/user_guide/indexing.html#returning-a-view-versus-a-copy\n",
      "  return super().drop(\n"
     ]
    }
   ],
   "source": [
    "columns_to_drop = [\"category\", \"isSignal\", \"physdescr\"]\n",
    "\n",
    "signal_df.drop(columns_to_drop, axis=1, inplace=True)\n",
    "background_df.drop(columns_to_drop, axis=1, inplace=True)\n",
    "\n",
    "#bad_feats = [\"lep1_eta\", \"lep2_eta\", \"lep1_phi\", \"lep2_phi\", \"met_phi\", \"lep2_isTightID\", \"lep1_isTightID\", \"nbjet60\", \"nbjet70\", \"nbjet77\"]\n",
    "bad_feats= [\"channelNumber\", \"lep1_tracksigd0pvunbiased\", \"lep2_tracksigd0pvunbiased\"]\n",
    "\n",
    "\n",
    "signal_df.drop(bad_feats, axis=1, inplace=True)\n",
    "background_df.drop(bad_feats, axis=1, inplace=True)\n",
    "df_atlas.drop(bad_feats, axis=1, inplace=True)\n",
    "\n",
    "signal_mc = signal_df#.to_numpy()\n",
    "background_mc = background_df#.to_numpy()\n",
    "\n",
    "data = df_atlas"
   ]
  },
  {
   "cell_type": "code",
   "execution_count": 27,
   "id": "numerical-charge",
   "metadata": {},
   "outputs": [
    {
     "name": "stdout",
     "output_type": "stream",
     "text": [
      "(63642138, 34)\n",
      "(2785054, 34)\n",
      "(11442336, 34)\n"
     ]
    }
   ],
   "source": [
    "print(np.shape(background_mc))\n",
    "print(np.shape(signal_mc))\n",
    "print(np.shape(data))\n"
   ]
  },
  {
   "cell_type": "markdown",
   "id": "effective-density",
   "metadata": {},
   "source": [
    "### Data handling and preperations\n",
    "Before we train on the data, we need to scale it and split it into a validation and "
   ]
  },
  {
   "cell_type": "code",
   "execution_count": 28,
   "id": "lucky-intelligence",
   "metadata": {},
   "outputs": [],
   "source": [
    "from sklearn.preprocessing import StandardScaler, MinMaxScaler\n",
    "from sklearn.model_selection import train_test_split\n",
    "from sklearn import preprocessing"
   ]
  },
  {
   "cell_type": "code",
   "execution_count": 29,
   "id": "hired-round",
   "metadata": {},
   "outputs": [],
   "source": [
    "# Split background\n",
    "X_b_train, X_b_val = train_test_split(background_mc, test_size=0.2, random_state=seed)\n",
    "# Split signal\n",
    "#X_s_train, X_s_test = train_test_split(signal_mc, test_size=0.2, random_state=seed)"
   ]
  },
  {
   "cell_type": "markdown",
   "id": "dried-torture",
   "metadata": {},
   "source": [
    "Now, combine samples for testing"
   ]
  },
  {
   "cell_type": "code",
   "execution_count": 30,
   "id": "configured-puppy",
   "metadata": {},
   "outputs": [],
   "source": [
    "b_train_weights = X_b_train[\"weight\"]\n",
    "b_val_weights = X_b_val[\"weight\"]\n",
    "s_test_weights = signal_mc[\"weight\"]\n",
    "\n",
    "data_weights = data[\"weight\"]\n",
    "\n",
    "X_b_train.pop(\"weight\")\n",
    "X_b_val.pop(\"weight\")\n",
    "signal_mc.pop(\"weight\")\n",
    "data.pop(\"weight\")\n",
    "\n",
    "\n",
    "X_s_test = signal_mc\n",
    "\n",
    "\n",
    "\n",
    "\n"
   ]
  },
  {
   "cell_type": "code",
   "execution_count": 31,
   "id": "constitutional-buying",
   "metadata": {},
   "outputs": [
    {
     "name": "stdout",
     "output_type": "stream",
     "text": [
      "216101374.4778469\n",
      "10785795.659772985\n"
     ]
    }
   ],
   "source": [
    "print(np.sum(s_test_weights))\n",
    "print(np.sum(np.concatenate((b_train_weights, b_val_weights),0)))"
   ]
  },
  {
   "cell_type": "markdown",
   "id": "exposed-mobile",
   "metadata": {},
   "source": [
    "### Find that weights correct for sample size"
   ]
  },
  {
   "cell_type": "code",
   "execution_count": 32,
   "id": "recovered-infrastructure",
   "metadata": {},
   "outputs": [],
   "source": [
    "sum_weight = np.concatenate((b_train_weights, b_val_weights), 0)\n",
    "sum_weight = np.sum(sum_weight)"
   ]
  },
  {
   "cell_type": "code",
   "execution_count": 33,
   "id": "satellite-qatar",
   "metadata": {},
   "outputs": [
    {
     "name": "stdout",
     "output_type": "stream",
     "text": [
      "10785795.659772985\n",
      "Difference in weights compared to amount of data is 5.738%\n"
     ]
    }
   ],
   "source": [
    "print(sum_weight) \n",
    "diff = abs(data.shape[0]- sum_weight)\n",
    "print(f\"Difference in weights compared to amount of data is {diff/data.shape[0]*100:.3f}%\")"
   ]
  },
  {
   "cell_type": "code",
   "execution_count": 34,
   "id": "continued-prompt",
   "metadata": {},
   "outputs": [
    {
     "name": "stdout",
     "output_type": "stream",
     "text": [
      "(50913710, 33)\n",
      "(2785054, 33)\n",
      "(11442336, 33)\n"
     ]
    }
   ],
   "source": [
    "print(np.shape(X_b_train))\n",
    "print(np.shape(X_s_test))\n",
    "print(np.shape(data))"
   ]
  },
  {
   "cell_type": "code",
   "execution_count": 35,
   "id": "logical-alberta",
   "metadata": {},
   "outputs": [],
   "source": [
    "strategy = tf.distribute.OneDeviceStrategy(device=\"/gpu:0\")\n",
    "\n",
    "with strategy.scope():\n",
    "\n",
    "    scaler_ae = StandardScaler()#MinMaxScaler()\n",
    "    X_b_train = scaler_ae.fit_transform(X_b_train)                                                                                                                                                                                                                        \n",
    "    X_b_val= scaler_ae.transform(X_b_val)                                                                                                                                                                                                                                 \n",
    "    X_s_test = scaler_ae.transform(X_s_test)\n",
    "    data = scaler_ae.transform(data)\n",
    "#X_test = scaler_ae.transform(X_test)"
   ]
  },
  {
   "cell_type": "code",
   "execution_count": 36,
   "id": "hungarian-stand",
   "metadata": {},
   "outputs": [],
   "source": [
    "data_shape = np.shape(X_b_train)[1]\n",
    "number_of_rows = np.shape(X_b_train)[0]\n",
    "n_vali = np.shape(X_b_val)[0]\n",
    "\n",
    "random_indices_b = np.random.choice(number_of_rows, size=int(1e7), replace=False)\n",
    "test_indices_b = np.random.choice(n_vali, size=int(2e6), replace=False)\n",
    "\n",
    "smaller_data = X_b_train[random_indices_b, :]\n",
    "small_vali = X_b_val[test_indices_b, :]\n",
    "\n"
   ]
  },
  {
   "cell_type": "markdown",
   "id": "simple-dream",
   "metadata": {},
   "source": [
    "Try to load data faster"
   ]
  },
  {
   "cell_type": "code",
   "execution_count": 37,
   "id": "destroyed-mistress",
   "metadata": {},
   "outputs": [],
   "source": [
    "#X_b_train = tf.data.Dataset.from_tensor_slices((X_b_train, X_b_train))\n",
    "#X_b_val = tf.data.Dataset.from_tensor_slices((X_b_val, X_b_val))\n",
    "#X_s_test = tf.data.Dataset.from_tensor_slices((X_s_test, X_s_test))\n",
    "#data = tf.data.Dataset.from_tensor_slices((data, data))\n",
    "#smaller_data = tf.data.Dataset.from_tensor_slices((smaller_data, smaller_data))\n",
    "#small_vali = tf.data.Dataset.from_tensor_slices((small_vali, small_vali))"
   ]
  },
  {
   "cell_type": "markdown",
   "id": "welcome-relations",
   "metadata": {},
   "source": [
    "### Training\n",
    "Now we can train on the data"
   ]
  },
  {
   "cell_type": "code",
   "execution_count": 38,
   "id": "incorporated-flash",
   "metadata": {},
   "outputs": [],
   "source": [
    "#tf.config.optimizer.set_jit( \"autoclustering\")\n",
    "def gridautoencoder(X_b, X_back_test):\n",
    "    tuner = kt.Hyperband(\n",
    "        AE_model_builder,\n",
    "        objective=kt.Objective(\"val_mse\", direction=\"min\"),\n",
    "        max_epochs=50,\n",
    "        factor=3,\n",
    "        directory=\"GridSearches\",\n",
    "        project_name=\"AE\",\n",
    "        overwrite=True,\n",
    "    )\n",
    "\n",
    "    tuner.search(X_b, X_b, epochs=15, batch_size=8192,\n",
    "                 validation_data=(X_back_test, X_back_test))\n",
    "    best_hps = tuner.get_best_hyperparameters(num_trials=1)[0]\n",
    "\n",
    "    print(\n",
    "        f\"\"\"\n",
    "    For Encoder: \\n \n",
    "    First layer has {best_hps.get('num_of_neurons1')} with activation {best_hps.get('1_act')} \\n\n",
    "    Second layer has {best_hps.get('num_of_neurons2')} with activation {best_hps.get('2_act')} \\n\n",
    "    Third layer has {best_hps.get('num_of_neurons3')} with activation {best_hps.get('3_act')} \\n\n",
    "    \n",
    "    Latent layer has {best_hps.get(\"lat_num\")} with activation {best_hps.get('2_act')} \\n\n",
    "    \\n\n",
    "    For Decoder: \\n \n",
    "    First layer has {best_hps.get('num_of_neurons5')} with activation {best_hps.get('5_act')}\\n\n",
    "    Second layer has {best_hps.get('num_of_neurons6')} with activation {best_hps.get('6_act')}\\n\n",
    "    Third layer has {best_hps.get('num_of_neurons7')} with activation {best_hps.get('7_act')}\\n\n",
    "    Output layer has activation {best_hps.get('8_act')}\\n\n",
    "    \\n\n",
    "    with learning rate = {best_hps.get('learning_rate')} and alpha = {best_hps.get('alpha')}\n",
    "    \"\"\"\n",
    "    )\n",
    "\n",
    "    state = True\n",
    "    while state == True:\n",
    "        answ = input(\"Do you want to save model? (y/n) \")\n",
    "        if answ == \"y\":\n",
    "            name = input(\"name: \")\n",
    "            tuner.hypermodel.build(best_hps).save(\n",
    "                f\"../tf_models/model_{name}.h5\")\n",
    "            state = False\n",
    "            print(\"Model saved\")\n",
    "        elif answ == \"n\":\n",
    "            state = False\n",
    "            print(\"Model not saved\")\n",
    "\n",
    "\n",
    "def AE_model_builder(hp):\n",
    "    ker_choice = hp.Choice(\"Kernel_reg\", values=[0.5, 0.1, 0.05, 0.01])\n",
    "    act_choice = hp.Choice(\"Atc_reg\", values=[0.5, 0.1, 0.05, 0.01])\n",
    "\n",
    "    alpha_choice = hp.Choice(\"alpha\", values=[1., 0.5, 0.1, 0.05, 0.01])\n",
    "    #get_custom_objects().update({\"leakyrelu\": tf.keras.layers.LeakyReLU(alpha=alpha_choice)})\n",
    "    activations = {\n",
    "        \"relu\": tf.nn.relu,\n",
    "        \"tanh\": tf.nn.tanh,\n",
    "        \"leakyrelu\": lambda x: tf.nn.leaky_relu(x, alpha=alpha_choice),\n",
    "        \"linear\": tf.keras.activations.linear\n",
    "    }\n",
    "    inputs = tf.keras.layers.Input(shape=data_shape, name=\"encoder_input\")\n",
    "    x = tf.keras.layers.Dense(\n",
    "        units=hp.Int(\"num_of_neurons1\", min_value=20, max_value=data_shape-1, step=1),\n",
    "        activation=activations.get(hp.Choice(\n",
    "            \"1_act\", [\"relu\", \"tanh\", \"leakyrelu\",\"linear\"])),\n",
    "        kernel_regularizer=tf.keras.regularizers.L1(ker_choice),\n",
    "        activity_regularizer=tf.keras.regularizers.L2(act_choice))(inputs)\n",
    "    x_ = tf.keras.layers.Dense(\n",
    "        units=hp.Int(\"num_of_neurons2\", min_value=15, max_value=19, step=1),\n",
    "        activation=activations.get(hp.Choice(\n",
    "            \"2_act\", [\"relu\", \"tanh\", \"leakyrelu\",\"linear\"])))(x)\n",
    "    x1 = tf.keras.layers.Dense(\n",
    "        units=hp.Int(\"num_of_neurons3\", min_value=10, max_value=14, step=1),\n",
    "        activation=activations.get(hp.Choice(\n",
    "            \"3_act\", [\"relu\", \"tanh\", \"leakyrelu\",\"linear\"])),\n",
    "        kernel_regularizer=tf.keras.regularizers.L1(ker_choice),\n",
    "        activity_regularizer=tf.keras.regularizers.L2(act_choice)\n",
    "    )(x_)\n",
    "    val = hp.Int(\"lat_num\", min_value=1, max_value=9, step=1)\n",
    "    x2 = tf.keras.layers.Dense(\n",
    "        units=val, activation=activations.get(hp.Choice(\n",
    "            \"4_act\", [\"relu\", \"tanh\", \"leakyrelu\",\"linear\"]))\n",
    "    )(x1)\n",
    "    encoder = tf.keras.Model(inputs, x2, name=\"encoder\")\n",
    "\n",
    "    latent_input = tf.keras.layers.Input(shape=val, name=\"decoder_input\")\n",
    "    x = tf.keras.layers.Dense(\n",
    "        units=hp.Int(\"num_of_neurons5\", min_value=10, max_value=14, step=1),\n",
    "        activation=activations.get(hp.Choice(\n",
    "            \"5_act\", [\"relu\", \"tanh\", \"leakyrelu\",\"linear\"])),\n",
    "        kernel_regularizer=tf.keras.regularizers.L1(ker_choice),\n",
    "        activity_regularizer=tf.keras.regularizers.L2(act_choice)\n",
    "    )(latent_input)\n",
    "    \n",
    "    x_ = tf.keras.layers.Dense(\n",
    "        units=hp.Int(\"num_of_neurons6\", min_value=15, max_value=19, step=1),\n",
    "        activation=activations.get(hp.Choice(\n",
    "            \"6_act\", [\"relu\", \"tanh\", \"leakyrelu\",\"linear\"])))(x)\n",
    "    \n",
    "    x1 = tf.keras.layers.Dense(\n",
    "        units=hp.Int(\"num_of_neurons7\", min_value=20, max_value=data_shape-1, step=1),\n",
    "        activation=activations.get(hp.Choice(\n",
    "            \"7_act\", [\"relu\", \"tanh\", \"leakyrelu\",\"linear\"])),\n",
    "        kernel_regularizer=tf.keras.regularizers.L1(ker_choice),\n",
    "        activity_regularizer=tf.keras.regularizers.L2(act_choice)\n",
    "    )(x_)\n",
    "    output = tf.keras.layers.Dense(\n",
    "        data_shape, activation=activations.get(hp.Choice(\n",
    "            \"8_act\", [\"relu\", \"tanh\", \"leakyrelu\",\"linear\"]))\n",
    "    )(x1)\n",
    "    decoder = tf.keras.Model(latent_input, output, name=\"decoder\")\n",
    "\n",
    "    outputs = decoder(encoder(inputs))\n",
    "    AE_model = tf.keras.Model(inputs, outputs, name=\"AE_model\")\n",
    "\n",
    "    hp_learning_rate = hp.Choice(\"learning_rate\", values=[\n",
    "                                 9e-2, 9.5e-2, 1e-3, 1.5e-3])\n",
    "    optimizer = tf.keras.optimizers.Adam(hp_learning_rate)\n",
    "    #optimizer = tf.keras.mixed_precision.LossScaleOptimizer(optimizer)\n",
    "    AE_model.compile(loss=\"mse\", optimizer=optimizer, metrics=[\"mse\"])\n",
    "\n",
    "    return AE_model\n",
    "\n",
    "\n",
    "\n"
   ]
  },
  {
   "cell_type": "code",
   "execution_count": 39,
   "id": "imperial-consciousness",
   "metadata": {},
   "outputs": [
    {
     "name": "stdout",
     "output_type": "stream",
     "text": [
      "Trial 51 Complete [00h 10m 33s]\n",
      "val_mse: 0.8070987462997437\n",
      "\n",
      "Best val_mse So Far: 0.744189441204071\n",
      "Total elapsed time: 01h 15m 48s\n",
      "\n",
      "Search: Running Trial #52\n",
      "\n",
      "Value             |Best Value So Far |Hyperparameter\n",
      "0.01              |0.01              |Kernel_reg\n",
      "0.1               |0.01              |Atc_reg\n",
      "1                 |1                 |alpha\n",
      "29                |27                |num_of_neurons1\n",
      "leakyrelu         |relu              |1_act\n",
      "16                |15                |num_of_neurons2\n",
      "tanh              |tanh              |2_act\n",
      "12                |11                |num_of_neurons3\n",
      "leakyrelu         |linear            |3_act\n",
      "4                 |6                 |lat_num\n",
      "linear            |linear            |4_act\n",
      "13                |11                |num_of_neurons5\n",
      "leakyrelu         |leakyrelu         |5_act\n",
      "18                |18                |num_of_neurons6\n",
      "linear            |leakyrelu         |6_act\n",
      "30                |24                |num_of_neurons7\n",
      "tanh              |relu              |7_act\n",
      "tanh              |leakyrelu         |8_act\n",
      "0.001             |0.001             |learning_rate\n",
      "50                |2                 |tuner/epochs\n",
      "17                |0                 |tuner/initial_epoch\n",
      "3                 |3                 |tuner/bracket\n",
      "3                 |0                 |tuner/round\n",
      "0047              |None              |tuner/trial_id\n",
      "\n",
      "Epoch 18/50\n",
      "1221/1221 [==============================] - 24s 16ms/step - loss: 1.8459 - mse: 1.0111 - val_loss: 1.0913 - val_mse: 0.9858\n",
      "Epoch 19/50\n",
      "1221/1221 [==============================] - 22s 18ms/step - loss: 1.0949 - mse: 1.0136 - val_loss: 1.0326 - val_mse: 0.9858\n",
      "Epoch 20/50\n",
      " 453/1221 [==========>...................] - ETA: 9s - loss: 1.1554 - mse: 1.1025"
     ]
    },
    {
     "ename": "KeyboardInterrupt",
     "evalue": "",
     "output_type": "error",
     "traceback": [
      "\u001b[0;31m---------------------------------------------------------------------------\u001b[0m",
      "\u001b[0;31mKeyboardInterrupt\u001b[0m                         Traceback (most recent call last)",
      "Input \u001b[0;32mIn [39]\u001b[0m, in \u001b[0;36m<cell line: 4>\u001b[0;34m()\u001b[0m\n\u001b[1;32m      3\u001b[0m tf\u001b[38;5;241m.\u001b[39mconfig\u001b[38;5;241m.\u001b[39moptimizer\u001b[38;5;241m.\u001b[39mset_jit(\u001b[38;5;124m\"\u001b[39m\u001b[38;5;124mautoclustering\u001b[39m\u001b[38;5;124m\"\u001b[39m)\n\u001b[1;32m      4\u001b[0m \u001b[38;5;28;01mwith\u001b[39;00m tf\u001b[38;5;241m.\u001b[39mdevice(\u001b[38;5;124m\"\u001b[39m\u001b[38;5;124m/GPU:0\u001b[39m\u001b[38;5;124m\"\u001b[39m):\n\u001b[0;32m----> 5\u001b[0m     \u001b[43mgridautoencoder\u001b[49m\u001b[43m(\u001b[49m\u001b[43msmaller_data\u001b[49m\u001b[43m,\u001b[49m\u001b[43m \u001b[49m\u001b[43msmall_vali\u001b[49m\u001b[43m)\u001b[49m\n",
      "Input \u001b[0;32mIn [38]\u001b[0m, in \u001b[0;36mgridautoencoder\u001b[0;34m(X_b, X_back_test)\u001b[0m\n\u001b[1;32m      2\u001b[0m \u001b[38;5;28;01mdef\u001b[39;00m \u001b[38;5;21mgridautoencoder\u001b[39m(X_b, X_back_test):\n\u001b[1;32m      3\u001b[0m     tuner \u001b[38;5;241m=\u001b[39m kt\u001b[38;5;241m.\u001b[39mHyperband(\n\u001b[1;32m      4\u001b[0m         AE_model_builder,\n\u001b[1;32m      5\u001b[0m         objective\u001b[38;5;241m=\u001b[39mkt\u001b[38;5;241m.\u001b[39mObjective(\u001b[38;5;124m\"\u001b[39m\u001b[38;5;124mval_mse\u001b[39m\u001b[38;5;124m\"\u001b[39m, direction\u001b[38;5;241m=\u001b[39m\u001b[38;5;124m\"\u001b[39m\u001b[38;5;124mmin\u001b[39m\u001b[38;5;124m\"\u001b[39m),\n\u001b[0;32m   (...)\u001b[0m\n\u001b[1;32m     10\u001b[0m         overwrite\u001b[38;5;241m=\u001b[39m\u001b[38;5;28;01mTrue\u001b[39;00m,\n\u001b[1;32m     11\u001b[0m     )\n\u001b[0;32m---> 13\u001b[0m     \u001b[43mtuner\u001b[49m\u001b[38;5;241;43m.\u001b[39;49m\u001b[43msearch\u001b[49m\u001b[43m(\u001b[49m\u001b[43mX_b\u001b[49m\u001b[43m,\u001b[49m\u001b[43m \u001b[49m\u001b[43mX_b\u001b[49m\u001b[43m,\u001b[49m\u001b[43m \u001b[49m\u001b[43mepochs\u001b[49m\u001b[38;5;241;43m=\u001b[39;49m\u001b[38;5;241;43m15\u001b[39;49m\u001b[43m,\u001b[49m\u001b[43m \u001b[49m\u001b[43mbatch_size\u001b[49m\u001b[38;5;241;43m=\u001b[39;49m\u001b[38;5;241;43m8192\u001b[39;49m\u001b[43m,\u001b[49m\n\u001b[1;32m     14\u001b[0m \u001b[43m                 \u001b[49m\u001b[43mvalidation_data\u001b[49m\u001b[38;5;241;43m=\u001b[39;49m\u001b[43m(\u001b[49m\u001b[43mX_back_test\u001b[49m\u001b[43m,\u001b[49m\u001b[43m \u001b[49m\u001b[43mX_back_test\u001b[49m\u001b[43m)\u001b[49m\u001b[43m)\u001b[49m\n\u001b[1;32m     15\u001b[0m     best_hps \u001b[38;5;241m=\u001b[39m tuner\u001b[38;5;241m.\u001b[39mget_best_hyperparameters(num_trials\u001b[38;5;241m=\u001b[39m\u001b[38;5;241m1\u001b[39m)[\u001b[38;5;241m0\u001b[39m]\n\u001b[1;32m     17\u001b[0m     \u001b[38;5;28mprint\u001b[39m(\n\u001b[1;32m     18\u001b[0m         \u001b[38;5;124mf\u001b[39m\u001b[38;5;124m\"\"\"\u001b[39m\n\u001b[1;32m     19\u001b[0m \u001b[38;5;124m    For Encoder: \u001b[39m\u001b[38;5;130;01m\\n\u001b[39;00m\u001b[38;5;124m \u001b[39m\n\u001b[0;32m   (...)\u001b[0m\n\u001b[1;32m     33\u001b[0m \u001b[38;5;124m    \u001b[39m\u001b[38;5;124m\"\"\"\u001b[39m\n\u001b[1;32m     34\u001b[0m     )\n",
      "File \u001b[0;32m~/.local/lib/python3.8/site-packages/keras_tuner/engine/base_tuner.py:179\u001b[0m, in \u001b[0;36mBaseTuner.search\u001b[0;34m(self, *fit_args, **fit_kwargs)\u001b[0m\n\u001b[1;32m    176\u001b[0m     \u001b[38;5;28;01mcontinue\u001b[39;00m\n\u001b[1;32m    178\u001b[0m \u001b[38;5;28mself\u001b[39m\u001b[38;5;241m.\u001b[39mon_trial_begin(trial)\n\u001b[0;32m--> 179\u001b[0m results \u001b[38;5;241m=\u001b[39m \u001b[38;5;28;43mself\u001b[39;49m\u001b[38;5;241;43m.\u001b[39;49m\u001b[43mrun_trial\u001b[49m\u001b[43m(\u001b[49m\u001b[43mtrial\u001b[49m\u001b[43m,\u001b[49m\u001b[43m \u001b[49m\u001b[38;5;241;43m*\u001b[39;49m\u001b[43mfit_args\u001b[49m\u001b[43m,\u001b[49m\u001b[43m \u001b[49m\u001b[38;5;241;43m*\u001b[39;49m\u001b[38;5;241;43m*\u001b[39;49m\u001b[43mfit_kwargs\u001b[49m\u001b[43m)\u001b[49m\n\u001b[1;32m    180\u001b[0m \u001b[38;5;66;03m# `results` is None indicates user updated oracle in `run_trial()`.\u001b[39;00m\n\u001b[1;32m    181\u001b[0m \u001b[38;5;28;01mif\u001b[39;00m results \u001b[38;5;129;01mis\u001b[39;00m \u001b[38;5;28;01mNone\u001b[39;00m:\n",
      "File \u001b[0;32m~/.local/lib/python3.8/site-packages/keras_tuner/tuners/hyperband.py:384\u001b[0m, in \u001b[0;36mHyperband.run_trial\u001b[0;34m(self, trial, *fit_args, **fit_kwargs)\u001b[0m\n\u001b[1;32m    382\u001b[0m     fit_kwargs[\u001b[38;5;124m\"\u001b[39m\u001b[38;5;124mepochs\u001b[39m\u001b[38;5;124m\"\u001b[39m] \u001b[38;5;241m=\u001b[39m hp\u001b[38;5;241m.\u001b[39mvalues[\u001b[38;5;124m\"\u001b[39m\u001b[38;5;124mtuner/epochs\u001b[39m\u001b[38;5;124m\"\u001b[39m]\n\u001b[1;32m    383\u001b[0m     fit_kwargs[\u001b[38;5;124m\"\u001b[39m\u001b[38;5;124minitial_epoch\u001b[39m\u001b[38;5;124m\"\u001b[39m] \u001b[38;5;241m=\u001b[39m hp\u001b[38;5;241m.\u001b[39mvalues[\u001b[38;5;124m\"\u001b[39m\u001b[38;5;124mtuner/initial_epoch\u001b[39m\u001b[38;5;124m\"\u001b[39m]\n\u001b[0;32m--> 384\u001b[0m \u001b[38;5;28;01mreturn\u001b[39;00m \u001b[38;5;28;43msuper\u001b[39;49m\u001b[43m(\u001b[49m\u001b[43mHyperband\u001b[49m\u001b[43m,\u001b[49m\u001b[43m \u001b[49m\u001b[38;5;28;43mself\u001b[39;49m\u001b[43m)\u001b[49m\u001b[38;5;241;43m.\u001b[39;49m\u001b[43mrun_trial\u001b[49m\u001b[43m(\u001b[49m\u001b[43mtrial\u001b[49m\u001b[43m,\u001b[49m\u001b[43m \u001b[49m\u001b[38;5;241;43m*\u001b[39;49m\u001b[43mfit_args\u001b[49m\u001b[43m,\u001b[49m\u001b[43m \u001b[49m\u001b[38;5;241;43m*\u001b[39;49m\u001b[38;5;241;43m*\u001b[39;49m\u001b[43mfit_kwargs\u001b[49m\u001b[43m)\u001b[49m\n",
      "File \u001b[0;32m~/.local/lib/python3.8/site-packages/keras_tuner/engine/tuner.py:294\u001b[0m, in \u001b[0;36mTuner.run_trial\u001b[0;34m(self, trial, *args, **kwargs)\u001b[0m\n\u001b[1;32m    292\u001b[0m     callbacks\u001b[38;5;241m.\u001b[39mappend(model_checkpoint)\n\u001b[1;32m    293\u001b[0m     copied_kwargs[\u001b[38;5;124m\"\u001b[39m\u001b[38;5;124mcallbacks\u001b[39m\u001b[38;5;124m\"\u001b[39m] \u001b[38;5;241m=\u001b[39m callbacks\n\u001b[0;32m--> 294\u001b[0m     obj_value \u001b[38;5;241m=\u001b[39m \u001b[38;5;28;43mself\u001b[39;49m\u001b[38;5;241;43m.\u001b[39;49m\u001b[43m_build_and_fit_model\u001b[49m\u001b[43m(\u001b[49m\u001b[43mtrial\u001b[49m\u001b[43m,\u001b[49m\u001b[43m \u001b[49m\u001b[38;5;241;43m*\u001b[39;49m\u001b[43margs\u001b[49m\u001b[43m,\u001b[49m\u001b[43m \u001b[49m\u001b[38;5;241;43m*\u001b[39;49m\u001b[38;5;241;43m*\u001b[39;49m\u001b[43mcopied_kwargs\u001b[49m\u001b[43m)\u001b[49m\n\u001b[1;32m    296\u001b[0m     histories\u001b[38;5;241m.\u001b[39mappend(obj_value)\n\u001b[1;32m    297\u001b[0m \u001b[38;5;28;01mreturn\u001b[39;00m histories\n",
      "File \u001b[0;32m~/.local/lib/python3.8/site-packages/keras_tuner/engine/tuner.py:222\u001b[0m, in \u001b[0;36mTuner._build_and_fit_model\u001b[0;34m(self, trial, *args, **kwargs)\u001b[0m\n\u001b[1;32m    220\u001b[0m hp \u001b[38;5;241m=\u001b[39m trial\u001b[38;5;241m.\u001b[39mhyperparameters\n\u001b[1;32m    221\u001b[0m model \u001b[38;5;241m=\u001b[39m \u001b[38;5;28mself\u001b[39m\u001b[38;5;241m.\u001b[39m_try_build(hp)\n\u001b[0;32m--> 222\u001b[0m results \u001b[38;5;241m=\u001b[39m \u001b[38;5;28;43mself\u001b[39;49m\u001b[38;5;241;43m.\u001b[39;49m\u001b[43mhypermodel\u001b[49m\u001b[38;5;241;43m.\u001b[39;49m\u001b[43mfit\u001b[49m\u001b[43m(\u001b[49m\u001b[43mhp\u001b[49m\u001b[43m,\u001b[49m\u001b[43m \u001b[49m\u001b[43mmodel\u001b[49m\u001b[43m,\u001b[49m\u001b[43m \u001b[49m\u001b[38;5;241;43m*\u001b[39;49m\u001b[43margs\u001b[49m\u001b[43m,\u001b[49m\u001b[43m \u001b[49m\u001b[38;5;241;43m*\u001b[39;49m\u001b[38;5;241;43m*\u001b[39;49m\u001b[43mkwargs\u001b[49m\u001b[43m)\u001b[49m\n\u001b[1;32m    223\u001b[0m \u001b[38;5;28;01mreturn\u001b[39;00m tuner_utils\u001b[38;5;241m.\u001b[39mconvert_to_metrics_dict(\n\u001b[1;32m    224\u001b[0m     results, \u001b[38;5;28mself\u001b[39m\u001b[38;5;241m.\u001b[39moracle\u001b[38;5;241m.\u001b[39mobjective, \u001b[38;5;124m\"\u001b[39m\u001b[38;5;124mHyperModel.fit()\u001b[39m\u001b[38;5;124m\"\u001b[39m\n\u001b[1;32m    225\u001b[0m )\n",
      "File \u001b[0;32m~/.local/lib/python3.8/site-packages/keras_tuner/engine/hypermodel.py:137\u001b[0m, in \u001b[0;36mHyperModel.fit\u001b[0;34m(self, hp, model, *args, **kwargs)\u001b[0m\n\u001b[1;32m    113\u001b[0m \u001b[38;5;28;01mdef\u001b[39;00m \u001b[38;5;21mfit\u001b[39m(\u001b[38;5;28mself\u001b[39m, hp, model, \u001b[38;5;241m*\u001b[39margs, \u001b[38;5;241m*\u001b[39m\u001b[38;5;241m*\u001b[39mkwargs):\n\u001b[1;32m    114\u001b[0m     \u001b[38;5;124;03m\"\"\"Train the model.\u001b[39;00m\n\u001b[1;32m    115\u001b[0m \n\u001b[1;32m    116\u001b[0m \u001b[38;5;124;03m    Args:\u001b[39;00m\n\u001b[0;32m   (...)\u001b[0m\n\u001b[1;32m    135\u001b[0m \u001b[38;5;124;03m        If return a float, it should be the `objective` value.\u001b[39;00m\n\u001b[1;32m    136\u001b[0m \u001b[38;5;124;03m    \"\"\"\u001b[39;00m\n\u001b[0;32m--> 137\u001b[0m     \u001b[38;5;28;01mreturn\u001b[39;00m \u001b[43mmodel\u001b[49m\u001b[38;5;241;43m.\u001b[39;49m\u001b[43mfit\u001b[49m\u001b[43m(\u001b[49m\u001b[38;5;241;43m*\u001b[39;49m\u001b[43margs\u001b[49m\u001b[43m,\u001b[49m\u001b[43m \u001b[49m\u001b[38;5;241;43m*\u001b[39;49m\u001b[38;5;241;43m*\u001b[39;49m\u001b[43mkwargs\u001b[49m\u001b[43m)\u001b[49m\n",
      "File \u001b[0;32m/storage/software/easybuild/software/TensorFlow/2.5.0-fosscuda-2020b/lib/python3.8/site-packages/tensorflow/python/keras/engine/training.py:1183\u001b[0m, in \u001b[0;36mModel.fit\u001b[0;34m(self, x, y, batch_size, epochs, verbose, callbacks, validation_split, validation_data, shuffle, class_weight, sample_weight, initial_epoch, steps_per_epoch, validation_steps, validation_batch_size, validation_freq, max_queue_size, workers, use_multiprocessing)\u001b[0m\n\u001b[1;32m   1176\u001b[0m \u001b[38;5;28;01mwith\u001b[39;00m trace\u001b[38;5;241m.\u001b[39mTrace(\n\u001b[1;32m   1177\u001b[0m     \u001b[38;5;124m'\u001b[39m\u001b[38;5;124mtrain\u001b[39m\u001b[38;5;124m'\u001b[39m,\n\u001b[1;32m   1178\u001b[0m     epoch_num\u001b[38;5;241m=\u001b[39mepoch,\n\u001b[1;32m   1179\u001b[0m     step_num\u001b[38;5;241m=\u001b[39mstep,\n\u001b[1;32m   1180\u001b[0m     batch_size\u001b[38;5;241m=\u001b[39mbatch_size,\n\u001b[1;32m   1181\u001b[0m     _r\u001b[38;5;241m=\u001b[39m\u001b[38;5;241m1\u001b[39m):\n\u001b[1;32m   1182\u001b[0m   callbacks\u001b[38;5;241m.\u001b[39mon_train_batch_begin(step)\n\u001b[0;32m-> 1183\u001b[0m   tmp_logs \u001b[38;5;241m=\u001b[39m \u001b[38;5;28;43mself\u001b[39;49m\u001b[38;5;241;43m.\u001b[39;49m\u001b[43mtrain_function\u001b[49m\u001b[43m(\u001b[49m\u001b[43miterator\u001b[49m\u001b[43m)\u001b[49m\n\u001b[1;32m   1184\u001b[0m   \u001b[38;5;28;01mif\u001b[39;00m data_handler\u001b[38;5;241m.\u001b[39mshould_sync:\n\u001b[1;32m   1185\u001b[0m     context\u001b[38;5;241m.\u001b[39masync_wait()\n",
      "File \u001b[0;32m/storage/software/easybuild/software/TensorFlow/2.5.0-fosscuda-2020b/lib/python3.8/site-packages/tensorflow/python/eager/def_function.py:889\u001b[0m, in \u001b[0;36mFunction.__call__\u001b[0;34m(self, *args, **kwds)\u001b[0m\n\u001b[1;32m    886\u001b[0m compiler \u001b[38;5;241m=\u001b[39m \u001b[38;5;124m\"\u001b[39m\u001b[38;5;124mxla\u001b[39m\u001b[38;5;124m\"\u001b[39m \u001b[38;5;28;01mif\u001b[39;00m \u001b[38;5;28mself\u001b[39m\u001b[38;5;241m.\u001b[39m_jit_compile \u001b[38;5;28;01melse\u001b[39;00m \u001b[38;5;124m\"\u001b[39m\u001b[38;5;124mnonXla\u001b[39m\u001b[38;5;124m\"\u001b[39m\n\u001b[1;32m    888\u001b[0m \u001b[38;5;28;01mwith\u001b[39;00m OptionalXlaContext(\u001b[38;5;28mself\u001b[39m\u001b[38;5;241m.\u001b[39m_jit_compile):\n\u001b[0;32m--> 889\u001b[0m   result \u001b[38;5;241m=\u001b[39m \u001b[38;5;28;43mself\u001b[39;49m\u001b[38;5;241;43m.\u001b[39;49m\u001b[43m_call\u001b[49m\u001b[43m(\u001b[49m\u001b[38;5;241;43m*\u001b[39;49m\u001b[43margs\u001b[49m\u001b[43m,\u001b[49m\u001b[43m \u001b[49m\u001b[38;5;241;43m*\u001b[39;49m\u001b[38;5;241;43m*\u001b[39;49m\u001b[43mkwds\u001b[49m\u001b[43m)\u001b[49m\n\u001b[1;32m    891\u001b[0m new_tracing_count \u001b[38;5;241m=\u001b[39m \u001b[38;5;28mself\u001b[39m\u001b[38;5;241m.\u001b[39mexperimental_get_tracing_count()\n\u001b[1;32m    892\u001b[0m without_tracing \u001b[38;5;241m=\u001b[39m (tracing_count \u001b[38;5;241m==\u001b[39m new_tracing_count)\n",
      "File \u001b[0;32m/storage/software/easybuild/software/TensorFlow/2.5.0-fosscuda-2020b/lib/python3.8/site-packages/tensorflow/python/eager/def_function.py:917\u001b[0m, in \u001b[0;36mFunction._call\u001b[0;34m(self, *args, **kwds)\u001b[0m\n\u001b[1;32m    914\u001b[0m   \u001b[38;5;28mself\u001b[39m\u001b[38;5;241m.\u001b[39m_lock\u001b[38;5;241m.\u001b[39mrelease()\n\u001b[1;32m    915\u001b[0m   \u001b[38;5;66;03m# In this case we have created variables on the first call, so we run the\u001b[39;00m\n\u001b[1;32m    916\u001b[0m   \u001b[38;5;66;03m# defunned version which is guaranteed to never create variables.\u001b[39;00m\n\u001b[0;32m--> 917\u001b[0m   \u001b[38;5;28;01mreturn\u001b[39;00m \u001b[38;5;28;43mself\u001b[39;49m\u001b[38;5;241;43m.\u001b[39;49m\u001b[43m_stateless_fn\u001b[49m\u001b[43m(\u001b[49m\u001b[38;5;241;43m*\u001b[39;49m\u001b[43margs\u001b[49m\u001b[43m,\u001b[49m\u001b[43m \u001b[49m\u001b[38;5;241;43m*\u001b[39;49m\u001b[38;5;241;43m*\u001b[39;49m\u001b[43mkwds\u001b[49m\u001b[43m)\u001b[49m  \u001b[38;5;66;03m# pylint: disable=not-callable\u001b[39;00m\n\u001b[1;32m    918\u001b[0m \u001b[38;5;28;01melif\u001b[39;00m \u001b[38;5;28mself\u001b[39m\u001b[38;5;241m.\u001b[39m_stateful_fn \u001b[38;5;129;01mis\u001b[39;00m \u001b[38;5;129;01mnot\u001b[39;00m \u001b[38;5;28;01mNone\u001b[39;00m:\n\u001b[1;32m    919\u001b[0m   \u001b[38;5;66;03m# Release the lock early so that multiple threads can perform the call\u001b[39;00m\n\u001b[1;32m    920\u001b[0m   \u001b[38;5;66;03m# in parallel.\u001b[39;00m\n\u001b[1;32m    921\u001b[0m   \u001b[38;5;28mself\u001b[39m\u001b[38;5;241m.\u001b[39m_lock\u001b[38;5;241m.\u001b[39mrelease()\n",
      "File \u001b[0;32m/storage/software/easybuild/software/TensorFlow/2.5.0-fosscuda-2020b/lib/python3.8/site-packages/tensorflow/python/eager/function.py:3023\u001b[0m, in \u001b[0;36mFunction.__call__\u001b[0;34m(self, *args, **kwargs)\u001b[0m\n\u001b[1;32m   3020\u001b[0m \u001b[38;5;28;01mwith\u001b[39;00m \u001b[38;5;28mself\u001b[39m\u001b[38;5;241m.\u001b[39m_lock:\n\u001b[1;32m   3021\u001b[0m   (graph_function,\n\u001b[1;32m   3022\u001b[0m    filtered_flat_args) \u001b[38;5;241m=\u001b[39m \u001b[38;5;28mself\u001b[39m\u001b[38;5;241m.\u001b[39m_maybe_define_function(args, kwargs)\n\u001b[0;32m-> 3023\u001b[0m \u001b[38;5;28;01mreturn\u001b[39;00m \u001b[43mgraph_function\u001b[49m\u001b[38;5;241;43m.\u001b[39;49m\u001b[43m_call_flat\u001b[49m\u001b[43m(\u001b[49m\n\u001b[1;32m   3024\u001b[0m \u001b[43m    \u001b[49m\u001b[43mfiltered_flat_args\u001b[49m\u001b[43m,\u001b[49m\u001b[43m \u001b[49m\u001b[43mcaptured_inputs\u001b[49m\u001b[38;5;241;43m=\u001b[39;49m\u001b[43mgraph_function\u001b[49m\u001b[38;5;241;43m.\u001b[39;49m\u001b[43mcaptured_inputs\u001b[49m\u001b[43m)\u001b[49m\n",
      "File \u001b[0;32m/storage/software/easybuild/software/TensorFlow/2.5.0-fosscuda-2020b/lib/python3.8/site-packages/tensorflow/python/eager/function.py:1960\u001b[0m, in \u001b[0;36mConcreteFunction._call_flat\u001b[0;34m(self, args, captured_inputs, cancellation_manager)\u001b[0m\n\u001b[1;32m   1956\u001b[0m possible_gradient_type \u001b[38;5;241m=\u001b[39m gradients_util\u001b[38;5;241m.\u001b[39mPossibleTapeGradientTypes(args)\n\u001b[1;32m   1957\u001b[0m \u001b[38;5;28;01mif\u001b[39;00m (possible_gradient_type \u001b[38;5;241m==\u001b[39m gradients_util\u001b[38;5;241m.\u001b[39mPOSSIBLE_GRADIENT_TYPES_NONE\n\u001b[1;32m   1958\u001b[0m     \u001b[38;5;129;01mand\u001b[39;00m executing_eagerly):\n\u001b[1;32m   1959\u001b[0m   \u001b[38;5;66;03m# No tape is watching; skip to running the function.\u001b[39;00m\n\u001b[0;32m-> 1960\u001b[0m   \u001b[38;5;28;01mreturn\u001b[39;00m \u001b[38;5;28mself\u001b[39m\u001b[38;5;241m.\u001b[39m_build_call_outputs(\u001b[38;5;28;43mself\u001b[39;49m\u001b[38;5;241;43m.\u001b[39;49m\u001b[43m_inference_function\u001b[49m\u001b[38;5;241;43m.\u001b[39;49m\u001b[43mcall\u001b[49m\u001b[43m(\u001b[49m\n\u001b[1;32m   1961\u001b[0m \u001b[43m      \u001b[49m\u001b[43mctx\u001b[49m\u001b[43m,\u001b[49m\u001b[43m \u001b[49m\u001b[43margs\u001b[49m\u001b[43m,\u001b[49m\u001b[43m \u001b[49m\u001b[43mcancellation_manager\u001b[49m\u001b[38;5;241;43m=\u001b[39;49m\u001b[43mcancellation_manager\u001b[49m\u001b[43m)\u001b[49m)\n\u001b[1;32m   1962\u001b[0m forward_backward \u001b[38;5;241m=\u001b[39m \u001b[38;5;28mself\u001b[39m\u001b[38;5;241m.\u001b[39m_select_forward_and_backward_functions(\n\u001b[1;32m   1963\u001b[0m     args,\n\u001b[1;32m   1964\u001b[0m     possible_gradient_type,\n\u001b[1;32m   1965\u001b[0m     executing_eagerly)\n\u001b[1;32m   1966\u001b[0m forward_function, args_with_tangents \u001b[38;5;241m=\u001b[39m forward_backward\u001b[38;5;241m.\u001b[39mforward()\n",
      "File \u001b[0;32m/storage/software/easybuild/software/TensorFlow/2.5.0-fosscuda-2020b/lib/python3.8/site-packages/tensorflow/python/eager/function.py:591\u001b[0m, in \u001b[0;36m_EagerDefinedFunction.call\u001b[0;34m(self, ctx, args, cancellation_manager)\u001b[0m\n\u001b[1;32m    589\u001b[0m \u001b[38;5;28;01mwith\u001b[39;00m _InterpolateFunctionError(\u001b[38;5;28mself\u001b[39m):\n\u001b[1;32m    590\u001b[0m   \u001b[38;5;28;01mif\u001b[39;00m cancellation_manager \u001b[38;5;129;01mis\u001b[39;00m \u001b[38;5;28;01mNone\u001b[39;00m:\n\u001b[0;32m--> 591\u001b[0m     outputs \u001b[38;5;241m=\u001b[39m \u001b[43mexecute\u001b[49m\u001b[38;5;241;43m.\u001b[39;49m\u001b[43mexecute\u001b[49m\u001b[43m(\u001b[49m\n\u001b[1;32m    592\u001b[0m \u001b[43m        \u001b[49m\u001b[38;5;28;43mstr\u001b[39;49m\u001b[43m(\u001b[49m\u001b[38;5;28;43mself\u001b[39;49m\u001b[38;5;241;43m.\u001b[39;49m\u001b[43msignature\u001b[49m\u001b[38;5;241;43m.\u001b[39;49m\u001b[43mname\u001b[49m\u001b[43m)\u001b[49m\u001b[43m,\u001b[49m\n\u001b[1;32m    593\u001b[0m \u001b[43m        \u001b[49m\u001b[43mnum_outputs\u001b[49m\u001b[38;5;241;43m=\u001b[39;49m\u001b[38;5;28;43mself\u001b[39;49m\u001b[38;5;241;43m.\u001b[39;49m\u001b[43m_num_outputs\u001b[49m\u001b[43m,\u001b[49m\n\u001b[1;32m    594\u001b[0m \u001b[43m        \u001b[49m\u001b[43minputs\u001b[49m\u001b[38;5;241;43m=\u001b[39;49m\u001b[43margs\u001b[49m\u001b[43m,\u001b[49m\n\u001b[1;32m    595\u001b[0m \u001b[43m        \u001b[49m\u001b[43mattrs\u001b[49m\u001b[38;5;241;43m=\u001b[39;49m\u001b[43mattrs\u001b[49m\u001b[43m,\u001b[49m\n\u001b[1;32m    596\u001b[0m \u001b[43m        \u001b[49m\u001b[43mctx\u001b[49m\u001b[38;5;241;43m=\u001b[39;49m\u001b[43mctx\u001b[49m\u001b[43m)\u001b[49m\n\u001b[1;32m    597\u001b[0m   \u001b[38;5;28;01melse\u001b[39;00m:\n\u001b[1;32m    598\u001b[0m     outputs \u001b[38;5;241m=\u001b[39m execute\u001b[38;5;241m.\u001b[39mexecute_with_cancellation(\n\u001b[1;32m    599\u001b[0m         \u001b[38;5;28mstr\u001b[39m(\u001b[38;5;28mself\u001b[39m\u001b[38;5;241m.\u001b[39msignature\u001b[38;5;241m.\u001b[39mname),\n\u001b[1;32m    600\u001b[0m         num_outputs\u001b[38;5;241m=\u001b[39m\u001b[38;5;28mself\u001b[39m\u001b[38;5;241m.\u001b[39m_num_outputs,\n\u001b[0;32m   (...)\u001b[0m\n\u001b[1;32m    603\u001b[0m         ctx\u001b[38;5;241m=\u001b[39mctx,\n\u001b[1;32m    604\u001b[0m         cancellation_manager\u001b[38;5;241m=\u001b[39mcancellation_manager)\n",
      "File \u001b[0;32m/storage/software/easybuild/software/TensorFlow/2.5.0-fosscuda-2020b/lib/python3.8/site-packages/tensorflow/python/eager/execute.py:59\u001b[0m, in \u001b[0;36mquick_execute\u001b[0;34m(op_name, num_outputs, inputs, attrs, ctx, name)\u001b[0m\n\u001b[1;32m     57\u001b[0m \u001b[38;5;28;01mtry\u001b[39;00m:\n\u001b[1;32m     58\u001b[0m   ctx\u001b[38;5;241m.\u001b[39mensure_initialized()\n\u001b[0;32m---> 59\u001b[0m   tensors \u001b[38;5;241m=\u001b[39m \u001b[43mpywrap_tfe\u001b[49m\u001b[38;5;241;43m.\u001b[39;49m\u001b[43mTFE_Py_Execute\u001b[49m\u001b[43m(\u001b[49m\u001b[43mctx\u001b[49m\u001b[38;5;241;43m.\u001b[39;49m\u001b[43m_handle\u001b[49m\u001b[43m,\u001b[49m\u001b[43m \u001b[49m\u001b[43mdevice_name\u001b[49m\u001b[43m,\u001b[49m\u001b[43m \u001b[49m\u001b[43mop_name\u001b[49m\u001b[43m,\u001b[49m\n\u001b[1;32m     60\u001b[0m \u001b[43m                                      \u001b[49m\u001b[43minputs\u001b[49m\u001b[43m,\u001b[49m\u001b[43m \u001b[49m\u001b[43mattrs\u001b[49m\u001b[43m,\u001b[49m\u001b[43m \u001b[49m\u001b[43mnum_outputs\u001b[49m\u001b[43m)\u001b[49m\n\u001b[1;32m     61\u001b[0m \u001b[38;5;28;01mexcept\u001b[39;00m core\u001b[38;5;241m.\u001b[39m_NotOkStatusException \u001b[38;5;28;01mas\u001b[39;00m e:\n\u001b[1;32m     62\u001b[0m   \u001b[38;5;28;01mif\u001b[39;00m name \u001b[38;5;129;01mis\u001b[39;00m \u001b[38;5;129;01mnot\u001b[39;00m \u001b[38;5;28;01mNone\u001b[39;00m:\n",
      "\u001b[0;31mKeyboardInterrupt\u001b[0m: "
     ]
    }
   ],
   "source": [
    "from tensorflow.python.client import device_lib\n",
    "device_lib.list_local_devices()\n",
    "tf.config.optimizer.set_jit(\"autoclustering\")\n",
    "with tf.device(\"/GPU:0\"):\n",
    "    gridautoencoder(smaller_data, small_vali)\n"
   ]
  },
  {
   "cell_type": "code",
   "execution_count": 40,
   "id": "aquatic-handy",
   "metadata": {},
   "outputs": [],
   "source": [
    "def custom_loss(y_true, y_pred):\n",
    "    mse = tf.keras.losses.MeanSquaredError()\n",
    "    mse_loss = mse(y_true, y_pred)\n",
    "    return mse_loss"
   ]
  },
  {
   "cell_type": "code",
   "execution_count": 41,
   "id": "intimate-scholarship",
   "metadata": {},
   "outputs": [],
   "source": [
    "#hypermodel = tf.keras.models.load_model(\"../tf_models/model_prelim_ae_2lep_data.h5\")\n",
    "inputs = tf.keras.layers.Input(shape=data_shape, name=\"encoder_input\")\n",
    "x = tf.keras.layers.Dense(units=27,activation=\"relu\",kernel_regularizer=tf.keras.regularizers.L1(0.01),\n",
    "    activity_regularizer=tf.keras.regularizers.L2(0.01))(inputs)\n",
    "x_ = tf.keras.layers.Dense(units=15,activation=\"tanh\")(inputs)\n",
    "x1 = tf.keras.layers.Dense(units=11,activation=\"linear\",kernel_regularizer=tf.keras.regularizers.L1(0.01),\n",
    "    activity_regularizer=tf.keras.regularizers.L2(0.01))(x_)\n",
    "val = 6\n",
    "x2 = tf.keras.layers.Dense(units=val, activation=\"linear\")(x1)\n",
    "encoder = tf.keras.Model(inputs, x2, name=\"encoder\")\n",
    "\n",
    "latent_input = tf.keras.layers.Input(shape=val, name=\"decoder_input\")\n",
    "x = tf.keras.layers.Dense(units=11,activation=tf.keras.layers.LeakyReLU(alpha=1),kernel_regularizer=tf.keras.regularizers.L1(0.01),\n",
    "    activity_regularizer=tf.keras.regularizers.L2(0.01))(latent_input)\n",
    "x_ = tf.keras.layers.Dense(units=18,activation=tf.keras.layers.LeakyReLU(alpha=1))(x)\n",
    "x1 = tf.keras.layers.Dense(units=24,activation=\"relu\",kernel_regularizer=tf.keras.regularizers.L1(0.01),\n",
    "    activity_regularizer=tf.keras.regularizers.L2(0.01))(x_)\n",
    "output = tf.keras.layers.Dense(data_shape, activation=tf.keras.layers.LeakyReLU(alpha=1))(x1)\n",
    "decoder = tf.keras.Model(latent_input, output, name=\"decoder\")\n",
    "\n",
    "outputs = decoder(encoder(inputs))\n",
    "AE_model = tf.keras.Model(inputs, outputs, name=\"AE_model\")\n",
    "\n",
    "hp_learning_rate = 0.001\n",
    "optimizer = tf.keras.optimizers.Adam(hp_learning_rate)\n",
    "AE_model.compile(loss=\"mse\", optimizer=optimizer, metrics=[\"mse\"])\n",
    "\n",
    "tf.keras.utils.plot_model(AE_model, to_file=\"ae_model_plot.pdf\",\n",
    "                          show_shapes=True, show_layer_names=True, expand_nested=True)"
   ]
  },
  {
   "cell_type": "code",
   "execution_count": null,
   "id": "found-broadcasting",
   "metadata": {},
   "outputs": [],
   "source": []
  },
  {
   "cell_type": "code",
   "execution_count": 43,
   "id": "responsible-detector",
   "metadata": {},
   "outputs": [
    {
     "name": "stdout",
     "output_type": "stream",
     "text": [
      "Epoch 1/2\n",
      "6216/6216 [==============================] - 104s 15ms/step - loss: 0.2906 - mse: 1.0648 - val_loss: 1.0607 - val_mse: 1.0600\n",
      "Epoch 2/2\n",
      "6216/6216 [==============================] - 75s 12ms/step - loss: 0.2522 - mse: 1.0700 - val_loss: 1.0598 - val_mse: 1.0591\n"
     ]
    }
   ],
   "source": [
    "\n",
    "with tf.device(\"/GPU:0\"):\n",
    "    tf.config.optimizer.set_jit(\"autoclustering\")\n",
    "    AE_model.fit(X_b_train, X_b_train, epochs=2, batch_size=8192, validation_data=(X_b_val, X_b_val), sample_weight=b_train_weights)"
   ]
  },
  {
   "cell_type": "code",
   "execution_count": 39,
   "id": "demonstrated-painting",
   "metadata": {},
   "outputs": [],
   "source": [
    "#AE_model.save(\"6_epoch_trained_big_rm3feats.h5\")\n",
    "#AE_model.load(\"1_epoch_trained.h5\")"
   ]
  },
  {
   "cell_type": "code",
   "execution_count": 123,
   "id": "liquid-vulnerability",
   "metadata": {},
   "outputs": [],
   "source": [
    "#AE_model = tf.keras.models.load_model(\"6_epoch_trained_small_rm3feats.h5\")"
   ]
  },
  {
   "cell_type": "code",
   "execution_count": null,
   "id": "tribal-failing",
   "metadata": {},
   "outputs": [],
   "source": []
  },
  {
   "cell_type": "code",
   "execution_count": 44,
   "id": "finite-magnet",
   "metadata": {},
   "outputs": [
    {
     "name": "stdout",
     "output_type": "stream",
     "text": [
      "Background done\n",
      "Signal done\n",
      "ATLAS data done\n"
     ]
    }
   ],
   "source": [
    "#Calculate prediction\n",
    "#Total background:\n",
    "X_b = np.concatenate((X_b_train, X_b_val),0)\n",
    "with tf.device(\"/GPU:0\"):\n",
    "    pred_back = AE_model.predict(X_b, batch_size=8192)\n",
    "    print(\"Background done\")\n",
    "    \n",
    "    pred_sig = AE_model.predict(X_s_test, batch_size=8192)\n",
    "    print(\"Signal done\")\n",
    "    \n",
    "    pred_data = AE_model.predict(data, batch_size=8192)\n",
    "    print(\"ATLAS data done\")\n"
   ]
  },
  {
   "cell_type": "markdown",
   "id": "proud-scoop",
   "metadata": {},
   "source": [
    "### Histograms\n",
    "Now we implement testing of the data, and stacking of histograms with the reconstruction <br> for the given background processes, a signal, and ATLAS data. <br>\n",
    "<br>\n",
    "First for background\n",
    "\n",
    "\n"
   ]
  },
  {
   "cell_type": "code",
   "execution_count": 45,
   "id": "auburn-eligibility",
   "metadata": {},
   "outputs": [],
   "source": [
    "def reconstructionError(pred, real):\n",
    "    diff = pred - real\n",
    "    err = np.power(diff, 2)\n",
    "    err = np.sum(err, 1)\n",
    "    err = np.log10(err)\n",
    "    return err"
   ]
  },
  {
   "cell_type": "code",
   "execution_count": 46,
   "id": "appropriate-appliance",
   "metadata": {},
   "outputs": [],
   "source": [
    "recon_err_back = reconstructionError(pred_back, X_b)"
   ]
  },
  {
   "cell_type": "markdown",
   "id": "consistent-regular",
   "metadata": {},
   "source": [
    "Then signal"
   ]
  },
  {
   "cell_type": "code",
   "execution_count": 47,
   "id": "prepared-friendship",
   "metadata": {},
   "outputs": [],
   "source": [
    "recon_err_sig = reconstructionError(pred_sig, X_s_test)"
   ]
  },
  {
   "cell_type": "markdown",
   "id": "exact-oregon",
   "metadata": {},
   "source": [
    "An then for actual data"
   ]
  },
  {
   "cell_type": "code",
   "execution_count": 48,
   "id": "described-county",
   "metadata": {},
   "outputs": [],
   "source": [
    "recon_data = reconstructionError(pred_data, data)"
   ]
  },
  {
   "cell_type": "code",
   "execution_count": 49,
   "id": "helpful-degree",
   "metadata": {},
   "outputs": [
    {
     "name": "stdout",
     "output_type": "stream",
     "text": [
      "(63642138,) 0.5281439148356131 7.192936550586095\n",
      "(2785054,) 0.6299149077554065 10.928036133476608\n",
      "(11442336,) 0.5522905452529648 7.696366616951414\n",
      "(2000000,)\n"
     ]
    }
   ],
   "source": [
    "print(np.shape(recon_err_back), np.min(recon_err_back), np.max(recon_err_back))\n",
    "print(np.shape(recon_err_sig), np.min(recon_err_sig), np.max(recon_err_sig))\n",
    "print(np.shape(recon_data), np.min(recon_data), np.max(recon_data))\n",
    "\n",
    "\n",
    "print(np.shape(b_val_weights.iloc[test_indices_b]))"
   ]
  },
  {
   "cell_type": "markdown",
   "id": "hairy-expression",
   "metadata": {},
   "source": [
    "Then  plot"
   ]
  },
  {
   "cell_type": "code",
   "execution_count": 50,
   "id": "honest-silly",
   "metadata": {},
   "outputs": [],
   "source": [
    "max_b = np.max(recon_err_back)\n",
    "max_s = np.max(recon_err_sig)\n",
    "max_data = np.max(recon_data)\n",
    "\n",
    "b = recon_err_back#/max_b\n",
    "b_s = recon_err_sig#/max_s\n",
    "norm_recon_data = recon_data#/max_data"
   ]
  },
  {
   "cell_type": "code",
   "execution_count": 51,
   "id": "amazing-mandate",
   "metadata": {},
   "outputs": [
    {
     "name": "stdout",
     "output_type": "stream",
     "text": [
      "1.0608708305754082\n"
     ]
    }
   ],
   "source": [
    "scale_data = np.sum(data_weights)/np.sum(np.concatenate((b_train_weights, b_val_weights), 0))\n",
    "print(scale_data)"
   ]
  },
  {
   "cell_type": "markdown",
   "id": "handy-announcement",
   "metadata": {},
   "source": [
    "Here we plot background against ATLAS data"
   ]
  },
  {
   "cell_type": "code",
   "execution_count": 56,
   "id": "informational-toyota",
   "metadata": {},
   "outputs": [
    {
     "data": {
      "image/png": "[encoded data removed]",
      "text/plain": [
       "<Figure size 864x648 with 1 Axes>"
      ]
     },
     "metadata": {
      "needs_background": "light"
     },
     "output_type": "display_data"
    }
   ],
   "source": [
    "histo_atlas = [norm_recon_data, b]\n",
    "weight_atlas_data = [data_weights, np.concatenate((b_train_weights, b_val_weights), 0)]\n",
    "\n",
    "\n",
    "plt.rcParams[\"figure.figsize\"] = (12,9)\n",
    "\n",
    "fig, ax = plt.subplots()\n",
    "\n",
    "n_bins= 50\n",
    "colors = [\"red\", \"green\"]\n",
    "labels= [\"Data\", \"Background\"]\n",
    "ax.hist(histo_atlas, \n",
    "        n_bins, \n",
    "        density=False, \n",
    "        stacked=False, \n",
    "        alpha=0.5, \n",
    "        histtype='bar', \n",
    "        color=colors, \n",
    "        label=labels, \n",
    "        weights=weight_atlas_data\n",
    "        )\n",
    "\n",
    "ax.legend(prop={'size': 20})\n",
    "ax.set_title('Reconstruction error histogram with background and ATLAS data', fontsize=25)\n",
    "ax.set_xlabel('Log10 Reconstruction Error', fontsize=25)\n",
    "ax.set_ylabel('#Events', fontsize=25)\n",
    "#ax.set_xlim([0, 1.5])\n",
    "#ax.set_yscale('log')\n",
    "ax.tick_params(axis='both', labelsize=25)\n",
    "fig.tight_layout()\n",
    "plt.savefig(\"b_data_recon_big_rm3_feats_standard.pdf\")\n",
    "plt.show()"
   ]
  },
  {
   "cell_type": "code",
   "execution_count": null,
   "id": "federal-bandwidth",
   "metadata": {},
   "outputs": [],
   "source": []
  },
  {
   "cell_type": "code",
   "execution_count": 53,
   "id": "difficult-actress",
   "metadata": {},
   "outputs": [
    {
     "name": "stdout",
     "output_type": "stream",
     "text": [
      "20.035737862513457\n"
     ]
    }
   ],
   "source": [
    "scale = np.sum(s_test_weights)/np.sum(np.concatenate((b_train_weights, b_val_weights), 0))\n",
    "print(scale)"
   ]
  },
  {
   "cell_type": "code",
   "execution_count": 57,
   "id": "extreme-objective",
   "metadata": {},
   "outputs": [
    {
     "data": {
      "image/png": "[encoded data removed]",
      "text/plain": [
       "<Figure size 864x648 with 1 Axes>"
      ]
     },
     "metadata": {
      "needs_background": "light"
     },
     "output_type": "display_data"
    }
   ],
   "source": [
    "import plot_set\n",
    "\n",
    "histo_data = [b_s, b]#, norm_recon_data])\n",
    "weight_histo = [s_test_weights, np.concatenate((b_train_weights, b_val_weights), 0)*scale]\n",
    "\n",
    "plt.rcParams[\"figure.figsize\"] = (12,9)\n",
    "\n",
    "fig, ax = plt.subplots()\n",
    "\n",
    "n_bins= 100\n",
    "colors = [\"green\", \"red\"]\n",
    "labels= [\"Signal\", \"Background\"]\n",
    "ax.hist(histo_data, \n",
    "        n_bins, \n",
    "        density=False, \n",
    "        stacked=False, \n",
    "        alpha=0.5,\n",
    "        histtype='bar',\n",
    "        color=colors, \n",
    "        label=labels, \n",
    "        weights=weight_histo\n",
    "        )\n",
    "\n",
    "ax.legend(prop={'size': 20})\n",
    "ax.set_title('Reconstruction error histogram with background and signal', fontsize=25)\n",
    "ax.set_xlabel('Log10 Reconstruction Error', fontsize=25)\n",
    "ax.set_ylabel('#Events', fontsize=25)\n",
    "#ax.set_yscale('log')\n",
    "#ax.set_xlim([0, 1.5])\n",
    "plt.tick_params(axis='both', labelsize=25)\n",
    "\n",
    "fig.tight_layout()\n",
    "plt.savefig(\"b_s_recon_big_rm3_feats_standard.pdf\")\n",
    "plt.show()"
   ]
  },
  {
   "cell_type": "code",
   "execution_count": 55,
   "id": "verified-sierra",
   "metadata": {},
   "outputs": [
    {
     "name": "stdout",
     "output_type": "stream",
     "text": [
      "[1.09332713 1.52786338 1.36626313 ... 2.32515437 2.74025395 2.64103161]\n"
     ]
    },
    {
     "data": {
      "image/png": "[encoded data removed]",
      "text/plain": [
       "<Figure size 864x864 with 1 Axes>"
      ]
     },
     "metadata": {
      "needs_background": "light"
     },
     "output_type": "display_data"
    }
   ],
   "source": [
    "from sklearn import metrics\n",
    "from sklearn.metrics import roc_curve\n",
    "from sklearn.metrics import roc_auc_score\n",
    "\n",
    "# ROC\n",
    "Y_b = np.zeros(X_b.shape[0]).reshape(X_b.shape[0],1);\n",
    "Y_s = np.ones(X_s_test.shape[0]).reshape(X_s_test.shape[0],1);\n",
    "Y_ROC = np.concatenate((Y_b, Y_s),0);\n",
    "\n",
    "back_weights = np.concatenate((b_train_weights, b_val_weights), 0)*scale\n",
    "\n",
    "sample_weight = np.concatenate((back_weights, s_test_weights),0)\n",
    "\n",
    "\n",
    "\n",
    "rec_errors_ROC = np.concatenate((recon_err_back,recon_err_sig),0)\n",
    "\n",
    "print(recon_err_sig)\n",
    "\n",
    "\n",
    "fpr, tpr, thresholds = roc_curve(Y_ROC, rec_errors_ROC, sample_weight = sample_weight, pos_label=1)\n",
    "ae_auc = roc_auc_score(Y_ROC, rec_errors_ROC)\n",
    "figRocAE, axRocAE = plt.subplots()\n",
    "figRocAE.set_size_inches(12,12)\n",
    "axRocAE.plot(fpr, tpr, label='ROC curve')\n",
    "axRocAE.plot([0, 1], [0, 1], 'k--')\n",
    "axRocAE.set_xlim([0.0, 1.0])\n",
    "axRocAE.set_ylim([0.0, 1.05])\n",
    "axRocAE.set_xlabel('False Anomaly Rate', fontsize=25)\n",
    "axRocAE.set_ylabel('True Anomaly Rate', fontsize=25)\n",
    "axRocAE.text(0.4,0.2,\"AUC = %.4f\" % ae_auc,fontsize=15)\n",
    "axRocAE.set_title(\"Autoencoder ROC\", fontsize=25)\n",
    "plt.tick_params(axis='both', labelsize=25)\n",
    "axRocAE.legend(fontsize=25)\n",
    "fig.tight_layout()\n",
    "plt.savefig(\"b_s_roc_curve_big_standard.pdf\")\n",
    "plt.show()"
   ]
  },
  {
   "cell_type": "code",
   "execution_count": null,
   "id": "activated-orbit",
   "metadata": {},
   "outputs": [],
   "source": []
  },
  {
   "cell_type": "code",
   "execution_count": null,
   "id": "criminal-easter",
   "metadata": {},
   "outputs": [],
   "source": []
  },
  {
   "cell_type": "code",
   "execution_count": null,
   "id": "annual-target",
   "metadata": {},
   "outputs": [],
   "source": []
  }
 ],
 "metadata": {
  "kernelspec": {
   "display_name": "Python 3",
   "language": "python",
   "name": "python3"
  },
  "language_info": {
   "codemirror_mode": {
    "name": "ipython",
    "version": 3
   },
   "file_extension": ".py",
   "mimetype": "text/x-python",
   "name": "python",
   "nbconvert_exporter": "python",
   "pygments_lexer": "ipython3",
   "version": "3.8.8"
  }
 },
 "nbformat": 4,
 "nbformat_minor": 5
}
