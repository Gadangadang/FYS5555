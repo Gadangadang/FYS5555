{
 "cells": [
  {
   "cell_type": "markdown",
   "metadata": {},
   "source": [
    "### When running this notebook via the Galaxy portal\n",
    "You can access your data via the dataset number. Using a Python kernel, you can access dataset number 42 with ``handle = open(get(42), 'r')``.\n",
    "To save data, write your data to a file, and then call ``put('filename.txt')``. The dataset will then be available in your galaxy history.\n",
    "<br><br>Note that if you are putting/getting to/from a different history than your default history, you must also provide the history-id.\n",
    "<br><br>More information including available galaxy-related environment variables can be found at https://github.com/bgruening/docker-jupyter-notebook. This notebook is running in a docker container based on the Docker Jupyter container described in that link.\n"
   ]
  },
  {
   "cell_type": "markdown",
   "metadata": {},
   "source": [
    "# Data Handling (Python) \n"
   ]
  },
  {
   "cell_type": "code",
   "execution_count": 1,
   "metadata": {},
   "outputs": [
    {
     "name": "stdout",
     "output_type": "stream",
     "text": [
      "Welcome to JupyROOT 6.24/02\n",
      "importing Jupyter notebook from setPath.ipynb\n",
      "importing Jupyter notebook from /storage/galaxy/jobs_directory/003/3079/working/jupyter/Input/OpenDataPandaFramework13TeV.ipynb\n",
      "This library contains handy functions to ease the access and use of the 13TeV ATLAS OpenData release\n",
      "\n",
      "getBkgCategories()\n",
      "\t Dumps the name of the various background cataegories available \n",
      "\t as well as the number of samples contained in each category.\n",
      "\t Returns a vector with the name of the categories\n",
      "\n",
      "getSamplesInCategory(cat)\n",
      "\t Dumps the name of the samples contained in a given category (cat)\n",
      "\t Returns dictionary with keys being DSIDs and values physics process name from filename.\n",
      "\n",
      "getMCCategory()\n",
      "\t Returns dictionary with keys DSID and values MC category\n",
      "\n",
      "initialize(indir)\n",
      "\t Collects all the root files available in a certain directory (indir)\n",
      "\n",
      "\n",
      "\n",
      "Setting luminosity to 10064 pb^-1\n",
      "\n",
      "###############################\n",
      "#### Background categories ####\n",
      "###############################\n",
      "Category             N(samples)\n",
      "-------------------------------\n",
      "Diboson                      10\n",
      "Higgs                        20\n",
      "Wjets                        42\n",
      "Wjetsincl                     6\n",
      "Zjets                        42\n",
      "Zjetsincl                     3\n",
      "singleTop                     6\n",
      "topX                          3\n",
      "ttbar                         1\n",
      "###############################\n",
      "#### Signal categories ####\n",
      "###############################\n",
      "Category             N(samples)\n",
      "-------------------------------\n",
      "GG_ttn1                       4\n",
      "Gee                           5\n",
      "Gmumu                         5\n",
      "RS_G_ZZ                       5\n",
      "SUSYC1C1                     10\n",
      "SUSYC1N2                     18\n",
      "SUSYSlepSlep                 14\n",
      "TT_directTT                   4\n",
      "ZPrimeee                      4\n",
      "ZPrimemumu                    4\n",
      "ZPrimett                     12\n",
      "dmV_Zll                      10\n"
     ]
    }
   ],
   "source": [
    "import ROOT as R\n",
    "import import_ipynb\n",
    "import setPath\n",
    "from os import listdir\n",
    "from os.path import isfile, join\n",
    "from Input.OpenDataPandaFramework13TeV import *\n",
    "%jsroot on"
   ]
  },
  {
   "cell_type": "markdown",
   "metadata": {},
   "source": [
    "## 1. Reading the dataset"
   ]
  },
  {
   "cell_type": "markdown",
   "metadata": {},
   "source": [
    "Set the analaysis to run (*1largeRjet1lep*, *1lep1tau*, *3lep*, *exactly2lep*, *GamGam*, *2lep*, *4lep*)\n",
    "\n",
    "Set the directory where you have downloaded the ATLAS OpenData samples you want to run over"
   ]
  },
  {
   "cell_type": "code",
   "execution_count": 2,
   "metadata": {},
   "outputs": [],
   "source": [
    "opendatadir = \"/storage/shared/data/fys5555/ATLAS_opendata/\"\n",
    "analysis = \"2lep\""
   ]
  },
  {
   "cell_type": "code",
   "execution_count": 3,
   "metadata": {},
   "outputs": [],
   "source": [
    "background = R.TChain(\"mini\")\n",
    "data = R.TChain(\"mini\")"
   ]
  },
  {
   "cell_type": "markdown",
   "metadata": {},
   "source": [
    "A list of all the background samples, category and their IDs can be found in **Infofile.txt**. The cross-section, efficiencies etc. needed for scaling are stored in the **Files_<---->**. We read these files and add all the samples to the TChain. We also (for later convenience) make a vector containing the dataset IDs. "
   ]
  },
  {
   "cell_type": "code",
   "execution_count": 4,
   "metadata": {},
   "outputs": [
    {
     "name": "stdout",
     "output_type": "stream",
     "text": [
      "WARNING \t File topX.root not added as sample in Background_samples_13TeV.txt/Signal_samples_13TeV.txt\n",
      "WARNING \t File Zjetsincl.root not added as sample in Background_samples_13TeV.txt/Signal_samples_13TeV.txt\n",
      "WARNING \t File Diboson.root not added as sample in Background_samples_13TeV.txt/Signal_samples_13TeV.txt\n",
      "WARNING \t File Gmumu.root not added as sample in Background_samples_13TeV.txt/Signal_samples_13TeV.txt\n",
      "WARNING \t File ZPrimeee.root not added as sample in Background_samples_13TeV.txt/Signal_samples_13TeV.txt\n",
      "WARNING \t File dmV_Zll.root not added as sample in Background_samples_13TeV.txt/Signal_samples_13TeV.txt\n",
      "WARNING \t File RS_G_ZZ.root not added as sample in Background_samples_13TeV.txt/Signal_samples_13TeV.txt\n",
      "WARNING \t File Higgs.root not added as sample in Background_samples_13TeV.txt/Signal_samples_13TeV.txt\n",
      "WARNING \t File ZPrimemumu.root not added as sample in Background_samples_13TeV.txt/Signal_samples_13TeV.txt\n",
      "WARNING \t File ZPrimett.root not added as sample in Background_samples_13TeV.txt/Signal_samples_13TeV.txt\n",
      "WARNING \t File Wjetsincl.root not added as sample in Background_samples_13TeV.txt/Signal_samples_13TeV.txt\n",
      "WARNING \t File Gee.root not added as sample in Background_samples_13TeV.txt/Signal_samples_13TeV.txt\n",
      "WARNING \t File Zjets.root not added as sample in Background_samples_13TeV.txt/Signal_samples_13TeV.txt\n",
      "WARNING \t File Wjets.root not added as sample in Background_samples_13TeV.txt/Signal_samples_13TeV.txt\n",
      "WARNING \t File SUSYC1C1.root not added as sample in Background_samples_13TeV.txt/Signal_samples_13TeV.txt\n",
      "WARNING \t File GG_ttn1.root not added as sample in Background_samples_13TeV.txt/Signal_samples_13TeV.txt\n",
      "WARNING \t File TT_directTT.root not added as sample in Background_samples_13TeV.txt/Signal_samples_13TeV.txt\n",
      "WARNING \t File SUSYC1N2.root not added as sample in Background_samples_13TeV.txt/Signal_samples_13TeV.txt\n",
      "WARNING \t File SUSYSlepSlep.root not added as sample in Background_samples_13TeV.txt/Signal_samples_13TeV.txt\n",
      "WARNING \t File ttbar.root not added as sample in Background_samples_13TeV.txt/Signal_samples_13TeV.txt\n",
      "WARNING \t File singleTop.root not added as sample in Background_samples_13TeV.txt/Signal_samples_13TeV.txt\n",
      "####################################################################################################\n",
      "BACKGROUND SAMPLES\n",
      "####################################################################################################\n",
      "WARNING \t File for ggH125_tautaulh not found in /storage/shared/data/fys5555/ATLAS_opendata//2lep/MC\n",
      "WARNING \t File for VBFH125_tautaulh not found in /storage/shared/data/fys5555/ATLAS_opendata//2lep/MC\n",
      "####################################################################################################\n",
      "SIGNAL SAMPLES\n",
      "####################################################################################################\n",
      "WARNING \t File for ttH125_gamgam not found in /storage/shared/data/fys5555/ATLAS_opendata//2lep/MC\n",
      "WARNING \t File for ggH125_gamgam not found in /storage/shared/data/fys5555/ATLAS_opendata//2lep/MC\n",
      "WARNING \t File for VBFH125_gamgam not found in /storage/shared/data/fys5555/ATLAS_opendata//2lep/MC\n",
      "WARNING \t File for WpH125J_Wincl_gamgam not found in /storage/shared/data/fys5555/ATLAS_opendata//2lep/MC\n",
      "WARNING \t File for ZH125J_Zincl_gamgam not found in /storage/shared/data/fys5555/ATLAS_opendata//2lep/MC\n",
      "WARNING \t File data.root not added as sample in Background_samples_13TeV.txt/Signal_samples_13TeV.txt\n",
      "###############################\n",
      "#### Background categories ####\n",
      "###############################\n",
      "Category             N(samples)\n",
      "-------------------------------\n",
      "Diboson                      10\n",
      "Higgs                        20\n",
      "Wjets                        42\n",
      "Wjetsincl                     6\n",
      "Zjets                        42\n",
      "Zjetsincl                     3\n",
      "singleTop                     6\n",
      "topX                          3\n",
      "ttbar                         1\n"
     ]
    }
   ],
   "source": [
    "mcfiles = initialize(opendatadir+\"/\"+analysis+\"/MC\")\n",
    "datafiles = initialize(opendatadir+\"/\"+analysis+\"/Data\")\n",
    "allfiles = z = {**mcfiles, **datafiles}\n",
    "Backgrounds = getBkgCategories() "
   ]
  },
  {
   "cell_type": "code",
   "execution_count": 5,
   "metadata": {},
   "outputs": [],
   "source": [
    "MCcat = {}\n",
    "for cat in allfiles:\n",
    "    for dsid in allfiles[cat][\"dsid\"]:\n",
    "        try:\n",
    "            MCcat[int(dsid)] = cat\n",
    "        except:\n",
    "            continue"
   ]
  },
  {
   "cell_type": "code",
   "execution_count": 6,
   "metadata": {},
   "outputs": [
    {
     "name": "stdout",
     "output_type": "stream",
     "text": [
      "Could not get DSID for /storage/shared/data/fys5555/ATLAS_opendata//2lep/MC/Diboson.root. Skipping\n",
      "Could not get DSID for /storage/shared/data/fys5555/ATLAS_opendata//2lep/MC/Higgs.root. Skipping\n",
      "Could not get DSID for /storage/shared/data/fys5555/ATLAS_opendata//2lep/MC/Wjets.root. Skipping\n",
      "Could not get DSID for /storage/shared/data/fys5555/ATLAS_opendata//2lep/MC/Wjetsincl.root. Skipping\n",
      "Could not get DSID for /storage/shared/data/fys5555/ATLAS_opendata//2lep/MC/Zjets.root. Skipping\n",
      "Could not get DSID for /storage/shared/data/fys5555/ATLAS_opendata//2lep/MC/Zjetsincl.root. Skipping\n",
      "Could not get DSID for /storage/shared/data/fys5555/ATLAS_opendata//2lep/MC/singleTop.root. Skipping\n",
      "Could not get DSID for /storage/shared/data/fys5555/ATLAS_opendata//2lep/MC/topX.root. Skipping\n",
      "Could not get DSID for /storage/shared/data/fys5555/ATLAS_opendata//2lep/MC/ttbar.root. Skipping\n",
      "Added 118288518 entries for backgrounds\n"
     ]
    }
   ],
   "source": [
    "dataset_IDs = []\n",
    "background.Reset()\n",
    "for b in Backgrounds:\n",
    "    i = 0\n",
    "    if not b in mcfiles.keys(): continue\n",
    "    for mc in mcfiles[b][\"files\"]:\n",
    "        if not os.path.isfile(mc): continue\n",
    "        try:\n",
    "            dataset_IDs.append(int(mcfiles[b][\"dsid\"][i]))\n",
    "            background.Add(mc)\n",
    "        except:\n",
    "            print(\"Could not get DSID for %s. Skipping\"%mc)\n",
    "        i += 1\n",
    "nen = background.GetEntries()\n",
    "print(\"Added %i entries for backgrounds\"%(nen))"
   ]
  },
  {
   "cell_type": "code",
   "execution_count": 7,
   "metadata": {},
   "outputs": [
    {
     "name": "stdout",
     "output_type": "stream",
     "text": [
      "Added 24411580 entries for data\n"
     ]
    }
   ],
   "source": [
    "data.Reset(); \n",
    "for d in datafiles[\"data\"][\"files\"]:  \n",
    "    if not os.path.isfile(d): continue\n",
    "    data.Add(d)\n",
    "nen = data.GetEntries()\n",
    "print(\"Added %i entries for data\"%(nen))"
   ]
  },
  {
   "cell_type": "markdown",
   "metadata": {},
   "source": [
    "## 2. Event selection"
   ]
  },
  {
   "cell_type": "markdown",
   "metadata": {},
   "source": [
    "For machine learning using (semi)-unsupervised learning, we need as unbiased data as possible. Thus, we need to construct a dataframe with all the neccesary features, which is a lot of data."
   ]
  },
  {
   "cell_type": "code",
   "execution_count": 8,
   "metadata": {},
   "outputs": [
    {
     "name": "stdout",
     "output_type": "stream",
     "text": [
      "no stored variable or alias lumi\n"
     ]
    }
   ],
   "source": [
    "# Retrieve lumi from library\n",
    "%store -r lumi\n",
    "\n",
    "l1 = R.TLorentzVector()\n",
    "l2 = R.TLorentzVector()\n",
    "\n",
    "dilepton = R.TLorentzVector()\n"
   ]
  },
  {
   "cell_type": "markdown",
   "metadata": {},
   "source": [
    "This is the cell where the analysis is performed. Note that the cell needs to be run twice:\n",
    "\n",
    "1. with data = 0 to run over MC\n",
    "2. with data = 1 to run over data\n",
    "\n",
    "Note that the MC running takes ~5 minutes for 3lep analysis. Much(!!!) more time for e.g. 2lep analysis! Data running is relatively fast for 3lep. "
   ]
  },
  {
   "cell_type": "code",
   "execution_count": 9,
   "metadata": {},
   "outputs": [],
   "source": [
    "import pandas as pd\n",
    "import numpy as np"
   ]
  },
  {
   "cell_type": "code",
   "execution_count": 11,
   "metadata": {},
   "outputs": [
    {
     "name": "stdout",
     "output_type": "stream",
     "text": [
      "Total events 1000/118288518\n",
      "0.06417417526245117\n",
      "Done!\n",
      "Remebered to run over data? No? Set data = 1 at the top and run again\n",
      "CPU times: user 63.9 ms, sys: 2.76 ms, total: 66.7 ms\n",
      "Wall time: 66.9 ms\n"
     ]
    }
   ],
   "source": [
    "%%time\n",
    "import time\n",
    "\n",
    "isData = 0; \n",
    "\n",
    "if isData == 1: ds = data \n",
    "else: ds = background\n",
    "\n",
    "legal_flavor_tot = [13*2, 11*2]\n",
    "    \n",
    "columns = {\"met\":[], \"XSection\":[], \n",
    "           \"lep_n\":[],\"tot_lep_invariant_mass\":[], \"mean_lep_pt\":[], \n",
    "           \"mean_lep_E\":[], \"mean_lep_ptcone30\":[], \"mean_lep_etcone20\":[],\n",
    "           \"mean_lep_eta\":[], \"mean_lep_phi\":[], \"jet_n\":[], \n",
    "           \"mean_jet_pt\":[], \"mean_jet_E\":[],  \"photon_n\":[], \"mean_photon_pt\":[], \n",
    "           \"mean_photon_E\":[], \"largeRjet_n\":[], \"tot_largeRjet_m\":[],\n",
    "           \"mean_largeRjet_pt\":[], \"mean_largeRjet_E\":[], \n",
    "           \"tau_n\":[], \"mean_tau_pt\":[], \"mean_tau_E\":[], \n",
    "           \"mean_lep_pt_syst\":[], \"met_et_syst\":[], \n",
    "           \"mean_jet_pt_syst\":[], \"mean_photon_pt_syst\":[], \n",
    "           \"mean_largeRjet_pt_syst\":[], \"mean_tau_pt_syst\":[]\n",
    "          }\n",
    "lep0 = 0\n",
    "lep1 = 1\n",
    "a = time.time()\n",
    "i = 0   \n",
    "for event in ds:\n",
    "    \n",
    "    if i%10000 == 0 and i>0: \n",
    "        print(\"Total events %i/%i\"%(i,ds.GetEntries()))\n",
    "    elif i==1000:\n",
    "        print(\"Total events %i/%i\"%(i,ds.GetEntries()))\n",
    "        break\n",
    "    i += 1 \n",
    "    # First event selection, require charge conservation, and lep flavor, and \n",
    "    # to only have the two largest leptons    \n",
    "    \n",
    "\n",
    "    ## Cut #1: Require (exactly) 2 leptons\n",
    "    if not ds.lep_n == 2: continue\n",
    "    ## Cut #2: Require opposite charge\n",
    "    if not ds.lep_charge[0] + ds.lep_charge[1] == 0 : continue\n",
    "    ## Cut #3: Require same flavour (2 electrons or 2 muons)\n",
    "    if not ds.lep_type[0] + ds.lep_type[1] in legal_flavor_tot: continue\n",
    "\n",
    "    \n",
    "    ## Require \"good leptons\": \n",
    "    \n",
    "    if ds.lep_pt[0]/1000.0 < 25: continue\n",
    "    if ds.lep_etcone20[0]/ds.lep_pt[0] > 0.30: continue\n",
    "    if ds.lep_ptcone30[0]/ds.lep_pt[0] > 0.30: continue\n",
    "    #if not (ds.lep_flag[0] & 512): continue\n",
    "        \n",
    "    if ds.lep_pt[1]/1000.0 < 25: continue\n",
    "    if ds.lep_etcone20[1]/ds.lep_pt[1] > 0.30: continue\n",
    "    if ds.lep_ptcone30[1]/ds.lep_pt[1] > 0.30: continue\n",
    "\n",
    "    \n",
    "    l1.SetPtEtaPhiE(ds.lep_pt[0]/1000., ds.lep_eta[0],\n",
    "                    ds.lep_phi[0], ds.lep_E[0]/1000.)\n",
    "    l2.SetPtEtaPhiE(ds.lep_pt[1]/1000., ds.lep_eta[1],\n",
    "                    ds.lep_phi[1], ds.lep_E[1]/1000.)\n",
    "    \n",
    "    dilepton = l1 + l2 \n",
    "    \n",
    "    dilep_inv_mass = dilepton.M()\n",
    "    ## Event selection:\n",
    "    \n",
    "    \n",
    "    ### General information \n",
    "    columns[\"met\"].append(ds.met_et/1000.0)\n",
    "    columns[\"XSection\"].append(ds.XSection)  \n",
    "    \n",
    "    ### Lep information\n",
    "    columns[\"lep_n\"].append(ds.lep_n)\n",
    "    columns[\"tot_lep_invariant_mass\"].append(dilep_inv_mass)\n",
    "    columns[\"mean_lep_pt\"].append((ds.lep_pt[lep0] + ds.lep_pt[lep1])/2000)\n",
    "    columns[\"mean_lep_E\"].append((ds.lep_E[lep0] + ds.lep_E[lep1])/2000)\n",
    "    columns[\"mean_lep_ptcone30\"].append((ds.lep_ptcone30[lep0] + ds.lep_ptcone30[lep1])/(2*ds.lep_pt[lep0]))\n",
    "    columns[\"mean_lep_etcone20\"].append((ds.lep_etcone20[lep0] + ds.lep_etcone20[lep1])/(2*ds.lep_pt[lep0]))\n",
    "    columns[\"mean_lep_eta\"].append((ds.lep_eta[lep0]+ds.lep_eta[lep1])/2)\n",
    "    columns[\"mean_lep_phi\"].append((ds.lep_phi[lep0]+ds.lep_phi[lep1])/2)\n",
    "    \n",
    "    ### Jet information\n",
    "    if ds.jet_n == 0:\n",
    "        columns[\"jet_n\"].append(ds.jet_n)\n",
    "        columns[\"mean_jet_pt\"].append(0)\n",
    "        columns[\"mean_jet_E\"].append(0)\n",
    "        columns[\"mean_jet_pt_syst\"].append(0)\n",
    "    else:\n",
    "        columns[\"jet_n\"].append(ds.jet_n)\n",
    "        columns[\"mean_jet_pt\"].append(np.sum(ds.jet_pt))\n",
    "        columns[\"mean_jet_E\"].append(np.sum(ds.jet_E))\n",
    "        columns[\"mean_jet_pt_syst\"].append(np.sum(ds.jet_pt_syst))\n",
    "    \n",
    "    ### Photon information\n",
    "    if ds.photon_n == 0:\n",
    "        columns[\"photon_n\"].append(ds.photon_n)\n",
    "        columns[\"mean_photon_pt\"].append(0)\n",
    "        columns[\"mean_photon_E\"].append(0)\n",
    "        columns[\"mean_photon_pt_syst\"].append(0)\n",
    "    else:\n",
    "        columns[\"photon_n\"].append(ds.photon_n)\n",
    "        columns[\"mean_photon_pt\"].append(np.sum(ds.photon_pt))\n",
    "        columns[\"mean_photon_E\"].append(np.sum(ds.photon_E))\n",
    "        columns[\"mean_photon_pt_syst\"].append(np.sum(ds.photon_pt_syst))\n",
    "\n",
    "    ### LargeRjet information\n",
    "    if ds.largeRjet_n == 0:\n",
    "        columns[\"largeRjet_n\"].append(ds.largeRjet_n)\n",
    "        columns[\"tot_largeRjet_m\"].append(0)\n",
    "        columns[\"mean_largeRjet_pt\"].append(0)\n",
    "        columns[\"mean_largeRjet_E\"].append(0)\n",
    "        columns[\"mean_largeRjet_pt_syst\"].append(0)\n",
    "        \n",
    "    else:\n",
    "        columns[\"largeRjet_n\"].append(ds.largeRjet_n)\n",
    "        columns[\"tot_largeRjet_m\"].append(ds.largeRjet_m)\n",
    "        columns[\"mean_largeRjet_pt\"].append(np.sum(ds.largeRjet_pt))\n",
    "        columns[\"mean_largeRjet_E\"].append((np.sum(ds.largeRjet_E)))\n",
    "        columns[\"mean_largeRjet_pt_syst\"].append(np.sum(ds.largeRjet_pt_syst))\n",
    "\n",
    "\n",
    "    ### Tau information \n",
    "    if ds.tau_n == 0:\n",
    "        columns[\"tau_n\"].append(ds.tau_n)\n",
    "        columns[\"mean_tau_pt\"].append(0)\n",
    "        columns[\"mean_tau_E\"].append(0)\n",
    "        columns[\"mean_tau_pt_syst\"].append(0)\n",
    "    else:\n",
    "        columns[\"tau_n\"].append(ds.tau_n)\n",
    "        columns[\"mean_tau_pt\"].append(np.sum(ds.tau_pt))\n",
    "        columns[\"mean_tau_E\"].append(np.sum(ds.tau_E))\n",
    "        columns[\"mean_tau_pt_syst\"].append(np.sum(ds.tau_pt_syst))\n",
    "\n",
    "    \n",
    "    ### Systematic uncertainty for gauranteed placeholders\n",
    "    columns[\"mean_lep_pt_syst\"].append(np.sum(ds.lep_pt_syst))\n",
    "    columns[\"met_et_syst\"].append(ds.met_et_syst)\n",
    "\n",
    "    \n",
    "    \n",
    "b = time.time()\n",
    "print(b-a)\n",
    "\n",
    "df = pd.DataFrame(data=columns)\n",
    "        \n",
    "print(\"Done!\")\n",
    "if isData == 0:\n",
    "    df.to_csv(\"mcdata.csv\", sep=str(','))\n",
    "    print(\"Remebered to run over data? No? Set data = 1 at the top and run again\")\n",
    "else:\n",
    "    df.to_csv(\"testdata.csv\", sep=str(','))\n",
    "    print(\"Remebered to run over MC? No? Set data = 0 at the top and run again\")\n"
   ]
  },
  {
   "cell_type": "code",
   "execution_count": null,
   "metadata": {},
   "outputs": [],
   "source": []
  }
 ],
 "metadata": {
  "kernelspec": {
   "display_name": "Python 3 (ipykernel)",
   "language": "python",
   "name": "python3"
  },
  "language_info": {
   "codemirror_mode": {
    "name": "ipython",
    "version": 3
   },
   "file_extension": ".py",
   "mimetype": "text/x-python",
   "name": "python",
   "nbconvert_exporter": "python",
   "pygments_lexer": "ipython3",
   "version": "3.7.4"
  }
 },
 "nbformat": 4,
 "nbformat_minor": 4
}
