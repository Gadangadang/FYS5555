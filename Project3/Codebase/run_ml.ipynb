{
 "cells": [
  {
   "cell_type": "markdown",
   "id": "active-collins",
   "metadata": {},
   "source": [
    "# ML test\n",
    "### Testing of reading in data and trying an auto encoder"
   ]
  },
  {
   "cell_type": "code",
   "execution_count": 1,
   "id": "connected-jones",
   "metadata": {},
   "outputs": [],
   "source": [
    "import pandas as pd \n",
    "import numpy as np\n",
    "import matplotlib.pyplot as plt \n",
    "import tensorflow as tf\n",
    "#import keras_tuner as kt\n",
    "seed = tf.random.set_seed(1)"
   ]
  },
  {
   "cell_type": "code",
   "execution_count": 2,
   "id": "israeli-corruption",
   "metadata": {},
   "outputs": [],
   "source": [
    "df = pd.read_hdf(\"/storage/shared/data/2lep_df_forML.hdf5\")\n",
    "df = pd.concat([df,pd.read_hdf(\"/storage/shared/data/2lep_df_forML_signal.hdf5\")])\n"
   ]
  },
  {
   "cell_type": "code",
   "execution_count": 3,
   "id": "driving-soldier",
   "metadata": {},
   "outputs": [],
   "source": [
    "df.pop(\"category\")\n",
    "y = df[\"isSignal\"]\n",
    "df.pop(\"isSignal\")\n",
    "X = df\n",
    "X = X.to_numpy()\n",
    "y = y.to_numpy()\n"
   ]
  },
  {
   "cell_type": "code",
   "execution_count": 4,
   "id": "american-costs",
   "metadata": {},
   "outputs": [
    {
     "name": "stdout",
     "output_type": "stream",
     "text": [
      "(109683372, 19)\n",
      "(109683372,)\n"
     ]
    }
   ],
   "source": [
    "print(np.shape(X))\n",
    "print(np.shape(y))"
   ]
  },
  {
   "cell_type": "markdown",
   "id": "operational-detective",
   "metadata": {},
   "source": [
    "### Data handling and preperations\n",
    "Before we train on the data, we need to scale it and split it into a validation and "
   ]
  },
  {
   "cell_type": "code",
   "execution_count": 5,
   "id": "interior-collaboration",
   "metadata": {},
   "outputs": [],
   "source": [
    "from sklearn.preprocessing import StandardScaler\n",
    "from sklearn.model_selection import train_test_split"
   ]
  },
  {
   "cell_type": "code",
   "execution_count": 6,
   "id": "agricultural-trinidad",
   "metadata": {},
   "outputs": [],
   "source": [
    "scaler = StandardScaler().fit(X)\n",
    "X = scaler.transform(X)"
   ]
  },
  {
   "cell_type": "code",
   "execution_count": 7,
   "id": "genuine-reporter",
   "metadata": {},
   "outputs": [],
   "source": [
    "X_train, X_val, y_train, y_val= train_test_split(\n",
    "                X, y, test_size=0.2, random_state=seed)"
   ]
  },
  {
   "cell_type": "markdown",
   "id": "hidden-assignment",
   "metadata": {},
   "source": [
    "Now we need to separate the signal from the background in the training data."
   ]
  },
  {
   "cell_type": "code",
   "execution_count": 8,
   "id": "abroad-coverage",
   "metadata": {},
   "outputs": [],
   "source": [
    "X_back = X_train[np.where(y_train == 0)]"
   ]
  },
  {
   "cell_type": "markdown",
   "id": "behind-pregnancy",
   "metadata": {},
   "source": [
    "Then we perform a new split, such that we get a validation and training set for the autoencoder"
   ]
  },
  {
   "cell_type": "code",
   "execution_count": 9,
   "id": "pediatric-terminal",
   "metadata": {},
   "outputs": [],
   "source": [
    "X_b_train, X_b_val= train_test_split(\n",
    "                X_back, test_size=0.2, random_state=seed)"
   ]
  },
  {
   "cell_type": "code",
   "execution_count": 53,
   "id": "illegal-junction",
   "metadata": {},
   "outputs": [],
   "source": [
    "data_shape = np.shape(X_b_train)[1]\n",
    "number_of_rows = np.shape(X_b_train)[0]\n",
    "n_vali = np.shape(X_b_val)[0]\n",
    "random_indices = np.random.choice(number_of_rows, size=int(1e6), replace=False)\n",
    "\n",
    "test_indices = np.random.choice(n_vali, size=int(200000), replace=False)\n",
    "\n",
    "smaller_data = X_b_train[random_indices, :]\n",
    "small_vali = X_b_val[test_indices, :]"
   ]
  },
  {
   "cell_type": "markdown",
   "id": "satisfactory-coordinate",
   "metadata": {},
   "source": [
    "### Training\n",
    "Now we can train on the data"
   ]
  },
  {
   "cell_type": "code",
   "execution_count": 11,
   "id": "color-giant",
   "metadata": {},
   "outputs": [],
   "source": [
    "from keras import backend as K\n",
    "from keras.utils.generic_utils import get_custom_objects\n"
   ]
  },
  {
   "cell_type": "code",
   "execution_count": 40,
   "id": "recreational-guest",
   "metadata": {},
   "outputs": [],
   "source": [
    "inputs = tf.keras.layers.Input(shape=data_shape, name=\"encoder_input\")\n",
    "x = tf.keras.layers.Dense(17, activation='relu')(inputs)\n",
    "x1 = tf.keras.layers.Dense(13, activation='relu')(x)\n",
    "x2 = tf.keras.layers.Dense(5, activation='relu')(x1)\n",
    "encoder = tf.keras.Model(inputs, x2, name=\"encoder\")\n",
    "\n",
    "latent_input = tf.keras.layers.Input(shape=5, name=\"decoder_input\")\n",
    "x = tf.keras.layers.Dense(11, activation='relu')(latent_input)\n",
    "x1 = tf.keras.layers.Dense(17, activation='relu')(x)\n",
    "output = tf.keras.layers.Dense(data_shape, activation='relu')(x1)\n",
    "decoder = tf.keras.Model(latent_input, output, name=\"decoder\")\n",
    "\n",
    "outputs = decoder(encoder(inputs))\n",
    "AE_model = tf.keras.Model(inputs, outputs, name=\"AE_model\")\n",
    "\n",
    "optimizer = tf.keras.optimizers.Adam(1e-3)\n",
    "AE_model.compile(loss=\"mse\", optimizer=optimizer, metrics=[\"mse\"])"
   ]
  },
  {
   "cell_type": "code",
   "execution_count": 41,
   "id": "functioning-mortgage",
   "metadata": {},
   "outputs": [
    {
     "name": "stdout",
     "output_type": "stream",
     "text": [
      "Num GPUs Available:  1\n"
     ]
    }
   ],
   "source": [
    "print(\"Num GPUs Available: \", len(tf.config.list_physical_devices('GPU')))"
   ]
  },
  {
   "cell_type": "markdown",
   "id": "engaged-knight",
   "metadata": {},
   "source": [
    "gpus = tf.config.list_physical_devices('GPU')\n",
    "if gpus:\n",
    "  # Restrict TensorFlow to only allocate 1GB of memory on the first GPU\n",
    "  try:\n",
    "    tf.config.set_logical_device_configuration(\n",
    "        gpus[0],\n",
    "        [tf.config.LogicalDeviceConfiguration(memory_limit=1024)])\n",
    "    logical_gpus = tf.config.list_logical_devices('GPU')\n",
    "    print(len(gpus), \"Physical GPUs,\", len(logical_gpus), \"Logical GPUs\")\n",
    "  except RuntimeError as e:\n",
    "    # Virtual devices must be set before GPUs have been initialized\n",
    "    print(e)"
   ]
  },
  {
   "cell_type": "code",
   "execution_count": null,
   "id": "acute-analysis",
   "metadata": {},
   "outputs": [],
   "source": []
  },
  {
   "cell_type": "code",
   "execution_count": 54,
   "id": "material-keeping",
   "metadata": {},
   "outputs": [
    {
     "name": "stdout",
     "output_type": "stream",
     "text": [
      "Epoch 1/50\n",
      "1000/1000 [==============================] - 9s 9ms/step - loss: 0.3889 - mse: 0.3889 - val_loss: 0.3889 - val_mse: 0.3889\n",
      "Epoch 2/50\n",
      "1000/1000 [==============================] - 8s 8ms/step - loss: 0.3889 - mse: 0.3889 - val_loss: 0.3889 - val_mse: 0.3889\n",
      "Epoch 3/50\n",
      "1000/1000 [==============================] - 8s 8ms/step - loss: 0.3889 - mse: 0.3889 - val_loss: 0.3889 - val_mse: 0.3889\n",
      "Epoch 4/50\n",
      "1000/1000 [==============================] - 8s 8ms/step - loss: 0.3889 - mse: 0.3889 - val_loss: 0.3889 - val_mse: 0.3889\n",
      "Epoch 5/50\n",
      "1000/1000 [==============================] - 8s 8ms/step - loss: 0.3889 - mse: 0.3889 - val_loss: 0.3889 - val_mse: 0.3889\n",
      "Epoch 6/50\n",
      "1000/1000 [==============================] - 8s 8ms/step - loss: 0.3889 - mse: 0.3889 - val_loss: 0.3889 - val_mse: 0.3889\n",
      "Epoch 7/50\n",
      "1000/1000 [==============================] - 8s 8ms/step - loss: 0.3889 - mse: 0.3889 - val_loss: 0.3889 - val_mse: 0.3889\n",
      "Epoch 8/50\n",
      "1000/1000 [==============================] - 8s 8ms/step - loss: 0.3889 - mse: 0.3889 - val_loss: 0.3888 - val_mse: 0.3888\n",
      "Epoch 9/50\n",
      "1000/1000 [==============================] - 7s 7ms/step - loss: 0.3889 - mse: 0.3889 - val_loss: 0.3888 - val_mse: 0.3888\n",
      "Epoch 10/50\n",
      "1000/1000 [==============================] - 8s 8ms/step - loss: 0.3889 - mse: 0.3889 - val_loss: 0.3888 - val_mse: 0.3888\n",
      "Epoch 11/50\n",
      "1000/1000 [==============================] - 8s 8ms/step - loss: 0.3889 - mse: 0.3889 - val_loss: 0.3888 - val_mse: 0.3888\n",
      "Epoch 12/50\n",
      "1000/1000 [==============================] - 7s 7ms/step - loss: 0.3889 - mse: 0.3889 - val_loss: 0.3888 - val_mse: 0.3888\n",
      "Epoch 13/50\n",
      "1000/1000 [==============================] - 7s 7ms/step - loss: 0.3889 - mse: 0.3889 - val_loss: 0.3888 - val_mse: 0.3888\n",
      "Epoch 14/50\n",
      "1000/1000 [==============================] - 7s 7ms/step - loss: 0.3889 - mse: 0.3889 - val_loss: 0.3888 - val_mse: 0.3888\n",
      "Epoch 15/50\n",
      "1000/1000 [==============================] - 7s 7ms/step - loss: 0.3889 - mse: 0.3889 - val_loss: 0.3888 - val_mse: 0.3888\n",
      "Epoch 16/50\n",
      "1000/1000 [==============================] - 7s 7ms/step - loss: 0.3889 - mse: 0.3889 - val_loss: 0.3889 - val_mse: 0.3889\n",
      "Epoch 17/50\n",
      "1000/1000 [==============================] - 7s 7ms/step - loss: 0.3889 - mse: 0.3889 - val_loss: 0.3888 - val_mse: 0.3888\n",
      "Epoch 18/50\n",
      "1000/1000 [==============================] - 7s 7ms/step - loss: 0.3888 - mse: 0.3888 - val_loss: 0.3888 - val_mse: 0.3888\n",
      "Epoch 19/50\n",
      "1000/1000 [==============================] - 7s 7ms/step - loss: 0.3889 - mse: 0.3889 - val_loss: 0.3888 - val_mse: 0.3888\n",
      "Epoch 20/50\n",
      "1000/1000 [==============================] - 7s 7ms/step - loss: 0.3888 - mse: 0.3888 - val_loss: 0.3888 - val_mse: 0.3888\n",
      "Epoch 21/50\n",
      "1000/1000 [==============================] - 7s 7ms/step - loss: 0.3888 - mse: 0.3888 - val_loss: 0.3888 - val_mse: 0.3888\n",
      "Epoch 22/50\n",
      "1000/1000 [==============================] - 7s 7ms/step - loss: 0.3888 - mse: 0.3888 - val_loss: 0.3889 - val_mse: 0.3889\n",
      "Epoch 23/50\n",
      "1000/1000 [==============================] - 7s 8ms/step - loss: 0.3888 - mse: 0.3888 - val_loss: 0.3888 - val_mse: 0.3888\n",
      "Epoch 24/50\n",
      "1000/1000 [==============================] - 7s 7ms/step - loss: 0.3889 - mse: 0.3889 - val_loss: 0.3888 - val_mse: 0.3888\n",
      "Epoch 25/50\n",
      "1000/1000 [==============================] - 8s 8ms/step - loss: 0.3889 - mse: 0.3889 - val_loss: 0.3890 - val_mse: 0.3890\n",
      "Epoch 26/50\n",
      "1000/1000 [==============================] - 8s 8ms/step - loss: 0.3888 - mse: 0.3888 - val_loss: 0.3888 - val_mse: 0.3888\n",
      "Epoch 27/50\n",
      "1000/1000 [==============================] - 8s 8ms/step - loss: 0.3888 - mse: 0.3888 - val_loss: 0.3888 - val_mse: 0.3888\n",
      "Epoch 28/50\n",
      "1000/1000 [==============================] - 8s 8ms/step - loss: 0.3888 - mse: 0.3888 - val_loss: 0.3888 - val_mse: 0.3888\n",
      "Epoch 29/50\n",
      "1000/1000 [==============================] - 8s 8ms/step - loss: 0.3889 - mse: 0.3889 - val_loss: 0.3888 - val_mse: 0.3888\n",
      "Epoch 30/50\n",
      "1000/1000 [==============================] - 8s 8ms/step - loss: 0.3888 - mse: 0.3888 - val_loss: 0.3888 - val_mse: 0.3888\n",
      "Epoch 31/50\n",
      "1000/1000 [==============================] - 8s 8ms/step - loss: 0.3888 - mse: 0.3888 - val_loss: 0.3888 - val_mse: 0.3888\n",
      "Epoch 32/50\n",
      "1000/1000 [==============================] - 8s 8ms/step - loss: 0.3888 - mse: 0.3888 - val_loss: 0.3888 - val_mse: 0.3888\n",
      "Epoch 33/50\n",
      "1000/1000 [==============================] - 8s 8ms/step - loss: 0.3888 - mse: 0.3888 - val_loss: 0.3888 - val_mse: 0.3888\n",
      "Epoch 34/50\n",
      "1000/1000 [==============================] - 8s 8ms/step - loss: 0.3888 - mse: 0.3888 - val_loss: 0.3888 - val_mse: 0.3888\n",
      "Epoch 35/50\n",
      "1000/1000 [==============================] - 8s 8ms/step - loss: 0.3888 - mse: 0.3888 - val_loss: 0.3888 - val_mse: 0.3888\n",
      "Epoch 36/50\n",
      "1000/1000 [==============================] - 8s 8ms/step - loss: 0.3888 - mse: 0.3888 - val_loss: 0.3888 - val_mse: 0.3888\n",
      "Epoch 37/50\n",
      "1000/1000 [==============================] - 8s 8ms/step - loss: 0.3888 - mse: 0.3888 - val_loss: 0.3888 - val_mse: 0.3888\n",
      "Epoch 38/50\n",
      "1000/1000 [==============================] - 8s 8ms/step - loss: 0.3888 - mse: 0.3888 - val_loss: 0.3889 - val_mse: 0.3889\n",
      "Epoch 39/50\n",
      "1000/1000 [==============================] - 8s 8ms/step - loss: 0.3888 - mse: 0.3888 - val_loss: 0.3888 - val_mse: 0.3888\n",
      "Epoch 40/50\n",
      "1000/1000 [==============================] - 7s 7ms/step - loss: 0.3889 - mse: 0.3889 - val_loss: 0.3888 - val_mse: 0.3888\n",
      "Epoch 41/50\n",
      "1000/1000 [==============================] - 8s 8ms/step - loss: 0.3889 - mse: 0.3889 - val_loss: 0.3888 - val_mse: 0.3888\n",
      "Epoch 42/50\n",
      "1000/1000 [==============================] - 8s 8ms/step - loss: 0.3888 - mse: 0.3888 - val_loss: 0.3888 - val_mse: 0.3888\n",
      "Epoch 43/50\n",
      "1000/1000 [==============================] - 8s 8ms/step - loss: 0.3888 - mse: 0.3888 - val_loss: 0.3888 - val_mse: 0.3888\n",
      "Epoch 44/50\n",
      "1000/1000 [==============================] - 8s 8ms/step - loss: 0.3888 - mse: 0.3888 - val_loss: 0.3888 - val_mse: 0.3888\n",
      "Epoch 45/50\n",
      "1000/1000 [==============================] - 8s 8ms/step - loss: 0.3888 - mse: 0.3888 - val_loss: 0.3888 - val_mse: 0.3888\n",
      "Epoch 46/50\n",
      "1000/1000 [==============================] - 7s 7ms/step - loss: 0.3889 - mse: 0.3889 - val_loss: 0.3888 - val_mse: 0.3888\n",
      "Epoch 47/50\n",
      "1000/1000 [==============================] - 7s 7ms/step - loss: 0.3888 - mse: 0.3888 - val_loss: 0.3888 - val_mse: 0.3888\n",
      "Epoch 48/50\n",
      "1000/1000 [==============================] - 7s 7ms/step - loss: 0.3888 - mse: 0.3888 - val_loss: 0.3889 - val_mse: 0.3889\n",
      "Epoch 49/50\n",
      "1000/1000 [==============================] - 8s 8ms/step - loss: 0.3888 - mse: 0.3888 - val_loss: 0.3888 - val_mse: 0.3888\n",
      "Epoch 50/50\n",
      "1000/1000 [==============================] - 7s 7ms/step - loss: 0.3888 - mse: 0.3888 - val_loss: 0.3891 - val_mse: 0.3891\n",
      "Training done\n",
      "Reconstruction done\n",
      "Test error done\n"
     ]
    }
   ],
   "source": [
    "with tf.device(\"/CPU:0\"):\n",
    "    AE_model.fit(smaller_data, smaller_data, batch_size=1000, epochs=50, validation_data=(small_vali,small_vali))\n",
    "    \n",
    "    print(\"Training done\")\n",
    "    recon_val = AE_model(X_val)\n",
    "    print(\"Reconstruction done\")\n",
    "    \n",
    "    err_val = tf.keras.losses.mse(recon_val, X_val).numpy()\n",
    "    print(\"Test error done\")"
   ]
  },
  {
   "cell_type": "code",
   "execution_count": null,
   "id": "pending-cleanup",
   "metadata": {},
   "outputs": [],
   "source": [
    "#%tb"
   ]
  },
  {
   "cell_type": "code",
   "execution_count": 58,
   "id": "protected-exhibition",
   "metadata": {},
   "outputs": [
    {
     "name": "stdout",
     "output_type": "stream",
     "text": [
      "[2.16550547e-07 4.82968662e-07 1.55012461e-07 ... 1.03029711e-07\n",
      " 3.14556306e-07 4.37413205e-07]\n",
      "21936675\n"
     ]
    },
    {
     "data": {
      "image/png": "[encoded data removed]",
      "text/plain": [
       "<Figure size 480x320 with 1 Axes>"
      ]
     },
     "metadata": {},
     "output_type": "display_data"
    }
   ],
   "source": [
    "import plot_set\n",
    "from plot_set import plot_histo\n",
    "\n",
    "b = (err_val)#-np.min(err_val))/(np.max(err_val)-np.min(err_val))\n",
    "print(b)\n",
    "\n",
    "print(len(b))\n",
    "\n",
    "plot_histo(b, \"AE_histo.pdf\")"
   ]
  },
  {
   "cell_type": "code",
   "execution_count": 46,
   "id": "generous-third",
   "metadata": {},
   "outputs": [],
   "source": [
    "AE_model.save(\"ex_model.h5\")"
   ]
  },
  {
   "cell_type": "code",
   "execution_count": null,
   "id": "foreign-compatibility",
   "metadata": {},
   "outputs": [],
   "source": []
  }
 ],
 "metadata": {
  "kernelspec": {
   "display_name": "Python 3",
   "language": "python",
   "name": "python3"
  },
  "language_info": {
   "codemirror_mode": {
    "name": "ipython",
    "version": 3
   },
   "file_extension": ".py",
   "mimetype": "text/x-python",
   "name": "python",
   "nbconvert_exporter": "python",
   "pygments_lexer": "ipython3",
   "version": "3.8.8"
  }
 },
 "nbformat": 4,
 "nbformat_minor": 5
}
