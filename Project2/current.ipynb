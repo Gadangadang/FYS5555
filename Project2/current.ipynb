{
 "cells": [
  {
   "cell_type": "markdown",
   "metadata": {},
   "source": [
    "### When running this notebook via the Galaxy portal\n",
    "You can access your data via the dataset number. Using a Python kernel, you can access dataset number 42 with ``handle = open(get(42), 'r')``.\n",
    "To save data, write your data to a file, and then call ``put('filename.txt')``. The dataset will then be available in your galaxy history.\n",
    "<br><br>Note that if you are putting/getting to/from a different history than your default history, you must also provide the history-id.\n",
    "<br><br>More information including available galaxy-related environment variables can be found at https://github.com/bgruening/docker-jupyter-notebook. This notebook is running in a docker container based on the Docker Jupyter container described in that link.\n"
   ]
  },
  {
   "cell_type": "markdown",
   "metadata": {},
   "source": [
    "# Dilepton analysis  (Python) \n"
   ]
  },
  {
   "cell_type": "markdown",
   "metadata": {},
   "source": [
    "This is an example of a simple dilepton analysis, quite similar to the notebook called \"Dilepton_analysis_noData.ipynb\", but with some differences. The most obvious difference is that we here also include real data. This example also has a slightly more advanced event selection.  \n",
    "\n",
    "**Notice:** This is *only an example* on how to do this. Feel free to be creative, and to find better and/or more elegant ways of doing the various steps! "
   ]
  },
  {
   "cell_type": "code",
   "execution_count": 1,
   "metadata": {},
   "outputs": [
    {
     "name": "stdout",
     "output_type": "stream",
     "text": [
      "Welcome to JupyROOT 6.24/02\n",
      "importing Jupyter notebook from setPath.ipynb\n",
      "importing Jupyter notebook from /storage/galaxy/jobs_directory/002/2720/working/jupyter/Input/OpenDataPandaFramework13TeV.ipynb\n",
      "This library contains handy functions to ease the access and use of the 13TeV ATLAS OpenData release\n",
      "\n",
      "getBkgCategories()\n",
      "\t Dumps the name of the various background cataegories available \n",
      "\t as well as the number of samples contained in each category.\n",
      "\t Returns a vector with the name of the categories\n",
      "\n",
      "getSamplesInCategory(cat)\n",
      "\t Dumps the name of the samples contained in a given category (cat)\n",
      "\t Returns dictionary with keys being DSIDs and values physics process name from filename.\n",
      "\n",
      "getMCCategory()\n",
      "\t Returns dictionary with keys DSID and values MC category\n",
      "\n",
      "initialize(indir)\n",
      "\t Collects all the root files available in a certain directory (indir)\n",
      "\n",
      "\n",
      "\n",
      "Setting luminosity to 10064 pb^-1\n",
      "\n",
      "###############################\n",
      "#### Background categories ####\n",
      "###############################\n",
      "Category             N(samples)\n",
      "-------------------------------\n",
      "Diboson                      10\n",
      "Higgs                        20\n",
      "Wjets                        42\n",
      "Wjetsincl                     6\n",
      "Zjets                        42\n",
      "Zjetsincl                     3\n",
      "singleTop                     6\n",
      "topX                          3\n",
      "ttbar                         1\n",
      "###############################\n",
      "#### Signal categories ####\n",
      "###############################\n",
      "Category             N(samples)\n",
      "-------------------------------\n",
      "GG_ttn1                       4\n",
      "Gee                           5\n",
      "Gmumu                         5\n",
      "RS_G_ZZ                       5\n",
      "SUSYC1C1                     10\n",
      "SUSYC1N2                     18\n",
      "SUSYSlepSlep                 14\n",
      "TT_directTT                   4\n",
      "ZPrimeee                      4\n",
      "ZPrimemumu                    4\n",
      "ZPrimett                     12\n",
      "dmV_Zll                      10\n"
     ]
    }
   ],
   "source": [
    "import ROOT as R\n",
    "import import_ipynb\n",
    "import setPath\n",
    "from os import listdir\n",
    "from os.path import isfile, join\n",
    "from Input.OpenDataPandaFramework13TeV import *\n",
    "%jsroot on"
   ]
  },
  {
   "cell_type": "markdown",
   "metadata": {},
   "source": [
    "## 1. Reading the dataset"
   ]
  },
  {
   "cell_type": "markdown",
   "metadata": {},
   "source": [
    "Set the analaysis to run (*1largeRjet1lep*, *1lep1tau*, *3lep*, *exactly2lep*, *GamGam*, *2lep*, *4lep*)\n",
    "\n",
    "Set the directory where you have downloaded the ATLAS OpenData samples you want to run over"
   ]
  },
  {
   "cell_type": "code",
   "execution_count": 2,
   "metadata": {},
   "outputs": [],
   "source": [
    "opendatadir = \"/storage/shared/data/fys5555/ATLAS_opendata/\"\n",
    "analysis = \"4lep\""
   ]
  },
  {
   "cell_type": "code",
   "execution_count": 3,
   "metadata": {},
   "outputs": [],
   "source": [
    "background = R.TChain(\"mini\")\n",
    "data = R.TChain(\"mini\")"
   ]
  },
  {
   "cell_type": "markdown",
   "metadata": {},
   "source": [
    "A list of all the background samples, category and their IDs can be found in **Infofile.txt**. The cross-section, efficiencies etc. needed for scaling are stored in the **Files_<---->**. We read these files and add all the samples to the TChain. We also (for later convenience) make a vector containing the dataset IDs. "
   ]
  },
  {
   "cell_type": "code",
   "execution_count": 4,
   "metadata": {},
   "outputs": [
    {
     "name": "stdout",
     "output_type": "stream",
     "text": [
      "###############################\n",
      "#### Background categories ####\n",
      "###############################\n",
      "Category             N(samples)\n",
      "-------------------------------\n",
      "Diboson                      10\n",
      "Higgs                        20\n",
      "Wjets                        42\n",
      "Wjetsincl                     6\n",
      "Zjets                        42\n",
      "Zjetsincl                     3\n",
      "singleTop                     6\n",
      "topX                          3\n",
      "ttbar                         1\n",
      "['Diboson', 'Higgs', 'Wjets', 'Wjetsincl', 'Zjets', 'Zjetsincl', 'singleTop', 'topX', 'ttbar']\n",
      "['Diboson', 'Higgs', 'Zjetsincl', 'ttbar']\n"
     ]
    }
   ],
   "source": [
    "mcfiles = initialize(opendatadir+\"/\"+analysis+\"/MC\")\n",
    "datafiles = initialize(opendatadir+\"/\"+analysis+\"/Data\")\n",
    "allfiles = z = {**mcfiles, **datafiles}\n",
    "Backgrounds = getBkgCategories() \n",
    "print(Backgrounds)\n",
    "skip = [2,2,2,3,3]\n",
    "for i in skip:\n",
    "    Backgrounds.pop(i)\n",
    "    \n",
    "print(Backgrounds)"
   ]
  },
  {
   "cell_type": "code",
   "execution_count": 5,
   "metadata": {},
   "outputs": [],
   "source": [
    "MCcat = {}\n",
    "for cat in allfiles:\n",
    "    for dsid in allfiles[cat][\"dsid\"]:\n",
    "        try:\n",
    "            MCcat[int(dsid)] = cat\n",
    "        except:\n",
    "            continue"
   ]
  },
  {
   "cell_type": "code",
   "execution_count": 6,
   "metadata": {},
   "outputs": [
    {
     "name": "stdout",
     "output_type": "stream",
     "text": [
      "Added 1535741 entries for backgrounds\n"
     ]
    }
   ],
   "source": [
    "dataset_IDs = []\n",
    "background.Reset()\n",
    "for b in Backgrounds:\n",
    "    i = 0\n",
    "    if not b in mcfiles.keys(): continue\n",
    "    for mc in mcfiles[b][\"files\"]:\n",
    "        if not os.path.isfile(mc): continue\n",
    "        try:\n",
    "            dataset_IDs.append(int(mcfiles[b][\"dsid\"][i]))\n",
    "            background.Add(mc)\n",
    "        except:\n",
    "            print(\"Could not get DSID for %s. Skipping\"%mc)\n",
    "        i += 1\n",
    "nen = background.GetEntries()\n",
    "print(\"Added %i entries for backgrounds\"%(nen))"
   ]
  },
  {
   "cell_type": "code",
   "execution_count": 7,
   "metadata": {},
   "outputs": [
    {
     "name": "stdout",
     "output_type": "stream",
     "text": [
      "Added 832 entries for backgrounds\n"
     ]
    }
   ],
   "source": [
    "data.Reset(); \n",
    "for d in datafiles[\"data\"][\"files\"]:  \n",
    "    if not os.path.isfile(d): continue\n",
    "    data.Add(d)\n",
    "nen = data.GetEntries()\n",
    "print(\"Added %i entries for backgrounds\"%(nen))"
   ]
  },
  {
   "cell_type": "markdown",
   "metadata": {},
   "source": [
    "## 2. Making (a lot of) histograms"
   ]
  },
  {
   "cell_type": "markdown",
   "metadata": {},
   "source": [
    "Now that we have read our dataset we want to start analyzing the data. To do so we need to put the data into histograms. For reasons that will become clear later in the analysis we must (for each variable) make one histogram per dataset ID. (We have 31 background samples, so if we want to study 10 variables we have to make 310 histograms!) For best dealing with all these histograms we can use dictionaries (Python) or maps (C++). "
   ]
  },
  {
   "cell_type": "code",
   "execution_count": 8,
   "metadata": {},
   "outputs": [],
   "source": [
    "hist_mll = {}; hist_lep_pt = {}; hist_met = {}; hist_dilep1 = {}; hist_dilep2 = {};\n",
    "binsize = 50\n",
    "min_v = 80\n",
    "max_v = 250"
   ]
  },
  {
   "cell_type": "code",
   "execution_count": 9,
   "metadata": {},
   "outputs": [],
   "source": [
    "for i in dataset_IDs: \n",
    "    hist_mll[i] = R.TH1F() \n",
    "    hist_lep_pt[i] = R.TH1F()\n",
    "    hist_met[i] = R.TH1F()\n",
    "    hist_dilep1[i] = R.TH1F()\n",
    "    hist_dilep2[i] = R.TH1F()"
   ]
  },
  {
   "cell_type": "code",
   "execution_count": 10,
   "metadata": {},
   "outputs": [],
   "source": [
    "for i in dataset_IDs: \n",
    "    hist_mll[i].SetNameTitle(\"hist_mllll\", \"Invariant mass\"); \n",
    "    hist_lep_pt[i].SetNameTitle(\"hist_lep_pt\", \"Lepton pT\"); \n",
    "    hist_met[i].SetNameTitle(\"hist_met\", \"Missing ET\");\n",
    "    hist_dilep1[i].SetNameTitle(\"hist_dilep1\", \"Invariant mass\");\n",
    "    hist_dilep2[i].SetNameTitle(\"hist_dilep2\", \"Invariant mass\");\n",
    "    \n",
    "    hist_mll[i].SetBins(binsize,min_v,max_v); \n",
    "    hist_dilep1[i].SetBins(binsize,min_v-60,max_v); \n",
    "    hist_dilep2[i].SetBins(binsize,min_v-60,max_v); \n",
    "    hist_lep_pt[i].SetBins(20,0,1000);\n",
    "    hist_met[i].SetBins(20,0,500); "
   ]
  },
  {
   "cell_type": "markdown",
   "metadata": {},
   "source": [
    "For data it is only necessary with one histogram for each variable: "
   ]
  },
  {
   "cell_type": "code",
   "execution_count": 11,
   "metadata": {},
   "outputs": [],
   "source": [
    "hist_mll_d = R.TH1F(); \n",
    "hist_lep_pt_d = R.TH1F(); \n",
    "hist_met_d = R.TH1F();\n",
    "hist_dilep1_d = R.TH1F(); \n",
    "hist_dilep2_d = R.TH1F();"
   ]
  },
  {
   "cell_type": "code",
   "execution_count": 12,
   "metadata": {},
   "outputs": [],
   "source": [
    "hist_mll_d.SetNameTitle(\"hist_mllll\", \"Invariant mass\"); \n",
    "hist_lep_pt_d.SetNameTitle(\"hist_lep_pt\", \"Lepton pT\"); \n",
    "hist_met_d.SetNameTitle(\"hist_met\", \"Missing ET\");\n",
    "hist_dilep1_d.SetNameTitle(\"hist_dilep1\", \"Invariant mass\");\n",
    "hist_dilep2_d.SetNameTitle(\"hist_dilep2\", \"Invariant mass\");\n",
    "hist_mll_d.SetBins(binsize,min_v,max_v); \n",
    "hist_dilep1_d.SetBins(binsize,min_v-60,max_v); \n",
    "hist_dilep2_d.SetBins(binsize,min_v-60,max_v); \n",
    "hist_lep_pt_d.SetBins(20,0,1000);\n",
    "hist_met_d.SetBins(20,0,500); "
   ]
  },
  {
   "cell_type": "code",
   "execution_count": 13,
   "metadata": {},
   "outputs": [
    {
     "name": "stdout",
     "output_type": "stream",
     "text": [
      "no stored variable or alias lumi\n"
     ]
    }
   ],
   "source": [
    "# Retrieve lumi from library\n",
    "%store -r lumi"
   ]
  },
  {
   "cell_type": "markdown",
   "metadata": {},
   "source": [
    "### 2.1 Fill the histograms \n",
    "We can now loop over all events in our dataset, implement desired cuts, and fill the histograms we created above. In this example we choose only events containing exactly to same flavour leptons with opposite charge (i.e. $e^+e^-$ or $\\mu^+\\mu^-$). \n",
    "Before starting the loop we extract the total number of entries (events) in the TChain. We also make [TLorentzVector](https://root.cern.ch/doc/master/classTLorentzVector.html)s, which are very practical for handling the kinematics of the leptons, e.g. calculating the invariant mass of the two leptons. "
   ]
  },
  {
   "cell_type": "code",
   "execution_count": 14,
   "metadata": {},
   "outputs": [],
   "source": [
    "for i in dataset_IDs: \n",
    "    hist_mll[i].Reset(); \n",
    "    hist_lep_pt[i].Reset(); \n",
    "    hist_met[i].Reset();\n",
    "    hist_dilep1[i].Reset();\n",
    "    hist_dilep2[i].Reset();"
   ]
  },
  {
   "cell_type": "code",
   "execution_count": 15,
   "metadata": {},
   "outputs": [],
   "source": [
    "hist_mll_d.Reset(); \n",
    "hist_lep_pt_d.Reset(); \n",
    "hist_met_d.Reset(); \n",
    "hist_dilep1_d.Reset();\n",
    "hist_dilep2_d.Reset();"
   ]
  },
  {
   "cell_type": "code",
   "execution_count": 16,
   "metadata": {},
   "outputs": [],
   "source": [
    "l1 = R.TLorentzVector() \n",
    "l2 = R.TLorentzVector() \n",
    "l3 = R.TLorentzVector() \n",
    "l4 = R.TLorentzVector()\n",
    "\n",
    "fourleptons = R.TLorentzVector() \n",
    "dilepton1 = R.TLorentzVector()\n",
    "dilepton2 = R.TLorentzVector()\n",
    "\n",
    "p1 = R.TLorentzVector()\n",
    "p2 = R.TLorentzVector()\n",
    "p3 = R.TLorentzVector()\n",
    "p4 = R.TLorentzVector()\n",
    "\n",
    "\n",
    "def get_mass(lep_pair):\n",
    "    a, b = lep_pair\n",
    "    dilep = a + b\n",
    "    mass = dilep.M()\n",
    "    return mass\n"
   ]
  },
  {
   "cell_type": "markdown",
   "metadata": {},
   "source": [
    "This is the cell where the analysis is performed. Note that the cell needs to be run twice:\n",
    "\n",
    "1. with data = 0 to run over MC\n",
    "2. with data = 1 to run over data\n",
    "\n",
    "Note that the MC running takes ~5 minutes for 3lep analysis. Much(!!!) more time for e.g. 2lep analysis! Data running is relatively fast for 3lep. "
   ]
  },
  {
   "cell_type": "code",
   "execution_count": 18,
   "metadata": {},
   "outputs": [
    {
     "name": "stdout",
     "output_type": "stream",
     "text": [
      "Total events 100000/1535741\n",
      "Total events 200000/1535741\n",
      "Total events 300000/1535741\n",
      "Total events 400000/1535741\n",
      "Total events 500000/1535741\n",
      "Total events 600000/1535741\n",
      "Total events 700000/1535741\n",
      "Total events 800000/1535741\n",
      "Total events 900000/1535741\n",
      "Total events 1000000/1535741\n",
      "Total events 1100000/1535741\n",
      "Total events 1200000/1535741\n",
      "Total events 1300000/1535741\n",
      "Total events 1400000/1535741\n",
      "Total events 1500000/1535741\n",
      "Done!\n",
      "Remebered to run over data? No? Set data = 1 at the top and run again\n",
      "CPU times: user 4min 46s, sys: 1.1 s, total: 4min 47s\n",
      "Wall time: 4min 48s\n"
     ]
    }
   ],
   "source": [
    "%%time\n",
    "import time\n",
    "isData = 0; \n",
    "\n",
    "if isData == 1: ds = data \n",
    "else: ds = background    \n",
    "\n",
    "legal_flavor_tot = [13*4, 11*4, 11*2 + 13*2]\n",
    "z_mass = 91.1876\n",
    "i = 0   \n",
    "for event in ds: \n",
    "    \n",
    "    if i%100000 == 0 and i>0: \n",
    "        print(\"Total events %i/%i\"%(i,ds.GetEntries()))\n",
    "    i += 1 \n",
    "    ## Data quality cuts: \n",
    "    \n",
    "    \n",
    "    #if i > 10000: break\n",
    "    \n",
    "    #if ds.passGRL == 0: continue\n",
    "    #if ds.hasGoodVertex == 0: continue\n",
    "    #if(trigM == 0 && trigE == 0){ continue; } \n",
    "\n",
    "    ## Event selection:\n",
    "    \n",
    "    ## Cut #1: Require (exactly) 2 leptons\n",
    "    if not ds.lep_n == 4: continue\n",
    "    ## Cut #2: Require opposite charge\n",
    "    if not ds.lep_charge[0] + ds.lep_charge[1] + ds.lep_charge[2] + ds.lep_charge[3] == 0 : continue\n",
    "    \n",
    "    ## Cut #3: Require same flavour (2 electrons or 2 muons)\n",
    "    if not ds.lep_type[0] + ds.lep_type[1] + ds.lep_type[2] + ds.lep_type[3] in legal_flavor_tot: continue\n",
    "\n",
    "    \n",
    "    ## Require \"good leptons\": \n",
    "    \"\"\"\n",
    "    if ds.lep_pt[0]/1000.0 < 25: continue\n",
    "    if ds.lep_etcone20[0]/ds.lep_pt[0] > 0.15: continue\n",
    "    if ds.lep_ptcone30[0]/ds.lep_pt[0] > 0.15: continue\n",
    "    #if not (ds.lep_flag[0] & 512): continue\n",
    "        \n",
    "    if ds.lep_pt[1]/1000.0 < 25: continue\n",
    "    if ds.lep_etcone20[1]/ds.lep_pt[1] > 0.15: continue\n",
    "    if ds.lep_ptcone30[1]/ds.lep_pt[1] > 0.15: continue\n",
    "    #if not (ds.lep_flag[1] & 512): continue\n",
    "    \"\"\"\n",
    "    for lep in range(4):\n",
    "        if abs(ds.lep_eta[lep]) > 2.5: continue\n",
    "        if ds.lep_pt[lep]/1000.0 < 10: continue\n",
    "        \n",
    "    \n",
    "    \n",
    "    ## Set Lorentz vectors: \n",
    "    l1.SetPtEtaPhiE(ds.lep_pt[0]/1000., ds.lep_eta[0], ds.lep_phi[0], ds.lep_E[0]/1000.);\n",
    "    l2.SetPtEtaPhiE(ds.lep_pt[1]/1000., ds.lep_eta[1], ds.lep_phi[1], ds.lep_E[1]/1000.);\n",
    "    l3.SetPtEtaPhiE(ds.lep_pt[2]/1000., ds.lep_eta[2], ds.lep_phi[2], ds.lep_E[2]/1000.);\n",
    "    l4.SetPtEtaPhiE(ds.lep_pt[3]/1000., ds.lep_eta[3], ds.lep_phi[3], ds.lep_E[3]/1000.);\n",
    "    ## Variables are stored in the TTree with unit MeV, so we need to divide by 1000 \n",
    "    ## to get GeV, which is a more practical and commonly used unit. \n",
    "    \n",
    "    ## Find dilepton pair mass\n",
    "    lep_list = [l1, l2, l3, l4]\n",
    "    mass_arr = []\n",
    "    \n",
    "    res = [(a, b) for idx, a in enumerate(lep_list) for b in lep_list[idx + 1:]]\n",
    "    \n",
    "    \n",
    "    \n",
    "    for pair in res:\n",
    "        mass = get_mass(pair)\n",
    "        mass_arr.append((mass, pair[0], pair[1]))\n",
    "    \n",
    "    best = 100\n",
    "    comp1 = l1\n",
    "    comp2 = l2\n",
    "    \n",
    "    \n",
    "    for index, value in enumerate(mass_arr):\n",
    "        mass, companion1, companion2 = value\n",
    "        if mass < best:\n",
    "            best = mass\n",
    "            comp1 = companion1\n",
    "            comp2 = companion2\n",
    "            \n",
    "    lep_list.remove(comp1)\n",
    "    lep_list.remove(comp2)\n",
    "    \n",
    "    dilepton1 = comp1 + comp2\n",
    "    dilepton2 = lep_list[0] + lep_list[1]\n",
    "    \n",
    "\n",
    "    \n",
    "    fourleptons = l1 + l2 + l3 + l4;   \n",
    "\n",
    "    if isData == 1:\n",
    "        hist_mll_d.Fill(fourleptons.M());\n",
    "        hist_lep_pt_d.Fill(l1.Pt());\n",
    "        hist_lep_pt_d.Fill(l2.Pt());\n",
    "        hist_lep_pt_d.Fill(l3.Pt());\n",
    "        hist_lep_pt_d.Fill(l4.Pt());\n",
    "        hist_met_d.Fill(ds.met_et/1000);\n",
    "        hist_dilep1_d.Fill(dilepton1.M());\n",
    "        hist_dilep2_d.Fill(dilepton2.M());\n",
    "    else: \n",
    "        W = ((ds.mcWeight)*(ds.scaleFactor_PILEUP)*\n",
    "             (ds.scaleFactor_ELE)*(ds.scaleFactor_MUON)*\n",
    "             (ds.scaleFactor_BTAG)*(ds.scaleFactor_LepTRIGGER))*((ds.XSection*lumi)/ds.SumWeights)\n",
    "        hist_mll[ds.channelNumber].Fill(fourleptons.M(), W);\n",
    "        hist_lep_pt[ds.channelNumber].Fill(l1.Pt(), W);\n",
    "        hist_lep_pt[ds.channelNumber].Fill(l2.Pt(), W); \n",
    "        hist_lep_pt[ds.channelNumber].Fill(l3.Pt(), W);\n",
    "        hist_lep_pt[ds.channelNumber].Fill(l4.Pt(), W);\n",
    "        hist_met[ds.channelNumber].Fill(ds.met_et/1000, W);\n",
    "        hist_dilep1[ds.channelNumber].Fill(dilepton1.M(), W);\n",
    "        hist_dilep2[ds.channelNumber].Fill(dilepton2.M(), W);\n",
    "        \n",
    "print(\"Done!\")\n",
    "if isData == 0:\n",
    "    print(\"Remebered to run over data? No? Set data = 1 at the top and run again\")\n",
    "else:\n",
    "    print(\"Remebered to run over MC? No? Set data = 0 at the top and run again\")"
   ]
  },
  {
   "cell_type": "markdown",
   "metadata": {},
   "source": [
    "## 3. Scale and classify the histograms (MC only) "
   ]
  },
  {
   "cell_type": "markdown",
   "metadata": {
    "tags": []
   },
   "source": [
    "Before we are ready to make plots we need to do some further processing of the histograms we made above. The information necessary for doing the two steps below is found in the file **Infofile.txt**.   \n",
    "1. We need to **scale** the histograms to the right cross section and luminosity. Why? When making the MC samples a certain number of events is simulated, which will usually not correspond to the number of events in our data. The expected number of events from a certain kind of process is given by $N=\\sigma L$, where $\\sigma$ is the cross section and $L$ is the integrated luminosity. Therefore we need to scale each histogram by a scale factor <br> <br>\n",
    "$$sf = \\frac{N}{N_{MC}} = \\frac{ \\sigma L }{N_{MC}},$$ <br>  where $N_{MC}$ is the number of generated MC events.  <br> <br>\n",
    "2. We also need to **classify** the background processes into different categories. This is necessary when we eventually want to make the characteristic colorful background plots you might have seen before.  "
   ]
  },
  {
   "cell_type": "markdown",
   "metadata": {
    "tags": []
   },
   "source": [
    "### 3.1 Make new histograms \n",
    "Maybe a bit depressingly we have to make a set of new histograms, this time corresponding to the different background categories, instead of the dataset IDs. Notice that these new histograms are made in a very similar way as above, i.e. with the same range and binning. "
   ]
  },
  {
   "cell_type": "code",
   "execution_count": 19,
   "metadata": {},
   "outputs": [],
   "source": [
    "H_mll = {}; H_lep_pt = {}; H_met = {}; H_dilep1 = {}; H_dilep2 = {};"
   ]
  },
  {
   "cell_type": "code",
   "execution_count": 20,
   "metadata": {},
   "outputs": [],
   "source": [
    "L = 10.06"
   ]
  },
  {
   "cell_type": "code",
   "execution_count": 21,
   "metadata": {},
   "outputs": [],
   "source": [
    "for i in Backgrounds: \n",
    "    H_mll[i] = R.TH1F() \n",
    "    H_lep_pt[i] = R.TH1F() \n",
    "    H_met[i] = R.TH1F()\n",
    "    H_dilep1[i] = R.TH1F()\n",
    "    H_dilep2[i] = R.TH1F()"
   ]
  },
  {
   "cell_type": "code",
   "execution_count": 22,
   "metadata": {},
   "outputs": [],
   "source": [
    "for i in Backgrounds: \n",
    "    H_mll[i].SetNameTitle(\"hist_mllll\", \"Invariant mass\"); \n",
    "    H_lep_pt[i].SetNameTitle(\"hist_lep_pt\", \"Lepton pT\"); \n",
    "    H_met[i].SetNameTitle(\"hist_met\", \"Missing ET\");\n",
    "    H_dilep1[i].SetNameTitle(\"hist_dilep1\", \"Invariant mass\"); \n",
    "    H_dilep2[i].SetNameTitle(\"hist_dilep2\", \"Invariant mass\"); \n",
    "    \n",
    "    H_mll[i].SetBins(binsize,min_v,max_v); \n",
    "    H_lep_pt[i].SetBins(20,0,1000);\n",
    "    H_met[i].SetBins(20,0,500); \n",
    "    H_dilep1[i].SetBins(binsize,min_v-60,max_v); \n",
    "    H_dilep2[i].SetBins(binsize,min_v-60,max_v); "
   ]
  },
  {
   "cell_type": "markdown",
   "metadata": {},
   "source": [
    "### 3.2 Scale and add histograms \n",
    "Now we read our info file, scale all (old) histograms, and then add them to the new histograms we just defined.  "
   ]
  },
  {
   "cell_type": "code",
   "execution_count": 23,
   "metadata": {},
   "outputs": [],
   "source": [
    "for i in Backgrounds: \n",
    "    H_mll[i].Reset(); \n",
    "    H_lep_pt[i].Reset(); \n",
    "    H_met[i].Reset();\n",
    "    H_dilep1[i].Reset();\n",
    "    H_dilep2[i].Reset();"
   ]
  },
  {
   "cell_type": "code",
   "execution_count": null,
   "metadata": {},
   "outputs": [],
   "source": [
    "for dsid in hist_mll.keys():\n",
    "    \n",
    "    Type = MCcat[dsid]\n",
    "    \n",
    "    H_mll[Type].Add(hist_mll[dsid]); \n",
    "    H_lep_pt[Type].Add(hist_lep_pt[dsid]); \n",
    "    H_met[Type].Add(hist_met[dsid]); \n",
    "    H_dilep1[Type].Add(hist_dilep1[dsid]);\n",
    "    H_dilep2[Type].Add(hist_dilep2[dsid]);\n",
    "    \n",
    "infofile.close()"
   ]
  },
  {
   "cell_type": "markdown",
   "metadata": {},
   "source": [
    "### 3.3 Color the histograms \n",
    "Make yet another map, this time containing the colors you want the backgrounds to have, and then set the colors of your histograms. Note that colors are defined by integers in ROOT. If you are not happy with the colors chosen below you can have look at the [TColor](https://root.cern.ch/doc/master/classTColor.html) class reference for more options. "
   ]
  },
  {
   "cell_type": "code",
   "execution_count": null,
   "metadata": {},
   "outputs": [],
   "source": [
    "colors = {}"
   ]
  },
  {
   "cell_type": "code",
   "execution_count": null,
   "metadata": {},
   "outputs": [],
   "source": [
    "colors[\"Diboson\"] = R.kGreen; \n",
    "colors[\"Zjets\"] = R.kYellow; \n",
    "colors[\"ttbar\"] = R.kRed;\n",
    "colors[\"singleTop\"] = R.kBlue-7; \n",
    "colors[\"Wjets\"] = R.kBlue+3; \n",
    "colors[\"topX\"] = R.kOrange+1; \n",
    "colors[\"Higgs\"] = R.kMagenta; \n",
    "colors[\"Wjetsincl\"] = R.kBlue-10;\n",
    "colors[\"Zjetsincl\"] = R.kYellow-9;"
   ]
  },
  {
   "cell_type": "code",
   "execution_count": null,
   "metadata": {},
   "outputs": [],
   "source": [
    "for h in Backgrounds: \n",
    "    H_mll[h].SetFillColor(colors[h]); \n",
    "    H_met[h].SetFillColor(colors[h]);\n",
    "    H_lep_pt[h].SetFillColor(colors[h]);\n",
    "    H_dilep1[h].SetFillColor(colors[h]);\n",
    "    H_dilep2[h].SetFillColor(colors[h]);\n",
    "    \n",
    "    H_mll[h].SetLineColor(colors[h]); \n",
    "    H_met[h].SetLineColor(colors[h]);\n",
    "    H_lep_pt[h].SetLineColor(colors[h]);\n",
    "    H_dilep1[h].SetLineColor(colors[h]);\n",
    "    H_dilep2[h].SetLineColor(colors[h]);"
   ]
  },
  {
   "cell_type": "markdown",
   "metadata": {},
   "source": [
    "## 4. Stack and plot the histograms"
   ]
  },
  {
   "cell_type": "markdown",
   "metadata": {},
   "source": [
    "Finally we have arrived to the part where we can plot the results of all the work done above. For each variable we need to stack the backgrounds on top of each other, which is done by using the [THStack](https://root.cern.ch/doc/master/classTHStack.html) class. In the example below we do this for two variables; invariant mass and missing $E_T$.   "
   ]
  },
  {
   "cell_type": "code",
   "execution_count": null,
   "metadata": {},
   "outputs": [],
   "source": [
    "stack_mll = R.THStack(\"Invariant mass 4l\", \"\");\n",
    "stack_met = R.THStack(\"Missing ET\", \"\"); \n",
    "stack_lep_pt = R.THStack(\"Lepton pT\", \"\"); \n",
    "stack_dilep1 = R.THStack(\"Invariant mass 2l\", \"\");\n",
    "stack_dilep2 = R.THStack(\"Invariant mass 2l\", \"\");"
   ]
  },
  {
   "cell_type": "code",
   "execution_count": null,
   "metadata": {},
   "outputs": [],
   "source": [
    "for h in Backgrounds: \n",
    "    stack_mll.RecursiveRemove(H_mll[h]); ## Remove previously stacked histograms  \n",
    "    stack_met.RecursiveRemove(H_met[h]);\n",
    "    stack_lep_pt.RecursiveRemove(H_lep_pt[h]);\n",
    "    stack_dilep1.RecursiveRemove(H_dilep1[h]);\n",
    "    stack_dilep2.RecursiveRemove(H_dilep2[h]);\n",
    "\n",
    "    stack_mll.Add(H_mll[h]); \n",
    "    stack_met.Add(H_met[h]);\n",
    "    stack_lep_pt.Add(H_lep_pt[h]); \n",
    "    stack_dilep1.Add(H_dilep1[h]);\n",
    "    stack_dilep2.Add(H_dilep2[h]);"
   ]
  },
  {
   "cell_type": "markdown",
   "metadata": {},
   "source": [
    "Now we make a legend (see [TLegend](https://root.cern.ch/doc/master/classTLegend.html)), and add  the different backgrounds. Next we make a canvas (see [TCanvas](https://root.cern.ch/doc/master/classTCanvas.html)), which is allways necessary when we want to make a plot. Then you draw the stack and the legend, and display them by drawing the canvas. We can also specify axis labels and a bunch of other stuff. "
   ]
  },
  {
   "cell_type": "code",
   "execution_count": null,
   "metadata": {},
   "outputs": [],
   "source": [
    "R.gStyle.SetLegendBorderSize(0); ## Remove (default) border around legend \n",
    "leg = R.TLegend(0.65, 0.60, 0.9, 0.85); "
   ]
  },
  {
   "cell_type": "code",
   "execution_count": null,
   "metadata": {},
   "outputs": [],
   "source": [
    "leg.Clear();\n",
    "for i in Backgrounds: \n",
    "    leg.AddEntry(H_mll[i], i, \"f\")  ## Add your histograms to the legend\n",
    "leg.AddEntry(hist_mll_d, \"Data\", \"lep\") "
   ]
  },
  {
   "cell_type": "code",
   "execution_count": null,
   "metadata": {},
   "outputs": [],
   "source": [
    "C = R.TCanvas(\"c\", \"c\", 600, 600)"
   ]
  },
  {
   "cell_type": "code",
   "execution_count": null,
   "metadata": {},
   "outputs": [],
   "source": [
    "R.gPad.SetLogy() ## Set logarithmic y-axis"
   ]
  },
  {
   "cell_type": "code",
   "execution_count": null,
   "metadata": {},
   "outputs": [],
   "source": [
    "hist_mll_d.SetLineColor(R.kBlack); \n",
    "hist_mll_d.SetMarkerStyle(R.kFullCircle); \n",
    "hist_mll_d.SetMarkerColor(R.kBlack); "
   ]
  },
  {
   "cell_type": "code",
   "execution_count": null,
   "metadata": {},
   "outputs": [],
   "source": [
    "stack_mll.Draw(\"hist\"); \n",
    "stack_mll.SetMaximum(1E3); \n",
    "stack_mll.SetMinimum(1); \n",
    "stack_mll.GetYaxis().SetTitle(\"# events\");\n",
    "stack_mll.GetYaxis().SetTitleOffset(1.3); \n",
    "stack_mll.GetXaxis().SetTitle(\"m_{llll} (GeV)\");\n",
    "stack_mll.GetXaxis().SetTitleOffset(1.3);\n",
    "hist_mll_d.Draw(\"same E\"); \n",
    "leg.Draw();\n",
    "C.SaveAs(\"mlll.pdf\")\n",
    "C.Draw();"
   ]
  },
  {
   "cell_type": "code",
   "execution_count": null,
   "metadata": {},
   "outputs": [],
   "source": [
    "hist_met_d.SetLineColor(R.kBlack); \n",
    "hist_met_d.SetMarkerStyle(R.kFullCircle); \n",
    "hist_met_d.SetMarkerColor(R.kBlack); "
   ]
  },
  {
   "cell_type": "code",
   "execution_count": null,
   "metadata": {},
   "outputs": [],
   "source": [
    "stack_met.Draw(\"hist\"); \n",
    "stack_met.SetMaximum(1E6); \n",
    "stack_met.GetYaxis().SetTitle(\"# events\");\n",
    "stack_met.GetYaxis().SetTitleOffset(1.3); \n",
    "stack_met.GetXaxis().SetTitle(\"E_{T}^{miss} (GeV)\");\n",
    "stack_met.GetXaxis().SetTitleOffset(1.3);\n",
    "hist_met_d.Draw(\"same e\"); \n",
    "leg.Draw();\n",
    "C.Draw(); "
   ]
  },
  {
   "cell_type": "code",
   "execution_count": null,
   "metadata": {},
   "outputs": [],
   "source": [
    "hist_lep_pt_d.SetLineColor(R.kBlack); \n",
    "hist_lep_pt_d.SetMarkerStyle(R.kFullCircle); \n",
    "hist_lep_pt_d.SetMarkerColor(R.kBlack); "
   ]
  },
  {
   "cell_type": "code",
   "execution_count": null,
   "metadata": {},
   "outputs": [],
   "source": [
    "stack_lep_pt.Draw(\"hist\"); \n",
    "stack_lep_pt.SetMaximum(1E6); \n",
    "stack_lep_pt.GetYaxis().SetTitle(\"# events\");\n",
    "stack_lep_pt.GetYaxis().SetTitleOffset(1.3); \n",
    "stack_lep_pt.GetXaxis().SetTitle(\"p_{T} (GeV)\");\n",
    "stack_lep_pt.GetXaxis().SetTitleOffset(1.3);\n",
    "hist_lep_pt_d.Draw(\"same e\"); \n",
    "leg.Draw();\n",
    "C.Draw(); "
   ]
  },
  {
   "cell_type": "code",
   "execution_count": null,
   "metadata": {},
   "outputs": [],
   "source": [
    "hist_dilep1.SetLineColor(R.kBlack); \n",
    "hist_dilep1.SetMarkerStyle(R.kFullCircle); \n",
    "hist_dilep1.SetMarkerColor(R.kBlack); "
   ]
  },
  {
   "cell_type": "code",
   "execution_count": null,
   "metadata": {},
   "outputs": [],
   "source": [
    "stack_dilep1.Draw(\"hist\"); \n",
    "stack_dilep1.SetMaximum(1E3); \n",
    "stack_dilep1.SetMinimum(1); \n",
    "stack_dilep1.GetYaxis().SetTitle(\"# events\");\n",
    "stack_dilep1.GetYaxis().SetTitleOffset(1.3); \n",
    "stack_dilep1.GetXaxis().SetTitle(\"m_{llll} (GeV)\");\n",
    "stack_dilep1.GetXaxis().SetTitleOffset(1.3);\n",
    "hist_dilep1.Draw(\"same E\"); \n",
    "leg.Draw();\n",
    "C.SaveAs(\"mll1.pdf\")\n",
    "C.Draw();"
   ]
  },
  {
   "cell_type": "code",
   "execution_count": null,
   "metadata": {},
   "outputs": [],
   "source": [
    "hist_dilep2.SetLineColor(R.kBlack); \n",
    "hist_dilep2.SetMarkerStyle(R.kFullCircle); \n",
    "hist_dilep2.SetMarkerColor(R.kBlack); "
   ]
  },
  {
   "cell_type": "code",
   "execution_count": null,
   "metadata": {},
   "outputs": [],
   "source": [
    "stack_dilep2.Draw(\"hist\"); \n",
    "stack_dilep2.SetMaximum(1E3); \n",
    "stack_dilep2.SetMinimum(1); \n",
    "stack_dilep2.GetYaxis().SetTitle(\"# events\");\n",
    "stack_dilep2.GetYaxis().SetTitleOffset(1.3); \n",
    "stack_dilep2.GetXaxis().SetTitle(\"m_{llll} (GeV)\");\n",
    "stack_dilep2.GetXaxis().SetTitleOffset(1.3);\n",
    "hist_dilep2.Draw(\"same E\"); \n",
    "leg.Draw();\n",
    "C.SaveAs(\"mll2.pdf\")\n",
    "C.Draw();"
   ]
  }
 ],
 "metadata": {
  "kernelspec": {
   "display_name": "Python 3 (ipykernel)",
   "language": "python",
   "name": "python3"
  },
  "language_info": {
   "codemirror_mode": {
    "name": "ipython",
    "version": 3
   },
   "file_extension": ".py",
   "mimetype": "text/x-python",
   "name": "python",
   "nbconvert_exporter": "python",
   "pygments_lexer": "ipython3",
   "version": "3.7.4"
  }
 },
 "nbformat": 4,
 "nbformat_minor": 4
}
